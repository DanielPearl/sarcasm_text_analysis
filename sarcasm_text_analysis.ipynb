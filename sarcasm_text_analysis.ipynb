{
 "cells": [
  {
   "cell_type": "markdown",
   "metadata": {
    "id": "5Z_m9AHk1Ims"
   },
   "source": [
    "# Load Packages"
   ]
  },
  {
   "cell_type": "code",
   "execution_count": 1,
   "metadata": {
    "colab": {
     "base_uri": "https://localhost:8080/"
    },
    "id": "w25IFB68xZcl",
    "outputId": "f938be1a-469c-4fed-d5d2-f94d5ad84e8a"
   },
   "outputs": [
    {
     "name": "stderr",
     "output_type": "stream",
     "text": [
      "[nltk_data] Downloading package punkt to\n",
      "[nltk_data]     /Users/danielpearl/nltk_data...\n",
      "[nltk_data]   Package punkt is already up-to-date!\n",
      "[nltk_data] Downloading package wordnet to\n",
      "[nltk_data]     /Users/danielpearl/nltk_data...\n",
      "[nltk_data]   Package wordnet is already up-to-date!\n"
     ]
    },
    {
     "data": {
      "text/plain": [
       "True"
      ]
     },
     "execution_count": 1,
     "metadata": {},
     "output_type": "execute_result"
    }
   ],
   "source": [
    "import matplotlib.pyplot as plt\n",
    "import numpy as np\n",
    "import pandas as pd\n",
    "import re\n",
    "import seaborn as sns\n",
    "import string\n",
    "import tweepy as tw\n",
    "\n",
    "# nltk packages\n",
    "import nltk\n",
    "from nltk.corpus import stopwords\n",
    "from nltk.stem.wordnet import WordNetLemmatizer\n",
    "from nltk.tokenize import sent_tokenize, word_tokenize\n",
    "from nltk.stem import WordNetLemmatizer\n",
    "\n",
    "# Sklearn packages\n",
    "from sklearn.feature_extraction.text import CountVectorizer, TfidfVectorizer\n",
    "from sklearn.metrics import confusion_matrix, classification_report, accuracy_score, f1_score\n",
    "from sklearn.model_selection import train_test_split, cross_val_score\n",
    "from sklearn.naive_bayes import MultinomialNB\n",
    "from sklearn.pipeline import Pipeline\n",
    "from sklearn.svm import SVC\n",
    "from sklearn.linear_model import LogisticRegression\n",
    "from sklearn.svm import SVC\n",
    "from sklearn.ensemble import RandomForestClassifier\n",
    "import numpy as np\n",
    "from sklearn.datasets import load_digits\n",
    "\n",
    "nltk.download('punkt')\n",
    "nltk.download('wordnet')\n"
   ]
  },
  {
   "cell_type": "markdown",
   "metadata": {},
   "source": [
    "## Extract Twitter Data using Tweepy API"
   ]
  },
  {
   "cell_type": "code",
   "execution_count": null,
   "metadata": {},
   "outputs": [],
   "source": [
    "'''\n",
    "#Instantiate tweepy API --- API keys have been removed \n",
    "consumer_key= 'TKlbEydyWnvDXXXXXXXXX'\n",
    "consumer_secret= 'AsmEHtBqdsOw3vWXiqfXXXXXXXXX'\n",
    "access_token= '44821419-FvKUyjDgtQA2KzWNqjhzXXXXXXXXXXX'\n",
    "access_token_secret= 'Bdj79RfElHp5CQm3CirblXXXXXXXXXXXXXXXX'\n",
    "\n",
    "auth = tw.OAuthHandler(consumer_key, consumer_secret)\n",
    "auth.set_access_token(access_token, access_token_secret)\n",
    "api = tw.API(auth, wait_on_rate_limit=True)\n",
    "\n",
    "# Define the search term and the date_since date as variables\n",
    "search_words = \"#news\"\n",
    "'''"
   ]
  },
  {
   "cell_type": "code",
   "execution_count": null,
   "metadata": {},
   "outputs": [],
   "source": [
    "''''\n",
    "# Collect tweets\n",
    "tweets = tw.Cursor(api.search,\n",
    "              q=search_words,\n",
    "              lang=\"en\",\n",
    "              tweet_mode = \"extended\",  \n",
    "              include_rts=False,).items(3000) "
   ]
  },
  {
   "cell_type": "code",
   "execution_count": null,
   "metadata": {},
   "outputs": [],
   "source": [
    "''''\n",
    "#save tweets\n",
    "searched_tweets = [status._json for status in tweets]\n",
    "json_strings = [json.dumps(json_obj) for json_obj in searched_tweets]  \n"
   ]
  },
  {
   "cell_type": "code",
   "execution_count": null,
   "metadata": {},
   "outputs": [],
   "source": [
    "''''\n",
    "# Write to json file\n",
    "with open(\"news.json\", \"w\", encoding='utf8') as f: \n",
    "    f.write('[')\n",
    "    for i,x in enumerate(json_strings):\n",
    "        f.write(x)\n",
    "        if i != len(json_strings) - 1:\n",
    "            f.write(\",\")\n",
    "        \n",
    "    f.write(']')"
   ]
  },
  {
   "cell_type": "code",
   "execution_count": null,
   "metadata": {},
   "outputs": [],
   "source": [
    "\n",
    "# Open json file 'read'\n",
    "#with open('news.json', 'r') as tweetfile:\n",
    " # newstweets = json.loads(tweetfile.read())"
   ]
  },
  {
   "cell_type": "code",
   "execution_count": null,
   "metadata": {},
   "outputs": [],
   "source": [
    "# Save tweets into pd dataframe\n",
    "#news_tweets = pd.read_json('news.json')\n",
    "#print(news_tweets.head())"
   ]
  },
  {
   "cell_type": "code",
   "execution_count": null,
   "metadata": {},
   "outputs": [],
   "source": [
    "# Save to csv file to distribute to the rest of the groupmembers\n",
    "#news_tweets.to_csv('news_tweet.csv', index = False)\n"
   ]
  },
  {
   "cell_type": "markdown",
   "metadata": {
    "id": "Fg_ojV4I1FMV"
   },
   "source": [
    "# Read Files"
   ]
  },
  {
   "cell_type": "code",
   "execution_count": 16,
   "metadata": {
    "id": "W0_LzsfLxTHp"
   },
   "outputs": [],
   "source": [
    "# Read in files\n",
    "file_path = \"/Downloads/IST736_Project/\"\n",
    "reddit_comments_file = \"train-balanced-sarcasm.csv\"\n",
    "sarcastic_twitter_api_file = \"sarcastic_tweets.csv\"\n",
    "news_twitter_file = \"news_tweets.csv\"\n",
    "sarcastic_twitter_narcis_file = \"sarcasm.csv\""
   ]
  },
  {
   "cell_type": "code",
   "execution_count": 8,
   "metadata": {
    "colab": {
     "base_uri": "https://localhost:8080/",
     "height": 496
    },
    "id": "19lFMHi6xjxf",
    "outputId": "29551639-9b59-4f5e-84bc-673256e0e5bd"
   },
   "outputs": [
    {
     "data": {
      "text/html": [
       "<div>\n",
       "<style scoped>\n",
       "    .dataframe tbody tr th:only-of-type {\n",
       "        vertical-align: middle;\n",
       "    }\n",
       "\n",
       "    .dataframe tbody tr th {\n",
       "        vertical-align: top;\n",
       "    }\n",
       "\n",
       "    .dataframe thead th {\n",
       "        text-align: right;\n",
       "    }\n",
       "</style>\n",
       "<table border=\"1\" class=\"dataframe\">\n",
       "  <thead>\n",
       "    <tr style=\"text-align: right;\">\n",
       "      <th></th>\n",
       "      <th>label</th>\n",
       "      <th>comment</th>\n",
       "      <th>author</th>\n",
       "      <th>subreddit</th>\n",
       "      <th>score</th>\n",
       "      <th>ups</th>\n",
       "      <th>downs</th>\n",
       "      <th>date</th>\n",
       "      <th>created_utc</th>\n",
       "      <th>parent_comment</th>\n",
       "    </tr>\n",
       "  </thead>\n",
       "  <tbody>\n",
       "    <tr>\n",
       "      <th>190181</th>\n",
       "      <td>1</td>\n",
       "      <td>Monopolies ftw!</td>\n",
       "      <td>FrankeyMankey</td>\n",
       "      <td>pcmasterrace</td>\n",
       "      <td>1</td>\n",
       "      <td>1</td>\n",
       "      <td>0</td>\n",
       "      <td>2016-07</td>\n",
       "      <td>2016-07-22 16:58:46</td>\n",
       "      <td>NEW TITAN X PASCAL</td>\n",
       "    </tr>\n",
       "    <tr>\n",
       "      <th>568605</th>\n",
       "      <td>1</td>\n",
       "      <td>This can't be true, I thought ISIS was Iranian</td>\n",
       "      <td>ForeverInquest</td>\n",
       "      <td>saudiarabia</td>\n",
       "      <td>8</td>\n",
       "      <td>8</td>\n",
       "      <td>0</td>\n",
       "      <td>2015-07</td>\n",
       "      <td>2015-07-19 22:43:51</td>\n",
       "      <td>Saudi Arrests 431 People with Links to ISIL</td>\n",
       "    </tr>\n",
       "    <tr>\n",
       "      <th>160459</th>\n",
       "      <td>1</td>\n",
       "      <td>Did you know that Donald Trump never does anyt...</td>\n",
       "      <td>RevoltOfTheCentrists</td>\n",
       "      <td>television</td>\n",
       "      <td>1</td>\n",
       "      <td>1</td>\n",
       "      <td>0</td>\n",
       "      <td>2016-09</td>\n",
       "      <td>2016-09-23 03:03:51</td>\n",
       "      <td>To all the people saying \"It's a PR move!\" lik...</td>\n",
       "    </tr>\n",
       "    <tr>\n",
       "      <th>116929</th>\n",
       "      <td>0</td>\n",
       "      <td>Breaking Bad for me, but Fargo has some pretty...</td>\n",
       "      <td>SceneryExplorer</td>\n",
       "      <td>television</td>\n",
       "      <td>1</td>\n",
       "      <td>-1</td>\n",
       "      <td>-1</td>\n",
       "      <td>2016-11</td>\n",
       "      <td>2016-11-20 22:49:21</td>\n",
       "      <td>In your opinion, which show has the best cinem...</td>\n",
       "    </tr>\n",
       "    <tr>\n",
       "      <th>316671</th>\n",
       "      <td>1</td>\n",
       "      <td>Also lets me real, who is she to know why a fa...</td>\n",
       "      <td>Dornish_Bad_Poosi</td>\n",
       "      <td>TumblrInAction</td>\n",
       "      <td>5</td>\n",
       "      <td>5</td>\n",
       "      <td>0</td>\n",
       "      <td>2016-07</td>\n",
       "      <td>2016-07-26 04:46:09</td>\n",
       "      <td>Yeah, why don't you tell that to their face th...</td>\n",
       "    </tr>\n",
       "  </tbody>\n",
       "</table>\n",
       "</div>"
      ],
      "text/plain": [
       "        label                                            comment  \\\n",
       "190181      1                                    Monopolies ftw!   \n",
       "568605      1     This can't be true, I thought ISIS was Iranian   \n",
       "160459      1  Did you know that Donald Trump never does anyt...   \n",
       "116929      0  Breaking Bad for me, but Fargo has some pretty...   \n",
       "316671      1  Also lets me real, who is she to know why a fa...   \n",
       "\n",
       "                      author       subreddit  score  ups  downs     date  \\\n",
       "190181         FrankeyMankey    pcmasterrace      1    1      0  2016-07   \n",
       "568605        ForeverInquest     saudiarabia      8    8      0  2015-07   \n",
       "160459  RevoltOfTheCentrists      television      1    1      0  2016-09   \n",
       "116929       SceneryExplorer      television      1   -1     -1  2016-11   \n",
       "316671     Dornish_Bad_Poosi  TumblrInAction      5    5      0  2016-07   \n",
       "\n",
       "                created_utc                                     parent_comment  \n",
       "190181  2016-07-22 16:58:46                                 NEW TITAN X PASCAL  \n",
       "568605  2015-07-19 22:43:51        Saudi Arrests 431 People with Links to ISIL  \n",
       "160459  2016-09-23 03:03:51  To all the people saying \"It's a PR move!\" lik...  \n",
       "116929  2016-11-20 22:49:21  In your opinion, which show has the best cinem...  \n",
       "316671  2016-07-26 04:46:09  Yeah, why don't you tell that to their face th...  "
      ]
     },
     "execution_count": 8,
     "metadata": {},
     "output_type": "execute_result"
    }
   ],
   "source": [
    "# Load Reddit Comments\n",
    "reddit_comments = pd.read_csv(file_path + reddit_comments_file).sample(2000)\n",
    "reddit_comments.head(5)"
   ]
  },
  {
   "cell_type": "code",
   "execution_count": 9,
   "metadata": {
    "colab": {
     "base_uri": "https://localhost:8080/",
     "height": 479
    },
    "id": "8LDkvDxy0mcM",
    "outputId": "d0c92e51-04a8-433d-e6c8-20c9b95f11c7"
   },
   "outputs": [
    {
     "data": {
      "text/html": [
       "<div>\n",
       "<style scoped>\n",
       "    .dataframe tbody tr th:only-of-type {\n",
       "        vertical-align: middle;\n",
       "    }\n",
       "\n",
       "    .dataframe tbody tr th {\n",
       "        vertical-align: top;\n",
       "    }\n",
       "\n",
       "    .dataframe thead th {\n",
       "        text-align: right;\n",
       "    }\n",
       "</style>\n",
       "<table border=\"1\" class=\"dataframe\">\n",
       "  <thead>\n",
       "    <tr style=\"text-align: right;\">\n",
       "      <th></th>\n",
       "      <th>created_at</th>\n",
       "      <th>id_str</th>\n",
       "      <th>full_text</th>\n",
       "      <th>truncated</th>\n",
       "      <th>display_text_range</th>\n",
       "      <th>entities</th>\n",
       "      <th>metadata</th>\n",
       "      <th>in_reply_to_status_id</th>\n",
       "      <th>in_reply_to_status_id_str</th>\n",
       "      <th>in_reply_to_user_id</th>\n",
       "      <th>...</th>\n",
       "      <th>geo</th>\n",
       "      <th>coordinates</th>\n",
       "      <th>place</th>\n",
       "      <th>is_quote_status</th>\n",
       "      <th>retweet_count</th>\n",
       "      <th>favorite_count</th>\n",
       "      <th>favorited</th>\n",
       "      <th>retweeted</th>\n",
       "      <th>lang</th>\n",
       "      <th>label</th>\n",
       "    </tr>\n",
       "  </thead>\n",
       "  <tbody>\n",
       "    <tr>\n",
       "      <th>2635</th>\n",
       "      <td>2020-11-18 06:41:38+00:00</td>\n",
       "      <td>1.328950e+18</td>\n",
       "      <td>Coding Jokes To Add Some #Humor in Our Day!\\n\\...</td>\n",
       "      <td>False</td>\n",
       "      <td>[0, 279]</td>\n",
       "      <td>{'hashtags': [{'text': 'Humor', 'indices': [25...</td>\n",
       "      <td>{'iso_language_code': 'en', 'result_type': 're...</td>\n",
       "      <td>NaN</td>\n",
       "      <td>NaN</td>\n",
       "      <td>NaN</td>\n",
       "      <td>...</td>\n",
       "      <td>NaN</td>\n",
       "      <td>NaN</td>\n",
       "      <td>NaN</td>\n",
       "      <td>False</td>\n",
       "      <td>5</td>\n",
       "      <td>2</td>\n",
       "      <td>False</td>\n",
       "      <td>False</td>\n",
       "      <td>en</td>\n",
       "      <td>1</td>\n",
       "    </tr>\n",
       "    <tr>\n",
       "      <th>134</th>\n",
       "      <td>2020-11-26 06:14:42+00:00</td>\n",
       "      <td>1.331840e+18</td>\n",
       "      <td>@hmfaigen @Jerry3D2Y Nowadays you have to end ...</td>\n",
       "      <td>False</td>\n",
       "      <td>[21, 68]</td>\n",
       "      <td>{'hashtags': [{'text': 'sarcasm', 'indices': [...</td>\n",
       "      <td>{'iso_language_code': 'en', 'result_type': 're...</td>\n",
       "      <td>1.330000e+18</td>\n",
       "      <td>1.330000e+18</td>\n",
       "      <td>3.457628e+08</td>\n",
       "      <td>...</td>\n",
       "      <td>NaN</td>\n",
       "      <td>NaN</td>\n",
       "      <td>NaN</td>\n",
       "      <td>False</td>\n",
       "      <td>0</td>\n",
       "      <td>2</td>\n",
       "      <td>False</td>\n",
       "      <td>False</td>\n",
       "      <td>en</td>\n",
       "      <td>1</td>\n",
       "    </tr>\n",
       "    <tr>\n",
       "      <th>1668</th>\n",
       "      <td>2020-11-21 12:41:17+00:00</td>\n",
       "      <td>1.330130e+18</td>\n",
       "      <td>@BJP4India Please make it like UP. Facing to m...</td>\n",
       "      <td>False</td>\n",
       "      <td>[11, 94]</td>\n",
       "      <td>{'hashtags': [{'text': 'sarcasm', 'indices': [...</td>\n",
       "      <td>{'iso_language_code': 'en', 'result_type': 're...</td>\n",
       "      <td>1.330000e+18</td>\n",
       "      <td>1.330000e+18</td>\n",
       "      <td>2.078093e+08</td>\n",
       "      <td>...</td>\n",
       "      <td>NaN</td>\n",
       "      <td>NaN</td>\n",
       "      <td>NaN</td>\n",
       "      <td>False</td>\n",
       "      <td>0</td>\n",
       "      <td>1</td>\n",
       "      <td>False</td>\n",
       "      <td>False</td>\n",
       "      <td>en</td>\n",
       "      <td>1</td>\n",
       "    </tr>\n",
       "    <tr>\n",
       "      <th>1014</th>\n",
       "      <td>2020-11-23 10:16:51+00:00</td>\n",
       "      <td>1.330820e+18</td>\n",
       "      <td>@JudyLee81046752 Nothing...\\n#SARCASM</td>\n",
       "      <td>False</td>\n",
       "      <td>[17, 36]</td>\n",
       "      <td>{'hashtags': [{'text': 'SARCASM', 'indices': [...</td>\n",
       "      <td>{'iso_language_code': 'en', 'result_type': 're...</td>\n",
       "      <td>1.330000e+18</td>\n",
       "      <td>1.330000e+18</td>\n",
       "      <td>1.270000e+18</td>\n",
       "      <td>...</td>\n",
       "      <td>NaN</td>\n",
       "      <td>NaN</td>\n",
       "      <td>NaN</td>\n",
       "      <td>False</td>\n",
       "      <td>0</td>\n",
       "      <td>1</td>\n",
       "      <td>False</td>\n",
       "      <td>False</td>\n",
       "      <td>en</td>\n",
       "      <td>1</td>\n",
       "    </tr>\n",
       "    <tr>\n",
       "      <th>1358</th>\n",
       "      <td>2020-11-22 09:49:20+00:00</td>\n",
       "      <td>1.330450e+18</td>\n",
       "      <td>RT @khalidkoree: Home delivery 😜\\n#sarcasm htt...</td>\n",
       "      <td>False</td>\n",
       "      <td>[0, 65]</td>\n",
       "      <td>{'hashtags': [{'text': 'sarcasm', 'indices': [...</td>\n",
       "      <td>{'iso_language_code': 'en', 'result_type': 're...</td>\n",
       "      <td>NaN</td>\n",
       "      <td>NaN</td>\n",
       "      <td>NaN</td>\n",
       "      <td>...</td>\n",
       "      <td>NaN</td>\n",
       "      <td>NaN</td>\n",
       "      <td>NaN</td>\n",
       "      <td>False</td>\n",
       "      <td>9</td>\n",
       "      <td>0</td>\n",
       "      <td>False</td>\n",
       "      <td>False</td>\n",
       "      <td>en</td>\n",
       "      <td>1</td>\n",
       "    </tr>\n",
       "  </tbody>\n",
       "</table>\n",
       "<p>5 rows × 23 columns</p>\n",
       "</div>"
      ],
      "text/plain": [
       "                     created_at        id_str  \\\n",
       "2635  2020-11-18 06:41:38+00:00  1.328950e+18   \n",
       "134   2020-11-26 06:14:42+00:00  1.331840e+18   \n",
       "1668  2020-11-21 12:41:17+00:00  1.330130e+18   \n",
       "1014  2020-11-23 10:16:51+00:00  1.330820e+18   \n",
       "1358  2020-11-22 09:49:20+00:00  1.330450e+18   \n",
       "\n",
       "                                              full_text  truncated  \\\n",
       "2635  Coding Jokes To Add Some #Humor in Our Day!\\n\\...      False   \n",
       "134   @hmfaigen @Jerry3D2Y Nowadays you have to end ...      False   \n",
       "1668  @BJP4India Please make it like UP. Facing to m...      False   \n",
       "1014              @JudyLee81046752 Nothing...\\n#SARCASM      False   \n",
       "1358  RT @khalidkoree: Home delivery 😜\\n#sarcasm htt...      False   \n",
       "\n",
       "     display_text_range                                           entities  \\\n",
       "2635           [0, 279]  {'hashtags': [{'text': 'Humor', 'indices': [25...   \n",
       "134            [21, 68]  {'hashtags': [{'text': 'sarcasm', 'indices': [...   \n",
       "1668           [11, 94]  {'hashtags': [{'text': 'sarcasm', 'indices': [...   \n",
       "1014           [17, 36]  {'hashtags': [{'text': 'SARCASM', 'indices': [...   \n",
       "1358            [0, 65]  {'hashtags': [{'text': 'sarcasm', 'indices': [...   \n",
       "\n",
       "                                               metadata  \\\n",
       "2635  {'iso_language_code': 'en', 'result_type': 're...   \n",
       "134   {'iso_language_code': 'en', 'result_type': 're...   \n",
       "1668  {'iso_language_code': 'en', 'result_type': 're...   \n",
       "1014  {'iso_language_code': 'en', 'result_type': 're...   \n",
       "1358  {'iso_language_code': 'en', 'result_type': 're...   \n",
       "\n",
       "      in_reply_to_status_id  in_reply_to_status_id_str  in_reply_to_user_id  \\\n",
       "2635                    NaN                        NaN                  NaN   \n",
       "134            1.330000e+18               1.330000e+18         3.457628e+08   \n",
       "1668           1.330000e+18               1.330000e+18         2.078093e+08   \n",
       "1014           1.330000e+18               1.330000e+18         1.270000e+18   \n",
       "1358                    NaN                        NaN                  NaN   \n",
       "\n",
       "      ...  geo coordinates place is_quote_status retweet_count favorite_count  \\\n",
       "2635  ...  NaN         NaN   NaN           False             5              2   \n",
       "134   ...  NaN         NaN   NaN           False             0              2   \n",
       "1668  ...  NaN         NaN   NaN           False             0              1   \n",
       "1014  ...  NaN         NaN   NaN           False             0              1   \n",
       "1358  ...  NaN         NaN   NaN           False             9              0   \n",
       "\n",
       "      favorited  retweeted  lang  label  \n",
       "2635      False      False    en      1  \n",
       "134       False      False    en      1  \n",
       "1668      False      False    en      1  \n",
       "1014      False      False    en      1  \n",
       "1358      False      False    en      1  \n",
       "\n",
       "[5 rows x 23 columns]"
      ]
     },
     "execution_count": 9,
     "metadata": {},
     "output_type": "execute_result"
    }
   ],
   "source": [
    "# Load Sarcastic Tweets\n",
    "sarcastic_tweets = pd.read_csv(file_path + sarcastic_twitter_api_file).sample(1000)\n",
    "sarcastic_tweets['label'] = 1 \n",
    "sarcastic_tweets.head(5)"
   ]
  },
  {
   "cell_type": "code",
   "execution_count": 17,
   "metadata": {
    "id": "i50239pX0uta"
   },
   "outputs": [
    {
     "data": {
      "text/html": [
       "<div>\n",
       "<style scoped>\n",
       "    .dataframe tbody tr th:only-of-type {\n",
       "        vertical-align: middle;\n",
       "    }\n",
       "\n",
       "    .dataframe tbody tr th {\n",
       "        vertical-align: top;\n",
       "    }\n",
       "\n",
       "    .dataframe thead th {\n",
       "        text-align: right;\n",
       "    }\n",
       "</style>\n",
       "<table border=\"1\" class=\"dataframe\">\n",
       "  <thead>\n",
       "    <tr style=\"text-align: right;\">\n",
       "      <th></th>\n",
       "      <th>created_at</th>\n",
       "      <th>id</th>\n",
       "      <th>id_str</th>\n",
       "      <th>full_text</th>\n",
       "      <th>truncated</th>\n",
       "      <th>display_text_range</th>\n",
       "      <th>entities</th>\n",
       "      <th>extended_entities</th>\n",
       "      <th>metadata</th>\n",
       "      <th>source</th>\n",
       "      <th>...</th>\n",
       "      <th>in_reply_to_user_id_str</th>\n",
       "      <th>in_reply_to_screen_name</th>\n",
       "      <th>user</th>\n",
       "      <th>geo</th>\n",
       "      <th>coordinates</th>\n",
       "      <th>place</th>\n",
       "      <th>contributors</th>\n",
       "      <th>is_quote_status</th>\n",
       "      <th>retweet_count</th>\n",
       "      <th>label</th>\n",
       "    </tr>\n",
       "  </thead>\n",
       "  <tbody>\n",
       "    <tr>\n",
       "      <th>891</th>\n",
       "      <td>2020-12-09 13:41:23+00:00</td>\n",
       "      <td>1.336670e+18</td>\n",
       "      <td>1.336670e+18</td>\n",
       "      <td>Nozomi and Chinook team to deliver OT and IoT ...</td>\n",
       "      <td>False</td>\n",
       "      <td>[0, 183]</td>\n",
       "      <td>{'hashtags': [{'text': 'IoT', 'indices': [133,...</td>\n",
       "      <td>NaN</td>\n",
       "      <td>{'iso_language_code': 'en', 'result_type': 're...</td>\n",
       "      <td>&lt;a href=\"https://ifttt.com\" rel=\"nofollow\"&gt;IFT...</td>\n",
       "      <td>...</td>\n",
       "      <td>NaN</td>\n",
       "      <td>NaN</td>\n",
       "      <td>{'id': 483862860, 'id_str': '483862860', 'name...</td>\n",
       "      <td>NaN</td>\n",
       "      <td>NaN</td>\n",
       "      <td>NaN</td>\n",
       "      <td>NaN</td>\n",
       "      <td>False</td>\n",
       "      <td>1</td>\n",
       "      <td>0</td>\n",
       "    </tr>\n",
       "    <tr>\n",
       "      <th>76</th>\n",
       "      <td>2020-12-09 14:52:41+00:00</td>\n",
       "      <td>1.336690e+18</td>\n",
       "      <td>1.336690e+18</td>\n",
       "      <td>RT @MRCJUSTRIDEIT: 🔴 BIG NEWS: ISRAEL Scientis...</td>\n",
       "      <td>False</td>\n",
       "      <td>[0, 140]</td>\n",
       "      <td>{'hashtags': [{'text': 'Aliens', 'indices': [7...</td>\n",
       "      <td>NaN</td>\n",
       "      <td>{'iso_language_code': 'en', 'result_type': 're...</td>\n",
       "      <td>&lt;a href=\"http://twitter.com/download/android\" ...</td>\n",
       "      <td>...</td>\n",
       "      <td>NaN</td>\n",
       "      <td>NaN</td>\n",
       "      <td>{'id': 1050277841965735936, 'id_str': '1050277...</td>\n",
       "      <td>NaN</td>\n",
       "      <td>NaN</td>\n",
       "      <td>NaN</td>\n",
       "      <td>NaN</td>\n",
       "      <td>False</td>\n",
       "      <td>1</td>\n",
       "      <td>0</td>\n",
       "    </tr>\n",
       "    <tr>\n",
       "      <th>2845</th>\n",
       "      <td>2020-12-09 09:54:08+00:00</td>\n",
       "      <td>1.336610e+18</td>\n",
       "      <td>1.336610e+18</td>\n",
       "      <td>Gayle King Says Follow Ex-Presidents, Science ...</td>\n",
       "      <td>False</td>\n",
       "      <td>[0, 118]</td>\n",
       "      <td>{'hashtags': [{'text': 'news', 'indices': [113...</td>\n",
       "      <td>NaN</td>\n",
       "      <td>{'iso_language_code': 'en', 'result_type': 're...</td>\n",
       "      <td>&lt;a href=\"https://newspages.com\" rel=\"nofollow\"...</td>\n",
       "      <td>...</td>\n",
       "      <td>NaN</td>\n",
       "      <td>NaN</td>\n",
       "      <td>{'id': 1910333690, 'id_str': '1910333690', 'na...</td>\n",
       "      <td>NaN</td>\n",
       "      <td>NaN</td>\n",
       "      <td>NaN</td>\n",
       "      <td>NaN</td>\n",
       "      <td>False</td>\n",
       "      <td>0</td>\n",
       "      <td>0</td>\n",
       "    </tr>\n",
       "    <tr>\n",
       "      <th>1955</th>\n",
       "      <td>2020-12-09 11:44:07+00:00</td>\n",
       "      <td>1.336640e+18</td>\n",
       "      <td>1.336640e+18</td>\n",
       "      <td>Trump Uses COVID Vaccine Summit to Pressure Re...</td>\n",
       "      <td>False</td>\n",
       "      <td>[0, 275]</td>\n",
       "      <td>{'hashtags': [{'text': 'News', 'indices': [255...</td>\n",
       "      <td>{'media': [{'id': 1336637742155894786, 'id_str...</td>\n",
       "      <td>{'iso_language_code': 'en', 'result_type': 're...</td>\n",
       "      <td>&lt;a href=\"https://social-dog.net/\" rel=\"nofollo...</td>\n",
       "      <td>...</td>\n",
       "      <td>NaN</td>\n",
       "      <td>NaN</td>\n",
       "      <td>{'id': 1104382519481327616, 'id_str': '1104382...</td>\n",
       "      <td>NaN</td>\n",
       "      <td>NaN</td>\n",
       "      <td>NaN</td>\n",
       "      <td>NaN</td>\n",
       "      <td>False</td>\n",
       "      <td>0</td>\n",
       "      <td>0</td>\n",
       "    </tr>\n",
       "    <tr>\n",
       "      <th>2103</th>\n",
       "      <td>2020-12-09 11:26:55+00:00</td>\n",
       "      <td>1.336630e+18</td>\n",
       "      <td>1.336630e+18</td>\n",
       "      <td>RT @TradingKaFunda_: Buy:- ZEE future @ 218\\nS...</td>\n",
       "      <td>False</td>\n",
       "      <td>[0, 140]</td>\n",
       "      <td>{'hashtags': [{'text': 'tradingkafunda', 'indi...</td>\n",
       "      <td>NaN</td>\n",
       "      <td>{'iso_language_code': 'en', 'result_type': 're...</td>\n",
       "      <td>NaN</td>\n",
       "      <td>...</td>\n",
       "      <td>NaN</td>\n",
       "      <td>NaN</td>\n",
       "      <td>{'id': 1295974009679486976, 'id_str': '1295974...</td>\n",
       "      <td>NaN</td>\n",
       "      <td>NaN</td>\n",
       "      <td>NaN</td>\n",
       "      <td>NaN</td>\n",
       "      <td>False</td>\n",
       "      <td>2</td>\n",
       "      <td>0</td>\n",
       "    </tr>\n",
       "  </tbody>\n",
       "</table>\n",
       "<p>5 rows × 23 columns</p>\n",
       "</div>"
      ],
      "text/plain": [
       "                     created_at            id        id_str  \\\n",
       "891   2020-12-09 13:41:23+00:00  1.336670e+18  1.336670e+18   \n",
       "76    2020-12-09 14:52:41+00:00  1.336690e+18  1.336690e+18   \n",
       "2845  2020-12-09 09:54:08+00:00  1.336610e+18  1.336610e+18   \n",
       "1955  2020-12-09 11:44:07+00:00  1.336640e+18  1.336640e+18   \n",
       "2103  2020-12-09 11:26:55+00:00  1.336630e+18  1.336630e+18   \n",
       "\n",
       "                                              full_text  truncated  \\\n",
       "891   Nozomi and Chinook team to deliver OT and IoT ...      False   \n",
       "76    RT @MRCJUSTRIDEIT: 🔴 BIG NEWS: ISRAEL Scientis...      False   \n",
       "2845  Gayle King Says Follow Ex-Presidents, Science ...      False   \n",
       "1955  Trump Uses COVID Vaccine Summit to Pressure Re...      False   \n",
       "2103  RT @TradingKaFunda_: Buy:- ZEE future @ 218\\nS...      False   \n",
       "\n",
       "     display_text_range                                           entities  \\\n",
       "891            [0, 183]  {'hashtags': [{'text': 'IoT', 'indices': [133,...   \n",
       "76             [0, 140]  {'hashtags': [{'text': 'Aliens', 'indices': [7...   \n",
       "2845           [0, 118]  {'hashtags': [{'text': 'news', 'indices': [113...   \n",
       "1955           [0, 275]  {'hashtags': [{'text': 'News', 'indices': [255...   \n",
       "2103           [0, 140]  {'hashtags': [{'text': 'tradingkafunda', 'indi...   \n",
       "\n",
       "                                      extended_entities  \\\n",
       "891                                                 NaN   \n",
       "76                                                  NaN   \n",
       "2845                                                NaN   \n",
       "1955  {'media': [{'id': 1336637742155894786, 'id_str...   \n",
       "2103                                                NaN   \n",
       "\n",
       "                                               metadata  \\\n",
       "891   {'iso_language_code': 'en', 'result_type': 're...   \n",
       "76    {'iso_language_code': 'en', 'result_type': 're...   \n",
       "2845  {'iso_language_code': 'en', 'result_type': 're...   \n",
       "1955  {'iso_language_code': 'en', 'result_type': 're...   \n",
       "2103  {'iso_language_code': 'en', 'result_type': 're...   \n",
       "\n",
       "                                                 source  ...  \\\n",
       "891   <a href=\"https://ifttt.com\" rel=\"nofollow\">IFT...  ...   \n",
       "76    <a href=\"http://twitter.com/download/android\" ...  ...   \n",
       "2845  <a href=\"https://newspages.com\" rel=\"nofollow\"...  ...   \n",
       "1955  <a href=\"https://social-dog.net/\" rel=\"nofollo...  ...   \n",
       "2103                                                NaN  ...   \n",
       "\n",
       "      in_reply_to_user_id_str  in_reply_to_screen_name  \\\n",
       "891                       NaN                      NaN   \n",
       "76                        NaN                      NaN   \n",
       "2845                      NaN                      NaN   \n",
       "1955                      NaN                      NaN   \n",
       "2103                      NaN                      NaN   \n",
       "\n",
       "                                                   user  geo coordinates  \\\n",
       "891   {'id': 483862860, 'id_str': '483862860', 'name...  NaN         NaN   \n",
       "76    {'id': 1050277841965735936, 'id_str': '1050277...  NaN         NaN   \n",
       "2845  {'id': 1910333690, 'id_str': '1910333690', 'na...  NaN         NaN   \n",
       "1955  {'id': 1104382519481327616, 'id_str': '1104382...  NaN         NaN   \n",
       "2103  {'id': 1295974009679486976, 'id_str': '1295974...  NaN         NaN   \n",
       "\n",
       "     place contributors is_quote_status retweet_count  label  \n",
       "891    NaN          NaN           False             1      0  \n",
       "76     NaN          NaN           False             1      0  \n",
       "2845   NaN          NaN           False             0      0  \n",
       "1955   NaN          NaN           False             0      0  \n",
       "2103   NaN          NaN           False             2      0  \n",
       "\n",
       "[5 rows x 23 columns]"
      ]
     },
     "execution_count": 17,
     "metadata": {},
     "output_type": "execute_result"
    }
   ],
   "source": [
    "# # Load News Tweets\n",
    "news_tweets  = pd.read_csv(file_path + news_twitter_file).sample(1000)\n",
    "news_tweets['label'] = 0\n",
    "news_tweets.head(5)"
   ]
  },
  {
   "cell_type": "code",
   "execution_count": 18,
   "metadata": {
    "colab": {
     "base_uri": "https://localhost:8080/",
     "height": 204
    },
    "id": "m5l7k3Yc0xlv",
    "outputId": "62d4dbb0-1ff2-447d-8619-05f3a1faa69f"
   },
   "outputs": [
    {
     "data": {
      "text/html": [
       "<div>\n",
       "<style scoped>\n",
       "    .dataframe tbody tr th:only-of-type {\n",
       "        vertical-align: middle;\n",
       "    }\n",
       "\n",
       "    .dataframe tbody tr th {\n",
       "        vertical-align: top;\n",
       "    }\n",
       "\n",
       "    .dataframe thead th {\n",
       "        text-align: right;\n",
       "    }\n",
       "</style>\n",
       "<table border=\"1\" class=\"dataframe\">\n",
       "  <thead>\n",
       "    <tr style=\"text-align: right;\">\n",
       "      <th></th>\n",
       "      <th>Tweet</th>\n",
       "      <th>Reverse</th>\n",
       "      <th>label</th>\n",
       "    </tr>\n",
       "  </thead>\n",
       "  <tbody>\n",
       "    <tr>\n",
       "      <th>1594</th>\n",
       "      <td>i love being sick on the weekend</td>\n",
       "      <td>weekend the on sick being love i</td>\n",
       "      <td>1</td>\n",
       "    </tr>\n",
       "    <tr>\n",
       "      <th>492</th>\n",
       "      <td>So I accidentaly took over the whole room and ...</td>\n",
       "      <td>#rushed BTW.. TOMORROW COMING IS roomate.WHO m...</td>\n",
       "      <td>0</td>\n",
       "    </tr>\n",
       "    <tr>\n",
       "      <th>1104</th>\n",
       "      <td>i love bring creeped on at work #leavemealone</td>\n",
       "      <td>#leavemealone work at on creeped bring love i</td>\n",
       "      <td>1</td>\n",
       "    </tr>\n",
       "    <tr>\n",
       "      <th>179</th>\n",
       "      <td>Lol ? RT\"USER When I'm high, I turn into a Cer...</td>\n",
       "      <td>Killer.\" Cereal a into turn I high, I'm When R...</td>\n",
       "      <td>0</td>\n",
       "    </tr>\n",
       "    <tr>\n",
       "      <th>1426</th>\n",
       "      <td>i love getting yelled at this early in the mor...</td>\n",
       "      <td>#thebest morning the in early this at yelled g...</td>\n",
       "      <td>1</td>\n",
       "    </tr>\n",
       "  </tbody>\n",
       "</table>\n",
       "</div>"
      ],
      "text/plain": [
       "                                                  Tweet  \\\n",
       "1594                   i love being sick on the weekend   \n",
       "492   So I accidentaly took over the whole room and ...   \n",
       "1104      i love bring creeped on at work #leavemealone   \n",
       "179   Lol ? RT\"USER When I'm high, I turn into a Cer...   \n",
       "1426  i love getting yelled at this early in the mor...   \n",
       "\n",
       "                                                Reverse  label  \n",
       "1594                   weekend the on sick being love i      1  \n",
       "492   #rushed BTW.. TOMORROW COMING IS roomate.WHO m...      0  \n",
       "1104      #leavemealone work at on creeped bring love i      1  \n",
       "179   Killer.\" Cereal a into turn I high, I'm When R...      0  \n",
       "1426  #thebest morning the in early this at yelled g...      1  "
      ]
     },
     "execution_count": 18,
     "metadata": {},
     "output_type": "execute_result"
    }
   ],
   "source": [
    "# Load Narcis Tweets\n",
    "narcis_tweets  = pd.read_csv(file_path + sarcastic_twitter_narcis_file).sample(1000)\n",
    "narcis_tweets.head(5)"
   ]
  },
  {
   "cell_type": "markdown",
   "metadata": {
    "id": "AhPTFyi00-Zd"
   },
   "source": [
    "# Merge and Clean Files"
   ]
  },
  {
   "cell_type": "code",
   "execution_count": 19,
   "metadata": {
    "colab": {
     "base_uri": "https://localhost:8080/",
     "height": 479
    },
    "id": "8ReYd67400hV",
    "outputId": "aaf96bfe-4f21-42b9-f526-b88e32bb19d7"
   },
   "outputs": [
    {
     "data": {
      "text/html": [
       "<div>\n",
       "<style scoped>\n",
       "    .dataframe tbody tr th:only-of-type {\n",
       "        vertical-align: middle;\n",
       "    }\n",
       "\n",
       "    .dataframe tbody tr th {\n",
       "        vertical-align: top;\n",
       "    }\n",
       "\n",
       "    .dataframe thead th {\n",
       "        text-align: right;\n",
       "    }\n",
       "</style>\n",
       "<table border=\"1\" class=\"dataframe\">\n",
       "  <thead>\n",
       "    <tr style=\"text-align: right;\">\n",
       "      <th></th>\n",
       "      <th>created_at</th>\n",
       "      <th>id_str</th>\n",
       "      <th>full_text</th>\n",
       "      <th>truncated</th>\n",
       "      <th>display_text_range</th>\n",
       "      <th>entities</th>\n",
       "      <th>metadata</th>\n",
       "      <th>in_reply_to_status_id</th>\n",
       "      <th>in_reply_to_status_id_str</th>\n",
       "      <th>in_reply_to_user_id</th>\n",
       "      <th>...</th>\n",
       "      <th>retweet_count</th>\n",
       "      <th>favorite_count</th>\n",
       "      <th>favorited</th>\n",
       "      <th>retweeted</th>\n",
       "      <th>lang</th>\n",
       "      <th>label</th>\n",
       "      <th>id</th>\n",
       "      <th>extended_entities</th>\n",
       "      <th>source</th>\n",
       "      <th>contributors</th>\n",
       "    </tr>\n",
       "  </thead>\n",
       "  <tbody>\n",
       "    <tr>\n",
       "      <th>2635</th>\n",
       "      <td>2020-11-18 06:41:38+00:00</td>\n",
       "      <td>1.328950e+18</td>\n",
       "      <td>Coding Jokes To Add Some #Humor in Our Day!\\n\\...</td>\n",
       "      <td>False</td>\n",
       "      <td>[0, 279]</td>\n",
       "      <td>{'hashtags': [{'text': 'Humor', 'indices': [25...</td>\n",
       "      <td>{'iso_language_code': 'en', 'result_type': 're...</td>\n",
       "      <td>NaN</td>\n",
       "      <td>NaN</td>\n",
       "      <td>NaN</td>\n",
       "      <td>...</td>\n",
       "      <td>5</td>\n",
       "      <td>2.0</td>\n",
       "      <td>False</td>\n",
       "      <td>False</td>\n",
       "      <td>en</td>\n",
       "      <td>1</td>\n",
       "      <td>NaN</td>\n",
       "      <td>NaN</td>\n",
       "      <td>NaN</td>\n",
       "      <td>NaN</td>\n",
       "    </tr>\n",
       "    <tr>\n",
       "      <th>134</th>\n",
       "      <td>2020-11-26 06:14:42+00:00</td>\n",
       "      <td>1.331840e+18</td>\n",
       "      <td>@hmfaigen @Jerry3D2Y Nowadays you have to end ...</td>\n",
       "      <td>False</td>\n",
       "      <td>[21, 68]</td>\n",
       "      <td>{'hashtags': [{'text': 'sarcasm', 'indices': [...</td>\n",
       "      <td>{'iso_language_code': 'en', 'result_type': 're...</td>\n",
       "      <td>1.330000e+18</td>\n",
       "      <td>1.330000e+18</td>\n",
       "      <td>3.457628e+08</td>\n",
       "      <td>...</td>\n",
       "      <td>0</td>\n",
       "      <td>2.0</td>\n",
       "      <td>False</td>\n",
       "      <td>False</td>\n",
       "      <td>en</td>\n",
       "      <td>1</td>\n",
       "      <td>NaN</td>\n",
       "      <td>NaN</td>\n",
       "      <td>NaN</td>\n",
       "      <td>NaN</td>\n",
       "    </tr>\n",
       "    <tr>\n",
       "      <th>1668</th>\n",
       "      <td>2020-11-21 12:41:17+00:00</td>\n",
       "      <td>1.330130e+18</td>\n",
       "      <td>@BJP4India Please make it like UP. Facing to m...</td>\n",
       "      <td>False</td>\n",
       "      <td>[11, 94]</td>\n",
       "      <td>{'hashtags': [{'text': 'sarcasm', 'indices': [...</td>\n",
       "      <td>{'iso_language_code': 'en', 'result_type': 're...</td>\n",
       "      <td>1.330000e+18</td>\n",
       "      <td>1.330000e+18</td>\n",
       "      <td>2.078093e+08</td>\n",
       "      <td>...</td>\n",
       "      <td>0</td>\n",
       "      <td>1.0</td>\n",
       "      <td>False</td>\n",
       "      <td>False</td>\n",
       "      <td>en</td>\n",
       "      <td>1</td>\n",
       "      <td>NaN</td>\n",
       "      <td>NaN</td>\n",
       "      <td>NaN</td>\n",
       "      <td>NaN</td>\n",
       "    </tr>\n",
       "    <tr>\n",
       "      <th>1014</th>\n",
       "      <td>2020-11-23 10:16:51+00:00</td>\n",
       "      <td>1.330820e+18</td>\n",
       "      <td>@JudyLee81046752 Nothing...\\n#SARCASM</td>\n",
       "      <td>False</td>\n",
       "      <td>[17, 36]</td>\n",
       "      <td>{'hashtags': [{'text': 'SARCASM', 'indices': [...</td>\n",
       "      <td>{'iso_language_code': 'en', 'result_type': 're...</td>\n",
       "      <td>1.330000e+18</td>\n",
       "      <td>1.330000e+18</td>\n",
       "      <td>1.270000e+18</td>\n",
       "      <td>...</td>\n",
       "      <td>0</td>\n",
       "      <td>1.0</td>\n",
       "      <td>False</td>\n",
       "      <td>False</td>\n",
       "      <td>en</td>\n",
       "      <td>1</td>\n",
       "      <td>NaN</td>\n",
       "      <td>NaN</td>\n",
       "      <td>NaN</td>\n",
       "      <td>NaN</td>\n",
       "    </tr>\n",
       "    <tr>\n",
       "      <th>1358</th>\n",
       "      <td>2020-11-22 09:49:20+00:00</td>\n",
       "      <td>1.330450e+18</td>\n",
       "      <td>RT @khalidkoree: Home delivery 😜\\n#sarcasm htt...</td>\n",
       "      <td>False</td>\n",
       "      <td>[0, 65]</td>\n",
       "      <td>{'hashtags': [{'text': 'sarcasm', 'indices': [...</td>\n",
       "      <td>{'iso_language_code': 'en', 'result_type': 're...</td>\n",
       "      <td>NaN</td>\n",
       "      <td>NaN</td>\n",
       "      <td>NaN</td>\n",
       "      <td>...</td>\n",
       "      <td>9</td>\n",
       "      <td>0.0</td>\n",
       "      <td>False</td>\n",
       "      <td>False</td>\n",
       "      <td>en</td>\n",
       "      <td>1</td>\n",
       "      <td>NaN</td>\n",
       "      <td>NaN</td>\n",
       "      <td>NaN</td>\n",
       "      <td>NaN</td>\n",
       "    </tr>\n",
       "  </tbody>\n",
       "</table>\n",
       "<p>5 rows × 27 columns</p>\n",
       "</div>"
      ],
      "text/plain": [
       "                     created_at        id_str  \\\n",
       "2635  2020-11-18 06:41:38+00:00  1.328950e+18   \n",
       "134   2020-11-26 06:14:42+00:00  1.331840e+18   \n",
       "1668  2020-11-21 12:41:17+00:00  1.330130e+18   \n",
       "1014  2020-11-23 10:16:51+00:00  1.330820e+18   \n",
       "1358  2020-11-22 09:49:20+00:00  1.330450e+18   \n",
       "\n",
       "                                              full_text  truncated  \\\n",
       "2635  Coding Jokes To Add Some #Humor in Our Day!\\n\\...      False   \n",
       "134   @hmfaigen @Jerry3D2Y Nowadays you have to end ...      False   \n",
       "1668  @BJP4India Please make it like UP. Facing to m...      False   \n",
       "1014              @JudyLee81046752 Nothing...\\n#SARCASM      False   \n",
       "1358  RT @khalidkoree: Home delivery 😜\\n#sarcasm htt...      False   \n",
       "\n",
       "     display_text_range                                           entities  \\\n",
       "2635           [0, 279]  {'hashtags': [{'text': 'Humor', 'indices': [25...   \n",
       "134            [21, 68]  {'hashtags': [{'text': 'sarcasm', 'indices': [...   \n",
       "1668           [11, 94]  {'hashtags': [{'text': 'sarcasm', 'indices': [...   \n",
       "1014           [17, 36]  {'hashtags': [{'text': 'SARCASM', 'indices': [...   \n",
       "1358            [0, 65]  {'hashtags': [{'text': 'sarcasm', 'indices': [...   \n",
       "\n",
       "                                               metadata  \\\n",
       "2635  {'iso_language_code': 'en', 'result_type': 're...   \n",
       "134   {'iso_language_code': 'en', 'result_type': 're...   \n",
       "1668  {'iso_language_code': 'en', 'result_type': 're...   \n",
       "1014  {'iso_language_code': 'en', 'result_type': 're...   \n",
       "1358  {'iso_language_code': 'en', 'result_type': 're...   \n",
       "\n",
       "      in_reply_to_status_id  in_reply_to_status_id_str  in_reply_to_user_id  \\\n",
       "2635                    NaN                        NaN                  NaN   \n",
       "134            1.330000e+18               1.330000e+18         3.457628e+08   \n",
       "1668           1.330000e+18               1.330000e+18         2.078093e+08   \n",
       "1014           1.330000e+18               1.330000e+18         1.270000e+18   \n",
       "1358                    NaN                        NaN                  NaN   \n",
       "\n",
       "      ...  retweet_count favorite_count favorited retweeted lang label  id  \\\n",
       "2635  ...              5            2.0     False     False   en     1 NaN   \n",
       "134   ...              0            2.0     False     False   en     1 NaN   \n",
       "1668  ...              0            1.0     False     False   en     1 NaN   \n",
       "1014  ...              0            1.0     False     False   en     1 NaN   \n",
       "1358  ...              9            0.0     False     False   en     1 NaN   \n",
       "\n",
       "      extended_entities  source contributors  \n",
       "2635                NaN     NaN          NaN  \n",
       "134                 NaN     NaN          NaN  \n",
       "1668                NaN     NaN          NaN  \n",
       "1014                NaN     NaN          NaN  \n",
       "1358                NaN     NaN          NaN  \n",
       "\n",
       "[5 rows x 27 columns]"
      ]
     },
     "execution_count": 19,
     "metadata": {},
     "output_type": "execute_result"
    }
   ],
   "source": [
    "# Merge sarcastic and non-sarcastic twitter files\n",
    "twitter_df = pd.concat([sarcastic_tweets, news_tweets])\n",
    "twitter_df.head(5)"
   ]
  },
  {
   "cell_type": "code",
   "execution_count": 20,
   "metadata": {
    "id": "QSXz48TQ03VT"
   },
   "outputs": [],
   "source": [
    "def clean_text(txt):\n",
    "    '''\n",
    "    Function to clean text\n",
    "    '''\n",
    "    txt = re.sub(r'[,.;@#?!&$\\-\\']+', '', txt, flags=re.IGNORECASE)    # Replace punctuation with space\n",
    "    txt = re.sub(r'\\ +', ' ', txt, flags=re.IGNORECASE)                # Accept one or more copies of punctuation\n",
    "    txt = re.sub(r'\\\"', ' ', txt, flags=re.IGNORECASE)                 # Replace quote mark with space\n",
    "    txt = re.sub(r'\\\\n', ' ', txt, flags=re.IGNORECASE)                # Replace end line with space\n",
    "    txt = re.sub(r'[^a-zA-Z]', ' ', txt, flags=re.VERBOSE)             # Replace any character that isn't a letter\n",
    "    txt = re.sub(r'\\b\\w{1,1}\\b', '', txt, flags=re.VERBOSE)            # Removes all words less than 1 letters\n",
    "    txt = re.sub(r'#sarcasm', '', txt, flags=re.VERBOSE)               # Removes all sarcasm hashtags\n",
    "    txt = re.sub(r'sarcasm', '', txt, flags=re.IGNORECASE)             # Removes all sarcasm words\n",
    "    txt = re.sub(r'#news', '', txt, flags=re.VERBOSE)                  # Removes all news hashtags\n",
    "    txt = re.sub(r'news', '', txt, flags=re.IGNORECASE)                # Removes all news words\n",
    "\n",
    "    return txt"
   ]
  },
  {
   "cell_type": "code",
   "execution_count": 21,
   "metadata": {
    "id": "thJjAB141Q5g"
   },
   "outputs": [],
   "source": [
    "def convert_to_list(df, col, l):\n",
    "    '''\n",
    "    Function to convert column to list\n",
    "    '''\n",
    "    # Iterate through data frame\n",
    "    for row in df[col]:\n",
    "        if col != 'label':\n",
    "            # Convert row to string\n",
    "            row = str(row)\n",
    "            row = clean_text(row) \n",
    "        \n",
    "        # Append row to list\n",
    "        l.append(row)\n",
    "        \n",
    "    return l"
   ]
  },
  {
   "cell_type": "code",
   "execution_count": 22,
   "metadata": {
    "colab": {
     "base_uri": "https://localhost:8080/"
    },
    "id": "VX4hwTKf1UIQ",
    "outputId": "2ce65aa0-05e3-44c3-ba94-199d4ba5244f"
   },
   "outputs": [
    {
     "name": "stdout",
     "output_type": "stream",
     "text": [
      "5000\n",
      "5000\n"
     ]
    },
    {
     "data": {
      "text/plain": [
       "['Coding Jokes To Add Some Humor in Our Day  comicstrip ai artificialintelligence comicstrips funny informationtechnology itguyproblems doodle techjokes itjokes amateurcomics comics  office justforlaughs jokes MachineLearning funny coffeetime wednesday https   tco GELBmM  ',\n",
       " 'hmfaigen Jerry   Nowadays you have to end tweets with  ',\n",
       " 'BJP India Please make it like UP Facing to much Local competition from this region ',\n",
       " 'JudyLee         Nothing ',\n",
       " 'RT khalidkoree  Home delivery    https   tco WeiA gQYvI',\n",
       " ' Any team any time any place   https   tco HzmY     ',\n",
       " 'RemoveSBMM CallofDuty Treyarch DavidVonderhaar THANKS  https   tco OBMjsn DYs',\n",
       " 'RT goodhuebrewco  Ghania         ryanstruyk But there are no relatives or spouses Did they donate millions to his campaign  dont thi ',\n",
       " 'Trying to add  Nintendo Switch to the cart at the exact time they go on sale is  fun game ',\n",
       " '  when used between people with established trust  can be  sign of high intelligence and good for your career Wait what Where has this study been my whole life EntryLevelRebel shares some  very  interesting findings Careers  Inc  https   tco  RYhdUo UG']"
      ]
     },
     "execution_count": 22,
     "metadata": {},
     "output_type": "execute_result"
    }
   ],
   "source": [
    "text = []\n",
    "labels = []\n",
    "\n",
    "# Get twitter api lists\n",
    "text = convert_to_list(twitter_df, 'full_text', text) \n",
    "labels = convert_to_list(twitter_df, 'label', labels) \n",
    "\n",
    "# Get arcis twitter lists\n",
    "text = convert_to_list(narcis_tweets, 'Tweet', text) \n",
    "labels = convert_to_list(narcis_tweets, 'label', labels) \n",
    "\n",
    "# Get Reddit comments lists\n",
    "text = convert_to_list(reddit_comments, 'comment', text) \n",
    "labels = convert_to_list(reddit_comments, 'label', labels) \n",
    "\n",
    "# Print length of lists\n",
    "print(len(text))\n",
    "print(len(labels))\n",
    "\n",
    "# Show text\n",
    "text[:10]"
   ]
  },
  {
   "cell_type": "code",
   "execution_count": 65,
   "metadata": {},
   "outputs": [
    {
     "name": "stdout",
     "output_type": "stream",
     "text": [
      "                                                   text  labels\n",
      "0     Coding Jokes To Add Some Humor in Our Day  com...       1\n",
      "1     hmfaigen Jerry   Nowadays you have to end twee...       1\n",
      "2     BJP India Please make it like UP Facing to muc...       1\n",
      "3                              JudyLee         Nothing        1\n",
      "4     RT khalidkoree  Home delivery    https   tco W...       1\n",
      "...                                                 ...     ...\n",
      "4995  Is this really  controversial opinion around here       0\n",
      "4996                                     Better than          1\n",
      "4997   dont know  liked the blue and white livery on...       0\n",
      "4998                        Is he also literally Hitler       1\n",
      "4999  He must be one of the good   white people   pa...       1\n",
      "\n",
      "[5000 rows x 2 columns]\n"
     ]
    }
   ],
   "source": [
    "# Create a dataframe with text and labels column for some quick EDA \n",
    "combined = {'text':text,'labels':labels}\n",
    "combined_df = pd.DataFrame(combined)\n",
    "print(combined_df)"
   ]
  },
  {
   "cell_type": "code",
   "execution_count": 68,
   "metadata": {},
   "outputs": [
    {
     "data": {
      "image/png": "[encoded data removed]",
      "text/plain": [
       "<Figure size 432x288 with 1 Axes>"
      ]
     },
     "metadata": {
      "needs_background": "light"
     },
     "output_type": "display_data"
    }
   ],
   "source": [
    "ax = sns.countplot(x=\"labels\", data=combined_df)"
   ]
  },
  {
   "cell_type": "markdown",
   "metadata": {
    "id": "44waC7kHxHS4"
   },
   "source": [
    "# Instantiate Vectorizer"
   ]
  },
  {
   "cell_type": "code",
   "execution_count": 23,
   "metadata": {
    "id": "csbh7LyA1fQC"
   },
   "outputs": [],
   "source": [
    "# Class to Lemmatize words\n",
    "lemmmatizer = WordNetLemmatizer()\n",
    "\n",
    "class LemmaTokenizer:\n",
    "    def __init__(self):\n",
    "        self.wnl = WordNetLemmatizer()\n",
    "    def __call__(self, doc):\n",
    "        return [self.wnl.lemmatize(t) for t in word_tokenize(doc)]"
   ]
  },
  {
   "cell_type": "code",
   "execution_count": 24,
   "metadata": {
    "id": "B3n-bhfD1hzv"
   },
   "outputs": [],
   "source": [
    "# Instantiate Count Vectorizer\n",
    "cv = CountVectorizer(\n",
    "        input ='content',                 # Input content\n",
    "        analyzer = 'word',                # Break up text by words\n",
    "        stop_words = 'english',           # Remove English stop words\n",
    "        tokenizer = LemmaTokenizer(),     # Lemmatize words to their base\n",
    "        strip_accents = 'unicode',        # Remove unicode characters\n",
    "        ngram_range=(1, 3),               # Divide text into 1-3 word tokens\n",
    "        max_features=1000                 # Return top words\n",
    ")"
   ]
  },
  {
   "cell_type": "code",
   "execution_count": 82,
   "metadata": {},
   "outputs": [],
   "source": [
    "# We will also use TFID to vectorize our data\n",
    "TFIDF =TfidfVectorizer(input='content',\n",
    "                        analyzer = 'word',\n",
    "                        stop_words='english',\n",
    "                        tokenizer= LemmaTokenizer(),\n",
    "                        strip_accents = 'unicode', \n",
    "                        lowercase = True,\n",
    "                        max_features=1000\n",
    "                        )"
   ]
  },
  {
   "cell_type": "markdown",
   "metadata": {
    "id": "v8mfweZ51mZy"
   },
   "source": [
    "# Get Word Frequency Data Frame"
   ]
  },
  {
   "cell_type": "code",
   "execution_count": 25,
   "metadata": {
    "id": "UDEh1Xg-1nRc"
   },
   "outputs": [],
   "source": [
    "def create_df(text, vect):\n",
    "    '''\n",
    "    Create document term matrix data frame\n",
    "    '''\n",
    "    matrix = vect.fit_transform(text)                       # Apply CountVectorizer to get sparse matrix\n",
    "    words = vect.get_feature_names()                        # Get vocab or column names\n",
    "    df = pd.DataFrame(matrix.toarray(), columns = words)    # Convert matrix to a dataframe\n",
    "    return df "
   ]
  },
  {
   "cell_type": "code",
   "execution_count": 26,
   "metadata": {
    "colab": {
     "base_uri": "https://localhost:8080/",
     "height": 321
    },
    "id": "WvN8q4sy1sNf",
    "outputId": "a2a7f6de-b66b-4a5d-ce7d-a3b358d032b5"
   },
   "outputs": [
    {
     "name": "stderr",
     "output_type": "stream",
     "text": [
      "C:\\Users\\Susan Rico\\Anaconda3\\lib\\site-packages\\sklearn\\feature_extraction\\text.py:386: UserWarning: Your stop_words may be inconsistent with your preprocessing. Tokenizing the stop words generated tokens ['ha', 'le', 'u', 'wa'] not in stop_words.\n",
      "  'stop_words.' % sorted(inconsistent))\n"
     ]
    },
    {
     "data": {
      "text/html": [
       "<div>\n",
       "<style scoped>\n",
       "    .dataframe tbody tr th:only-of-type {\n",
       "        vertical-align: middle;\n",
       "    }\n",
       "\n",
       "    .dataframe tbody tr th {\n",
       "        vertical-align: top;\n",
       "    }\n",
       "\n",
       "    .dataframe thead th {\n",
       "        text-align: right;\n",
       "    }\n",
       "</style>\n",
       "<table border=\"1\" class=\"dataframe\">\n",
       "  <thead>\n",
       "    <tr style=\"text-align: right;\">\n",
       "      <th></th>\n",
       "      <th>able</th>\n",
       "      <th>absolutely</th>\n",
       "      <th>absolutely love</th>\n",
       "      <th>account</th>\n",
       "      <th>actually</th>\n",
       "      <th>actually added</th>\n",
       "      <th>actually added net</th>\n",
       "      <th>add</th>\n",
       "      <th>added</th>\n",
       "      <th>added net</th>\n",
       "      <th>...</th>\n",
       "      <th>yes</th>\n",
       "      <th>yh</th>\n",
       "      <th>yh gofr</th>\n",
       "      <th>young</th>\n",
       "      <th>youre</th>\n",
       "      <th>youtube</th>\n",
       "      <th>yup</th>\n",
       "      <th>zzfauvimfk</th>\n",
       "      <th>zzfauvimfk stayhome</th>\n",
       "      <th>zzfauvimfk stayhome read</th>\n",
       "    </tr>\n",
       "  </thead>\n",
       "  <tbody>\n",
       "    <tr>\n",
       "      <th>0</th>\n",
       "      <td>0</td>\n",
       "      <td>0</td>\n",
       "      <td>0</td>\n",
       "      <td>0</td>\n",
       "      <td>0</td>\n",
       "      <td>0</td>\n",
       "      <td>0</td>\n",
       "      <td>1</td>\n",
       "      <td>0</td>\n",
       "      <td>0</td>\n",
       "      <td>...</td>\n",
       "      <td>0</td>\n",
       "      <td>0</td>\n",
       "      <td>0</td>\n",
       "      <td>0</td>\n",
       "      <td>0</td>\n",
       "      <td>0</td>\n",
       "      <td>0</td>\n",
       "      <td>0</td>\n",
       "      <td>0</td>\n",
       "      <td>0</td>\n",
       "    </tr>\n",
       "    <tr>\n",
       "      <th>1</th>\n",
       "      <td>0</td>\n",
       "      <td>0</td>\n",
       "      <td>0</td>\n",
       "      <td>0</td>\n",
       "      <td>0</td>\n",
       "      <td>0</td>\n",
       "      <td>0</td>\n",
       "      <td>0</td>\n",
       "      <td>0</td>\n",
       "      <td>0</td>\n",
       "      <td>...</td>\n",
       "      <td>0</td>\n",
       "      <td>0</td>\n",
       "      <td>0</td>\n",
       "      <td>0</td>\n",
       "      <td>0</td>\n",
       "      <td>0</td>\n",
       "      <td>0</td>\n",
       "      <td>0</td>\n",
       "      <td>0</td>\n",
       "      <td>0</td>\n",
       "    </tr>\n",
       "    <tr>\n",
       "      <th>2</th>\n",
       "      <td>0</td>\n",
       "      <td>0</td>\n",
       "      <td>0</td>\n",
       "      <td>0</td>\n",
       "      <td>0</td>\n",
       "      <td>0</td>\n",
       "      <td>0</td>\n",
       "      <td>0</td>\n",
       "      <td>0</td>\n",
       "      <td>0</td>\n",
       "      <td>...</td>\n",
       "      <td>0</td>\n",
       "      <td>0</td>\n",
       "      <td>0</td>\n",
       "      <td>0</td>\n",
       "      <td>0</td>\n",
       "      <td>0</td>\n",
       "      <td>0</td>\n",
       "      <td>0</td>\n",
       "      <td>0</td>\n",
       "      <td>0</td>\n",
       "    </tr>\n",
       "    <tr>\n",
       "      <th>3</th>\n",
       "      <td>0</td>\n",
       "      <td>0</td>\n",
       "      <td>0</td>\n",
       "      <td>0</td>\n",
       "      <td>0</td>\n",
       "      <td>0</td>\n",
       "      <td>0</td>\n",
       "      <td>0</td>\n",
       "      <td>0</td>\n",
       "      <td>0</td>\n",
       "      <td>...</td>\n",
       "      <td>0</td>\n",
       "      <td>0</td>\n",
       "      <td>0</td>\n",
       "      <td>0</td>\n",
       "      <td>0</td>\n",
       "      <td>0</td>\n",
       "      <td>0</td>\n",
       "      <td>0</td>\n",
       "      <td>0</td>\n",
       "      <td>0</td>\n",
       "    </tr>\n",
       "    <tr>\n",
       "      <th>4</th>\n",
       "      <td>0</td>\n",
       "      <td>0</td>\n",
       "      <td>0</td>\n",
       "      <td>0</td>\n",
       "      <td>0</td>\n",
       "      <td>0</td>\n",
       "      <td>0</td>\n",
       "      <td>0</td>\n",
       "      <td>0</td>\n",
       "      <td>0</td>\n",
       "      <td>...</td>\n",
       "      <td>0</td>\n",
       "      <td>0</td>\n",
       "      <td>0</td>\n",
       "      <td>0</td>\n",
       "      <td>0</td>\n",
       "      <td>0</td>\n",
       "      <td>0</td>\n",
       "      <td>0</td>\n",
       "      <td>0</td>\n",
       "      <td>0</td>\n",
       "    </tr>\n",
       "  </tbody>\n",
       "</table>\n",
       "<p>5 rows × 1000 columns</p>\n",
       "</div>"
      ],
      "text/plain": [
       "   able  absolutely  absolutely love  account  actually  actually added  \\\n",
       "0     0           0                0        0         0               0   \n",
       "1     0           0                0        0         0               0   \n",
       "2     0           0                0        0         0               0   \n",
       "3     0           0                0        0         0               0   \n",
       "4     0           0                0        0         0               0   \n",
       "\n",
       "   actually added net  add  added  added net  ...  yes  yh  yh gofr  young  \\\n",
       "0                   0    1      0          0  ...    0   0        0      0   \n",
       "1                   0    0      0          0  ...    0   0        0      0   \n",
       "2                   0    0      0          0  ...    0   0        0      0   \n",
       "3                   0    0      0          0  ...    0   0        0      0   \n",
       "4                   0    0      0          0  ...    0   0        0      0   \n",
       "\n",
       "   youre  youtube  yup  zzfauvimfk  zzfauvimfk stayhome  \\\n",
       "0      0        0    0           0                    0   \n",
       "1      0        0    0           0                    0   \n",
       "2      0        0    0           0                    0   \n",
       "3      0        0    0           0                    0   \n",
       "4      0        0    0           0                    0   \n",
       "\n",
       "   zzfauvimfk stayhome read  \n",
       "0                         0  \n",
       "1                         0  \n",
       "2                         0  \n",
       "3                         0  \n",
       "4                         0  \n",
       "\n",
       "[5 rows x 1000 columns]"
      ]
     },
     "execution_count": 26,
     "metadata": {},
     "output_type": "execute_result"
    }
   ],
   "source": [
    "# Return dataframes for Count Vectorizer\n",
    "df = create_df(text, cv)\n",
    "\n",
    "# Print cleaned df\n",
    "df.head(5)"
   ]
  },
  {
   "cell_type": "code",
   "execution_count": 85,
   "metadata": {},
   "outputs": [
    {
     "data": {
      "text/html": [
       "<div>\n",
       "<style scoped>\n",
       "    .dataframe tbody tr th:only-of-type {\n",
       "        vertical-align: middle;\n",
       "    }\n",
       "\n",
       "    .dataframe tbody tr th {\n",
       "        vertical-align: top;\n",
       "    }\n",
       "\n",
       "    .dataframe thead th {\n",
       "        text-align: right;\n",
       "    }\n",
       "</style>\n",
       "<table border=\"1\" class=\"dataframe\">\n",
       "  <thead>\n",
       "    <tr style=\"text-align: right;\">\n",
       "      <th></th>\n",
       "      <th>abc</th>\n",
       "      <th>able</th>\n",
       "      <th>absolutely</th>\n",
       "      <th>access</th>\n",
       "      <th>account</th>\n",
       "      <th>act</th>\n",
       "      <th>actually</th>\n",
       "      <th>add</th>\n",
       "      <th>added</th>\n",
       "      <th>age</th>\n",
       "      <th>...</th>\n",
       "      <th>yea</th>\n",
       "      <th>yeah</th>\n",
       "      <th>year</th>\n",
       "      <th>yes</th>\n",
       "      <th>yh</th>\n",
       "      <th>young</th>\n",
       "      <th>youre</th>\n",
       "      <th>youtube</th>\n",
       "      <th>yup</th>\n",
       "      <th>zzfauvimfk</th>\n",
       "    </tr>\n",
       "  </thead>\n",
       "  <tbody>\n",
       "    <tr>\n",
       "      <th>0</th>\n",
       "      <td>0.0</td>\n",
       "      <td>0.0</td>\n",
       "      <td>0.0</td>\n",
       "      <td>0.0</td>\n",
       "      <td>0.0</td>\n",
       "      <td>0.0</td>\n",
       "      <td>0.0</td>\n",
       "      <td>0.245426</td>\n",
       "      <td>0.0</td>\n",
       "      <td>0.0</td>\n",
       "      <td>...</td>\n",
       "      <td>0.0</td>\n",
       "      <td>0.0</td>\n",
       "      <td>0.0</td>\n",
       "      <td>0.0</td>\n",
       "      <td>0.0</td>\n",
       "      <td>0.0</td>\n",
       "      <td>0.0</td>\n",
       "      <td>0.0</td>\n",
       "      <td>0.0</td>\n",
       "      <td>0.0</td>\n",
       "    </tr>\n",
       "    <tr>\n",
       "      <th>1</th>\n",
       "      <td>0.0</td>\n",
       "      <td>0.0</td>\n",
       "      <td>0.0</td>\n",
       "      <td>0.0</td>\n",
       "      <td>0.0</td>\n",
       "      <td>0.0</td>\n",
       "      <td>0.0</td>\n",
       "      <td>0.000000</td>\n",
       "      <td>0.0</td>\n",
       "      <td>0.0</td>\n",
       "      <td>...</td>\n",
       "      <td>0.0</td>\n",
       "      <td>0.0</td>\n",
       "      <td>0.0</td>\n",
       "      <td>0.0</td>\n",
       "      <td>0.0</td>\n",
       "      <td>0.0</td>\n",
       "      <td>0.0</td>\n",
       "      <td>0.0</td>\n",
       "      <td>0.0</td>\n",
       "      <td>0.0</td>\n",
       "    </tr>\n",
       "    <tr>\n",
       "      <th>2</th>\n",
       "      <td>0.0</td>\n",
       "      <td>0.0</td>\n",
       "      <td>0.0</td>\n",
       "      <td>0.0</td>\n",
       "      <td>0.0</td>\n",
       "      <td>0.0</td>\n",
       "      <td>0.0</td>\n",
       "      <td>0.000000</td>\n",
       "      <td>0.0</td>\n",
       "      <td>0.0</td>\n",
       "      <td>...</td>\n",
       "      <td>0.0</td>\n",
       "      <td>0.0</td>\n",
       "      <td>0.0</td>\n",
       "      <td>0.0</td>\n",
       "      <td>0.0</td>\n",
       "      <td>0.0</td>\n",
       "      <td>0.0</td>\n",
       "      <td>0.0</td>\n",
       "      <td>0.0</td>\n",
       "      <td>0.0</td>\n",
       "    </tr>\n",
       "    <tr>\n",
       "      <th>3</th>\n",
       "      <td>0.0</td>\n",
       "      <td>0.0</td>\n",
       "      <td>0.0</td>\n",
       "      <td>0.0</td>\n",
       "      <td>0.0</td>\n",
       "      <td>0.0</td>\n",
       "      <td>0.0</td>\n",
       "      <td>0.000000</td>\n",
       "      <td>0.0</td>\n",
       "      <td>0.0</td>\n",
       "      <td>...</td>\n",
       "      <td>0.0</td>\n",
       "      <td>0.0</td>\n",
       "      <td>0.0</td>\n",
       "      <td>0.0</td>\n",
       "      <td>0.0</td>\n",
       "      <td>0.0</td>\n",
       "      <td>0.0</td>\n",
       "      <td>0.0</td>\n",
       "      <td>0.0</td>\n",
       "      <td>0.0</td>\n",
       "    </tr>\n",
       "    <tr>\n",
       "      <th>4</th>\n",
       "      <td>0.0</td>\n",
       "      <td>0.0</td>\n",
       "      <td>0.0</td>\n",
       "      <td>0.0</td>\n",
       "      <td>0.0</td>\n",
       "      <td>0.0</td>\n",
       "      <td>0.0</td>\n",
       "      <td>0.000000</td>\n",
       "      <td>0.0</td>\n",
       "      <td>0.0</td>\n",
       "      <td>...</td>\n",
       "      <td>0.0</td>\n",
       "      <td>0.0</td>\n",
       "      <td>0.0</td>\n",
       "      <td>0.0</td>\n",
       "      <td>0.0</td>\n",
       "      <td>0.0</td>\n",
       "      <td>0.0</td>\n",
       "      <td>0.0</td>\n",
       "      <td>0.0</td>\n",
       "      <td>0.0</td>\n",
       "    </tr>\n",
       "  </tbody>\n",
       "</table>\n",
       "<p>5 rows × 1000 columns</p>\n",
       "</div>"
      ],
      "text/plain": [
       "   abc  able  absolutely  access  account  act  actually       add  added  \\\n",
       "0  0.0   0.0         0.0     0.0      0.0  0.0       0.0  0.245426    0.0   \n",
       "1  0.0   0.0         0.0     0.0      0.0  0.0       0.0  0.000000    0.0   \n",
       "2  0.0   0.0         0.0     0.0      0.0  0.0       0.0  0.000000    0.0   \n",
       "3  0.0   0.0         0.0     0.0      0.0  0.0       0.0  0.000000    0.0   \n",
       "4  0.0   0.0         0.0     0.0      0.0  0.0       0.0  0.000000    0.0   \n",
       "\n",
       "   age  ...  yea  yeah  year  yes   yh  young  youre  youtube  yup  zzfauvimfk  \n",
       "0  0.0  ...  0.0   0.0   0.0  0.0  0.0    0.0    0.0      0.0  0.0         0.0  \n",
       "1  0.0  ...  0.0   0.0   0.0  0.0  0.0    0.0    0.0      0.0  0.0         0.0  \n",
       "2  0.0  ...  0.0   0.0   0.0  0.0  0.0    0.0    0.0      0.0  0.0         0.0  \n",
       "3  0.0  ...  0.0   0.0   0.0  0.0  0.0    0.0    0.0      0.0  0.0         0.0  \n",
       "4  0.0  ...  0.0   0.0   0.0  0.0  0.0    0.0    0.0      0.0  0.0         0.0  \n",
       "\n",
       "[5 rows x 1000 columns]"
      ]
     },
     "execution_count": 85,
     "metadata": {},
     "output_type": "execute_result"
    }
   ],
   "source": [
    "# TFIDF data\n",
    "df2 = create_df(text, TFIDF)\n",
    "\n",
    "# Print cleaned df\n",
    "df2.head(5)"
   ]
  },
  {
   "cell_type": "markdown",
   "metadata": {
    "id": "vP9GW_C32oB2"
   },
   "source": [
    "# Training and Testing"
   ]
  },
  {
   "cell_type": "code",
   "execution_count": 27,
   "metadata": {
    "id": "wsuovEdY2hR1"
   },
   "outputs": [],
   "source": [
    "# Insert labels into data frame and get X, y values\n",
    "X = df.copy() \n",
    "df['label'] = labels\n",
    "y = df['label']"
   ]
  },
  {
   "cell_type": "code",
   "execution_count": 81,
   "metadata": {
    "colab": {
     "base_uri": "https://localhost:8080/"
    },
    "id": "sQDRtK332keD",
    "outputId": "66a06936-e5e3-4197-d8b1-5f236cd1e11e"
   },
   "outputs": [
    {
     "name": "stdout",
     "output_type": "stream",
     "text": [
      "(3500, 1000) (1500, 1000) (3500,) (1500,)\n"
     ]
    }
   ],
   "source": [
    "# Divide into training and testing\n",
    "X_train, X_test, y_train, y_test = train_test_split(X, y, test_size=0.3)\n",
    "print(X_train.shape, X_test.shape, y_train.shape, y_test.shape)"
   ]
  },
  {
   "cell_type": "code",
   "execution_count": 86,
   "metadata": {},
   "outputs": [],
   "source": [
    "# Insert labels into data frame and get X, y values for TFID data\n",
    "X2 = df2.copy() \n",
    "df2['label'] = labels\n",
    "y2 = df['label']"
   ]
  },
  {
   "cell_type": "code",
   "execution_count": 87,
   "metadata": {},
   "outputs": [
    {
     "name": "stdout",
     "output_type": "stream",
     "text": [
      "(3500, 1000) (1500, 1000) (3500,) (1500,)\n"
     ]
    }
   ],
   "source": [
    "# Divide into training and testing\n",
    "X2_train, X2_test, y2_train, y2_test = train_test_split(X2, y2, test_size=0.3)\n",
    "print(X2_train.shape, X2_test.shape, y2_train.shape, y2_test.shape)"
   ]
  },
  {
   "cell_type": "markdown",
   "metadata": {
    "id": "ovg5QAA0xFDt"
   },
   "source": [
    "# Get Accuracy"
   ]
  },
  {
   "cell_type": "code",
   "execution_count": 29,
   "metadata": {
    "id": "hf5fOsz52vYC"
   },
   "outputs": [],
   "source": [
    "def get_accuracy(model, pred, test, X, y):\n",
    "    '''\n",
    "    Returns Confusion matrix and accuracy score for validity\n",
    "    '''\n",
    "    # Get accuracy score\n",
    "    score = accuracy_score(test, pred) \n",
    "    \n",
    "    # Get cross validation score\n",
    "    cv_scores = cross_val_score(model, X, y, cv=7, scoring='accuracy')\n",
    "\n",
    "    # Get f1 statistic: F1 = 2 * (precision * recall) / (precision + recall)\n",
    "    f_score = f1_score(test, pred, average='weighted') \n",
    "    \n",
    "    # Create confusion matrix\n",
    "    cm = confusion_matrix(pred, test) \n",
    "\n",
    "    # Create heatmap using Seaborn\n",
    "    names = np.unique(pred)\n",
    "    sns.heatmap(cm, \n",
    "                square=True,\n",
    "                xticklabels=names, \n",
    "                yticklabels=names)\n",
    "    plt.xlabel('Actual')\n",
    "    plt.ylabel('Predicted')\n",
    "    \n",
    "    # Print Scores\n",
    "    print(\"Accuracy Score: \\n{}\\n\".format(score))\n",
    "    print(\"Cross Validation Score: \\n{}\\n\".format(cv_scores.mean()))\n",
    "    print(\"F1 Score: \\n{}\\n\".format(f_score))\n",
    "    print(\"Confusion Matrix: \\n{}\\n\".format(cm))"
   ]
  },
  {
   "cell_type": "markdown",
   "metadata": {
    "id": "DWyfdSwb24pg"
   },
   "source": [
    "# Naive Bayes"
   ]
  },
  {
   "cell_type": "code",
   "execution_count": 30,
   "metadata": {
    "id": "BUDo5UL320EF"
   },
   "outputs": [],
   "source": [
    "# Initiate naive Bayes model\n",
    "nb = MultinomialNB()\n",
    "\n",
    "# Train naive Bayes model\n",
    "nb.fit(X_train, y_train)\n",
    "\n",
    "# Create prediction from\n",
    "nb_pred = nb.predict(X_test)"
   ]
  },
  {
   "cell_type": "code",
   "execution_count": 31,
   "metadata": {
    "colab": {
     "base_uri": "https://localhost:8080/",
     "height": 551
    },
    "id": "8_UQIsyc28qZ",
    "outputId": "5bcdb8f0-7e55-4a0a-8875-e4cc90ebbc83"
   },
   "outputs": [
    {
     "name": "stdout",
     "output_type": "stream",
     "text": [
      "Naive Bayes Model\n",
      "-----------------\n",
      "\n",
      "Accuracy Score: \n",
      "0.672\n",
      "\n",
      "Cross Validation Score: \n",
      "0.6937737332695315\n",
      "\n",
      "F1 Score: \n",
      "0.6706811431139102\n",
      "\n",
      "Confusion Matrix: \n",
      "[[463 191]\n",
      " [301 545]]\n",
      "\n"
     ]
    },
    {
     "data": {
      "image/png": "[encoded data removed]",
      "text/plain": [
       "<Figure size 432x288 with 2 Axes>"
      ]
     },
     "metadata": {
      "needs_background": "light"
     },
     "output_type": "display_data"
    }
   ],
   "source": [
    "# Return Accuracy scores\n",
    "print(\"Naive Bayes Model\")\n",
    "print(\"-----------------\\n\")\n",
    "get_accuracy(nb, nb_pred, y_test, X, y)"
   ]
  },
  {
   "cell_type": "markdown",
   "metadata": {
    "id": "CSl3o0wM3A_p"
   },
   "source": [
    "# Support Vector Machines (Linear)"
   ]
  },
  {
   "cell_type": "code",
   "execution_count": 55,
   "metadata": {
    "id": "9Z4PtL4T3GEM"
   },
   "outputs": [],
   "source": [
    "# Create SVM model \n",
    "svm = SVC(kernel = 'linear', C=1)\n",
    "\n",
    "# Train SVM model for CV\n",
    "svm.fit(X_train, y_train)\n",
    "\n",
    "# Create prediction from SVM model\n",
    "svm_pred = svm.predict(X_test)"
   ]
  },
  {
   "cell_type": "code",
   "execution_count": null,
   "metadata": {
    "colab": {
     "base_uri": "https://localhost:8080/",
     "height": 555
    },
    "id": "6Oyz_-JI3Jpc",
    "outputId": "19dff88f-c291-4e3a-e0af-2887e5f36197"
   },
   "outputs": [],
   "source": [
    "# Return Accuracy scores \n",
    "print(\"SVM Model\")\n",
    "print(\"---------\\n\")\n",
    "get_accuracy(svm, svm_pred, y_test, X, y)"
   ]
  },
  {
   "cell_type": "markdown",
   "metadata": {},
   "source": [
    "## cross validation scores for models including RandomForest, SVM, and NB (cv data)"
   ]
  },
  {
   "cell_type": "code",
   "execution_count": 95,
   "metadata": {},
   "outputs": [
    {
     "data": {
      "text/plain": [
       "0.6774"
      ]
     },
     "execution_count": 95,
     "metadata": {},
     "output_type": "execute_result"
    }
   ],
   "source": [
    "score1 =cross_val_score(LogisticRegression(solver='liblinear',multi_class='ovr'),X, y,cv=5)\n",
    "np.average(score1)"
   ]
  },
  {
   "cell_type": "code",
   "execution_count": 69,
   "metadata": {},
   "outputs": [
    {
     "data": {
      "text/plain": [
       "0.6066"
      ]
     },
     "execution_count": 69,
     "metadata": {},
     "output_type": "execute_result"
    }
   ],
   "source": [
    "# Support Vector Classification cross validation\n",
    "score2=cross_val_score(SVC(gamma='auto'), X, y,cv=5)\n",
    "np.average(score2)"
   ]
  },
  {
   "cell_type": "code",
   "execution_count": 73,
   "metadata": {},
   "outputs": [
    {
     "data": {
      "text/plain": [
       "0.6245999999999999"
      ]
     },
     "execution_count": 73,
     "metadata": {},
     "output_type": "execute_result"
    }
   ],
   "source": [
    "# Random Forest Classifier cross validation\n",
    "score3=cross_val_score(RandomForestClassifier(n_estimators=40),X, y,cv=5)\n",
    "np.average(score3)"
   ]
  },
  {
   "cell_type": "code",
   "execution_count": 74,
   "metadata": {},
   "outputs": [
    {
     "data": {
      "text/plain": [
       "0.6534000000000001"
      ]
     },
     "execution_count": 74,
     "metadata": {},
     "output_type": "execute_result"
    }
   ],
   "source": [
    "# Naive Bayes - Multinomial cross validation\n",
    "score8=cross_val_score(MultinomialNB(),X, y,cv=5)\n",
    "np.average(score8)"
   ]
  },
  {
   "cell_type": "markdown",
   "metadata": {},
   "source": [
    "## Cross validation scores including RandomForest, SVM, and NB (TFIDF)"
   ]
  },
  {
   "cell_type": "code",
   "execution_count": 91,
   "metadata": {},
   "outputs": [
    {
     "data": {
      "text/plain": [
       "0.648"
      ]
     },
     "execution_count": 91,
     "metadata": {},
     "output_type": "execute_result"
    }
   ],
   "source": [
    "#Tfid regression model\n",
    "score4 =cross_val_score(LogisticRegression(solver='liblinear',multi_class='ovr'),X2, y2,cv=5)\n",
    "np.average(score4)"
   ]
  },
  {
   "cell_type": "code",
   "execution_count": 92,
   "metadata": {},
   "outputs": [
    {
     "data": {
      "text/plain": [
       "0.5012000000000001"
      ]
     },
     "execution_count": 92,
     "metadata": {},
     "output_type": "execute_result"
    }
   ],
   "source": [
    "#Tfid SVM\n",
    "score5=cross_val_score(SVC(gamma='auto'), X2, y2,cv=5)\n",
    "np.average(score5)"
   ]
  },
  {
   "cell_type": "code",
   "execution_count": 93,
   "metadata": {},
   "outputs": [
    {
     "data": {
      "text/plain": [
       "0.6228"
      ]
     },
     "execution_count": 93,
     "metadata": {},
     "output_type": "execute_result"
    }
   ],
   "source": [
    "# Tfid RandomForest\n",
    "score6=cross_val_score(RandomForestClassifier(n_estimators=40),X2, y2,cv=5)\n",
    "np.average(score6)"
   ]
  },
  {
   "cell_type": "code",
   "execution_count": 90,
   "metadata": {},
   "outputs": [
    {
     "data": {
      "text/plain": [
       "0.6674"
      ]
     },
     "execution_count": 90,
     "metadata": {},
     "output_type": "execute_result"
    }
   ],
   "source": [
    "# Tfid Naive Bayes\n",
    "score7=cross_val_score(MultinomialNB(),X2, y2,cv=5)\n",
    "np.average(score7)"
   ]
  },
  {
   "cell_type": "code",
   "execution_count": 100,
   "metadata": {},
   "outputs": [],
   "source": [
    "# Save model and accuracy information for plotting model scores\n",
    "model =['LogisticRegression_CV','SVM_CV', 'RandomForest_CV','NaiveBayes_CV','LogisticRegression_TF','SVM_TF', 'RandomForest_TF','NaiveBayes_TF']\n",
    "accuracy =[np.average(score1),np.average(score2),np.average(score3),np.average(score8),np.average(score4),np.average(score5),np.average(score6),np.average(score7)]"
   ]
  },
  {
   "cell_type": "code",
   "execution_count": 101,
   "metadata": {},
   "outputs": [
    {
     "name": "stderr",
     "output_type": "stream",
     "text": [
      "C:\\Users\\Susan Rico\\Anaconda3\\lib\\site-packages\\ipykernel_launcher.py:4: MatplotlibDeprecationWarning: Using a string of single character colors as a color sequence is deprecated since 3.2 and will be removed two minor releases later. Use an explicit list instead.\n",
      "  after removing the cwd from sys.path.\n"
     ]
    },
    {
     "data": {
      "text/plain": [
       "Text(0.5, 0, 'Models')"
      ]
     },
     "execution_count": 101,
     "metadata": {},
     "output_type": "execute_result"
    },
    {
     "data": {
      "image/png": "[encoded data removed]",
      "text/plain": [
       "<Figure size 1080x360 with 1 Axes>"
      ]
     },
     "metadata": {
      "needs_background": "light"
     },
     "output_type": "display_data"
    }
   ],
   "source": [
    "# Plot scores\n",
    "my_colors = 'rgbkymc' \n",
    "plt.figure(figsize=(15,5))\n",
    "plt.bar(model, accuracy,color=my_colors)\n",
    "plt.xticks(rotation=40)\n",
    "plt.title(\"Model Accuracy Comparison\")\n",
    "plt.ylabel('Percent Accuracy')\n",
    "plt.xlabel('Models')\n",
    "\n"
   ]
  },
  {
   "cell_type": "markdown",
   "metadata": {
    "id": "8d2E5sVV7Cya"
   },
   "source": [
    "# Top Feature"
   ]
  },
  {
   "cell_type": "markdown",
   "metadata": {},
   "source": [
    "## Look at top features for Naive Bayes Model"
   ]
  },
  {
   "cell_type": "code",
   "execution_count": null,
   "metadata": {},
   "outputs": [],
   "source": [
    "# Save our features\n",
    "features = np.array(cv.get_feature_names())"
   ]
  },
  {
   "cell_type": "code",
   "execution_count": null,
   "metadata": {},
   "outputs": [],
   "source": [
    "#Look at top features for the NAIVE BAYES model\n",
    "non_sarcasm_coeffs = pd.DataFrame({'feature': features, 'coeff': nb.feature_log_prob_[0]})\n",
    "sarcasm_coeffs = pd.DataFrame({'feature': features, 'coeff': nb.feature_log_prob_[1]})"
   ]
  },
  {
   "cell_type": "code",
   "execution_count": 43,
   "metadata": {},
   "outputs": [],
   "source": [
    "# Look at top 50 features for both candidates\n",
    "# (Log probability, so very high probability corresponds to negative values closer to zero)\n",
    "non_sarcasm_top = non_sarcasm_coeffs.sort_values('coeff').tail(50)\n",
    "sarcasm_top = sarcasm_coeffs.sort_values('coeff').tail(50)\n",
    "\n"
   ]
  },
  {
   "cell_type": "code",
   "execution_count": 44,
   "metadata": {},
   "outputs": [],
   "source": [
    "# Get top unique features by taking the symmetric difference of the top 50 for the two candidates\n",
    "top_unique = list(set(non_sarcasm_top['feature']).symmetric_difference(set(sarcasm_top['feature'])))\n",
    "\n"
   ]
  },
  {
   "cell_type": "code",
   "execution_count": 48,
   "metadata": {},
   "outputs": [],
   "source": [
    "# Get the key features for each candidate by finding the top ones in the unique list\n",
    "non_sarcasm_key_features = non_sarcasm_top[non_sarcasm_top.apply(lambda x: x['feature'] in top_unique, axis=1)].head(30)\n",
    "non_sarcasm_key_features.reset_index(drop=True, inplace=True)\n",
    "\n",
    "sarcasm_key_features = sarcasm_top[sarcasm_top.apply(lambda x: x['feature'] in top_unique, axis=1)].head(30)\n",
    "sarcasm_key_features.reset_index(drop=True, inplace=True)\n",
    "\n",
    "\n"
   ]
  },
  {
   "cell_type": "code",
   "execution_count": 50,
   "metadata": {},
   "outputs": [
    {
     "data": {
      "image/png": "[encoded data removed]",
      "text/plain": [
       "<Figure size 1440x720 with 2 Axes>"
      ]
     },
     "metadata": {
      "needs_background": "light"
     },
     "output_type": "display_data"
    }
   ],
   "source": [
    "# Show these top features for each category along with their log probabilities\n",
    "fig, axs = plt.subplots(nrows=1, ncols=2, figsize=[20,10])\n",
    "axs[0].barh(sarcasm_key_features['feature'], width=sarcasm_key_features['coeff'], height=1, color='red')\n",
    "axs[0].set_title('Key Features for Sarcasm')\n",
    "axs[0].set_xlabel('Feature Log Probability')\n",
    "axs[1].barh(non_sarcasm_key_features['feature'], width=non_sarcasm_key_features['coeff'], height=1, color='blue')\n",
    "axs[1].set_title('Key Features for Non-Sarcasm')\n",
    "axs[1].set_xlabel('Feature Log Probability')\n",
    "plt.show()\n"
   ]
  },
  {
   "cell_type": "markdown",
   "metadata": {},
   "source": [
    "## Top Feature for SVM Model"
   ]
  },
  {
   "cell_type": "code",
   "execution_count": 58,
   "metadata": {},
   "outputs": [
    {
     "name": "stdout",
     "output_type": "stream",
     "text": [
      "[286 381 281 545 479 566 256 206 129 368]\n",
      "[919 445 649 915  92 753 513 631 231 299]\n"
     ]
    },
    {
     "data": {
      "image/png": "[encoded data removed]",
      "text/plain": [
       "<Figure size 1080x360 with 1 Axes>"
      ]
     },
     "metadata": {
      "needs_background": "light"
     },
     "output_type": "display_data"
    }
   ],
   "source": [
    "def plot_coefficients(MODEL=svm, COLNAMES=X_train.columns, top_features=10):\n",
    "    ## Model if SVM MUST be SVC, RE: SVM_Model=LinearSVC(C=10)\n",
    "    coef = svm.coef_.ravel()\n",
    "    top_positive_coefficients = np.argsort(coef,axis=0)[-top_features:]\n",
    "    print(top_positive_coefficients)\n",
    "    top_negative_coefficients = np.argsort(coef,axis=0)[:top_features]\n",
    "    print(top_negative_coefficients)\n",
    "    top_coefficients = np.hstack([top_negative_coefficients, top_positive_coefficients])\n",
    "    # create plot\n",
    "    plt.figure(figsize=(15, 5))\n",
    "    colors = [\"red\" if c < 0 else \"blue\" for c in coef[top_coefficients]]\n",
    "    plt.bar(  x=  np.arange(2 * top_features)  , height=coef[top_coefficients], width=.5,  color=colors)\n",
    "    feature_names = np.array(COLNAMES)\n",
    "    plt.xticks(np.arange(0, (2*top_features)), feature_names[top_coefficients], rotation=60, ha=\"right\")\n",
    "    plt.show()\n",
    "    \n",
    "\n",
    "plot_coefficients()"
   ]
  },
  {
   "cell_type": "code",
   "execution_count": null,
   "metadata": {},
   "outputs": [],
   "source": []
  }
 ],
 "metadata": {
  "colab": {
   "collapsed_sections": [],
   "name": "sarcasm_detection.ipynb",
   "provenance": [],
   "toc_visible": true
  },
  "kernelspec": {
   "display_name": "Python 3",
   "language": "python",
   "name": "python3"
  },
  "language_info": {
   "codemirror_mode": {
    "name": "ipython",
    "version": 3
   },
   "file_extension": ".py",
   "mimetype": "text/x-python",
   "name": "python",
   "nbconvert_exporter": "python",
   "pygments_lexer": "ipython3",
   "version": "3.7.6"
  }
 },
 "nbformat": 4,
 "nbformat_minor": 1
}
