{
 "cells": [
  {
   "cell_type": "markdown",
   "metadata": {
    "id": "5Z_m9AHk1Ims"
   },
   "source": [
    "# Load Packages"
   ]
  },
  {
   "cell_type": "code",
   "execution_count": 246,
   "metadata": {
    "colab": {
     "base_uri": "https://localhost:8080/"
    },
    "id": "w25IFB68xZcl",
    "outputId": "dab7f10d-aff7-4290-da31-99ef4b993984"
   },
   "outputs": [
    {
     "name": "stdout",
     "output_type": "stream",
     "text": [
      "[nltk_data] Downloading package punkt to /root/nltk_data...\n",
      "[nltk_data]   Package punkt is already up-to-date!\n",
      "[nltk_data] Downloading package wordnet to /root/nltk_data...\n",
      "[nltk_data]   Package wordnet is already up-to-date!\n"
     ]
    },
    {
     "data": {
      "text/plain": [
       "True"
      ]
     },
     "execution_count": 246,
     "metadata": {
      "tags": []
     },
     "output_type": "execute_result"
    }
   ],
   "source": [
    "import matplotlib.pyplot as plt\n",
    "import numpy as np\n",
    "import pandas as pd\n",
    "import re\n",
    "import seaborn as sns\n",
    "import string\n",
    "import tweepy as tw\n",
    "\n",
    "# nltk packages\n",
    "import nltk\n",
    "from nltk.corpus import stopwords\n",
    "from nltk.stem.wordnet import WordNetLemmatizer\n",
    "from nltk.tokenize import sent_tokenize, word_tokenize\n",
    "from nltk.stem import WordNetLemmatizer\n",
    "\n",
    "# Sklearn packages\n",
    "from sklearn.feature_extraction.text import CountVectorizer, TfidfVectorizer\n",
    "from sklearn.metrics import confusion_matrix, classification_report, accuracy_score, f1_score\n",
    "from sklearn.model_selection import train_test_split, cross_val_score\n",
    "from sklearn.naive_bayes import MultinomialNB\n",
    "from sklearn.pipeline import Pipeline\n",
    "from sklearn.svm import SVC\n",
    "from sklearn.linear_model import LogisticRegression\n",
    "from sklearn.svm import SVC\n",
    "from sklearn.ensemble import RandomForestClassifier\n",
    "import numpy as np\n",
    "from sklearn.datasets import load_digits\n",
    "\n",
    "from google.colab import drive\n",
    "nltk.download('punkt')\n",
    "nltk.download('wordnet')\n"
   ]
  },
  {
   "cell_type": "markdown",
   "metadata": {
    "id": "EqSlTxCmFWqi"
   },
   "source": [
    "## Extract Twitter Data using Tweepy API"
   ]
  },
  {
   "cell_type": "code",
   "execution_count": 247,
   "metadata": {
    "colab": {
     "base_uri": "https://localhost:8080/",
     "height": 120
    },
    "id": "1dr0SN75FWqi",
    "outputId": "f89a1cc2-fbd6-496f-f0ef-ff4cc5271c63"
   },
   "outputs": [
    {
     "data": {
      "application/vnd.google.colaboratory.intrinsic+json": {
       "type": "string"
      },
      "text/plain": [
       "'\\n#Instantiate tweepy API --- API keys have been removed \\nconsumer_key= \\'TKlbEydyWnvDXXXXXXXXX\\'\\nconsumer_secret= \\'AsmEHtBqdsOw3vWXiqfXXXXXXXXX\\'\\naccess_token= \\'44821419-FvKUyjDgtQA2KzWNqjhzXXXXXXXXXXX\\'\\naccess_token_secret= \\'Bdj79RfElHp5CQm3CirblXXXXXXXXXXXXXXXX\\'\\n\\nauth = tw.OAuthHandler(consumer_key, consumer_secret)\\nauth.set_access_token(access_token, access_token_secret)\\napi = tw.API(auth, wait_on_rate_limit=True)\\n\\n# Define the search term and the date_since date as variables\\nsearch_words = \"#news\"\\n'"
      ]
     },
     "execution_count": 247,
     "metadata": {
      "tags": []
     },
     "output_type": "execute_result"
    }
   ],
   "source": [
    "'''\n",
    "#Instantiate tweepy API --- API keys have been removed \n",
    "consumer_key= 'TKlbEydyWnvDXXXXXXXXX'\n",
    "consumer_secret= 'AsmEHtBqdsOw3vWXiqfXXXXXXXXX'\n",
    "access_token= '44821419-FvKUyjDgtQA2KzWNqjhzXXXXXXXXXXX'\n",
    "access_token_secret= 'Bdj79RfElHp5CQm3CirblXXXXXXXXXXXXXXXX'\n",
    "\n",
    "auth = tw.OAuthHandler(consumer_key, consumer_secret)\n",
    "auth.set_access_token(access_token, access_token_secret)\n",
    "api = tw.API(auth, wait_on_rate_limit=True)\n",
    "\n",
    "# Define the search term and the date_since date as variables\n",
    "search_words = \"#news\"\n",
    "'''"
   ]
  },
  {
   "cell_type": "code",
   "execution_count": null,
   "metadata": {
    "id": "yBIK4XtoFWqj"
   },
   "outputs": [],
   "source": [
    "''''\n",
    "# Collect tweets\n",
    "tweets = tw.Cursor(api.search,\n",
    "              q=search_words,\n",
    "              lang=\"en\",\n",
    "              tweet_mode = \"extended\",  \n",
    "              include_rts=False,).items(3000) "
   ]
  },
  {
   "cell_type": "code",
   "execution_count": null,
   "metadata": {
    "id": "kNhGEUehFWqj"
   },
   "outputs": [],
   "source": [
    "''''\n",
    "#save tweets\n",
    "searched_tweets = [status._json for status in tweets]\n",
    "json_strings = [json.dumps(json_obj) for json_obj in searched_tweets]  \n"
   ]
  },
  {
   "cell_type": "code",
   "execution_count": null,
   "metadata": {
    "id": "Obn5nrUdFWqj"
   },
   "outputs": [],
   "source": [
    "''''\n",
    "# Write to json file\n",
    "with open(\"news.json\", \"w\", encoding='utf8') as f: \n",
    "    f.write('[')\n",
    "    for i,x in enumerate(json_strings):\n",
    "        f.write(x)\n",
    "        if i != len(json_strings) - 1:\n",
    "            f.write(\",\")\n",
    "        \n",
    "    f.write(']')"
   ]
  },
  {
   "cell_type": "code",
   "execution_count": 248,
   "metadata": {
    "id": "uMn2fNYaFWqj"
   },
   "outputs": [],
   "source": [
    "\n",
    "# Open json file 'read'\n",
    "#with open('news.json', 'r') as tweetfile:\n",
    " # newstweets = json.loads(tweetfile.read())"
   ]
  },
  {
   "cell_type": "code",
   "execution_count": null,
   "metadata": {
    "id": "QhijMLvBFWqk"
   },
   "outputs": [],
   "source": [
    "# Save tweets into pd dataframe\n",
    "#news_tweets = pd.read_json('news.json')\n",
    "#print(news_tweets.head())"
   ]
  },
  {
   "cell_type": "code",
   "execution_count": null,
   "metadata": {
    "id": "uLI7ER_EFWqk"
   },
   "outputs": [],
   "source": [
    "# Save to csv file to distribute to the rest of the groupmembers\n",
    "#news_tweets.to_csv('news_tweet.csv', index = False)\n"
   ]
  },
  {
   "cell_type": "markdown",
   "metadata": {
    "id": "Fg_ojV4I1FMV"
   },
   "source": [
    "# Read Files"
   ]
  },
  {
   "cell_type": "code",
   "execution_count": 249,
   "metadata": {
    "id": "W0_LzsfLxTHp"
   },
   "outputs": [],
   "source": [
    "# Read in files\n",
    "file_path = \"/content/sample_data/\"\n",
    "reddit_comments_file = \"reddit_comments_sample.csv\"\n",
    "sarcastic_twitter_api_file = \"sarcastic_tweets.csv\"\n",
    "news_twitter_file = \"news_tweets.csv\"\n",
    "sarcastic_twitter_narcis_file = \"sarcasm.csv\""
   ]
  },
  {
   "cell_type": "code",
   "execution_count": 250,
   "metadata": {
    "colab": {
     "base_uri": "https://localhost:8080/",
     "height": 598
    },
    "id": "19lFMHi6xjxf",
    "outputId": "2b8ac6a7-d768-4d79-b36e-7f4493292f27"
   },
   "outputs": [
    {
     "data": {
      "text/html": [
       "<div>\n",
       "<style scoped>\n",
       "    .dataframe tbody tr th:only-of-type {\n",
       "        vertical-align: middle;\n",
       "    }\n",
       "\n",
       "    .dataframe tbody tr th {\n",
       "        vertical-align: top;\n",
       "    }\n",
       "\n",
       "    .dataframe thead th {\n",
       "        text-align: right;\n",
       "    }\n",
       "</style>\n",
       "<table border=\"1\" class=\"dataframe\">\n",
       "  <thead>\n",
       "    <tr style=\"text-align: right;\">\n",
       "      <th></th>\n",
       "      <th>Unnamed: 0</th>\n",
       "      <th>label</th>\n",
       "      <th>comment</th>\n",
       "      <th>author</th>\n",
       "      <th>subreddit</th>\n",
       "      <th>score</th>\n",
       "      <th>ups</th>\n",
       "      <th>downs</th>\n",
       "      <th>date</th>\n",
       "      <th>created_utc</th>\n",
       "      <th>parent_comment</th>\n",
       "    </tr>\n",
       "  </thead>\n",
       "  <tbody>\n",
       "    <tr>\n",
       "      <th>565</th>\n",
       "      <td>417747</td>\n",
       "      <td>0</td>\n",
       "      <td>Jet fuel can't melt wood beems.</td>\n",
       "      <td>thekidslaughter</td>\n",
       "      <td>AskReddit</td>\n",
       "      <td>2</td>\n",
       "      <td>2</td>\n",
       "      <td>0</td>\n",
       "      <td>2016-02</td>\n",
       "      <td>2016-02-16 16:44:37</td>\n",
       "      <td>Wood as a structural building material. It bur...</td>\n",
       "    </tr>\n",
       "    <tr>\n",
       "      <th>1223</th>\n",
       "      <td>840209</td>\n",
       "      <td>1</td>\n",
       "      <td>Rex Ryan is guru for young QBs</td>\n",
       "      <td>tootie</td>\n",
       "      <td>nfl</td>\n",
       "      <td>0</td>\n",
       "      <td>0</td>\n",
       "      <td>0</td>\n",
       "      <td>2014-12</td>\n",
       "      <td>2014-12-29 21:11:01</td>\n",
       "      <td>Is Oakland all that far from being decent, tho...</td>\n",
       "    </tr>\n",
       "    <tr>\n",
       "      <th>1581</th>\n",
       "      <td>592204</td>\n",
       "      <td>1</td>\n",
       "      <td>So it is pretty bad ;p</td>\n",
       "      <td>LaGGwagen</td>\n",
       "      <td>ShitWehraboosSay</td>\n",
       "      <td>1</td>\n",
       "      <td>1</td>\n",
       "      <td>0</td>\n",
       "      <td>2015-12</td>\n",
       "      <td>2015-12-29 01:17:31</td>\n",
       "      <td>It's flight performance is that of an F-35 unt...</td>\n",
       "    </tr>\n",
       "    <tr>\n",
       "      <th>959</th>\n",
       "      <td>740100</td>\n",
       "      <td>1</td>\n",
       "      <td>body positivity cmon guys shes so beautiful ri...</td>\n",
       "      <td>batfolx</td>\n",
       "      <td>FiftyFifty</td>\n",
       "      <td>2</td>\n",
       "      <td>2</td>\n",
       "      <td>0</td>\n",
       "      <td>2015-05</td>\n",
       "      <td>2015-05-30 14:28:24</td>\n",
       "      <td>Rosie Macc stunt double for Emlia Clarke AKA D...</td>\n",
       "    </tr>\n",
       "    <tr>\n",
       "      <th>1974</th>\n",
       "      <td>605110</td>\n",
       "      <td>1</td>\n",
       "      <td>Does he have cold hands and a distended gut?</td>\n",
       "      <td>FlameSpartan</td>\n",
       "      <td>fatlogic</td>\n",
       "      <td>1</td>\n",
       "      <td>1</td>\n",
       "      <td>0</td>\n",
       "      <td>2015-07</td>\n",
       "      <td>2015-07-15 19:21:39</td>\n",
       "      <td>Lol. My friends on the warrior diet and eats s...</td>\n",
       "    </tr>\n",
       "  </tbody>\n",
       "</table>\n",
       "</div>"
      ],
      "text/plain": [
       "      Unnamed: 0  ...                                     parent_comment\n",
       "565       417747  ...  Wood as a structural building material. It bur...\n",
       "1223      840209  ...  Is Oakland all that far from being decent, tho...\n",
       "1581      592204  ...  It's flight performance is that of an F-35 unt...\n",
       "959       740100  ...  Rosie Macc stunt double for Emlia Clarke AKA D...\n",
       "1974      605110  ...  Lol. My friends on the warrior diet and eats s...\n",
       "\n",
       "[5 rows x 11 columns]"
      ]
     },
     "execution_count": 250,
     "metadata": {
      "tags": []
     },
     "output_type": "execute_result"
    }
   ],
   "source": [
    "# Load Reddit Comments\n",
    "reddit_comments = pd.read_csv(file_path + reddit_comments_file).sample(2000, random_state=50)\n",
    "reddit_comments.head(5)"
   ]
  },
  {
   "cell_type": "code",
   "execution_count": 251,
   "metadata": {
    "colab": {
     "base_uri": "https://localhost:8080/",
     "height": 479
    },
    "id": "8LDkvDxy0mcM",
    "outputId": "d03e3c41-81a8-4c5e-b326-02604c8ca591"
   },
   "outputs": [
    {
     "data": {
      "text/html": [
       "<div>\n",
       "<style scoped>\n",
       "    .dataframe tbody tr th:only-of-type {\n",
       "        vertical-align: middle;\n",
       "    }\n",
       "\n",
       "    .dataframe tbody tr th {\n",
       "        vertical-align: top;\n",
       "    }\n",
       "\n",
       "    .dataframe thead th {\n",
       "        text-align: right;\n",
       "    }\n",
       "</style>\n",
       "<table border=\"1\" class=\"dataframe\">\n",
       "  <thead>\n",
       "    <tr style=\"text-align: right;\">\n",
       "      <th></th>\n",
       "      <th>created_at</th>\n",
       "      <th>id_str</th>\n",
       "      <th>full_text</th>\n",
       "      <th>truncated</th>\n",
       "      <th>display_text_range</th>\n",
       "      <th>entities</th>\n",
       "      <th>metadata</th>\n",
       "      <th>in_reply_to_status_id</th>\n",
       "      <th>in_reply_to_status_id_str</th>\n",
       "      <th>in_reply_to_user_id</th>\n",
       "      <th>in_reply_to_user_id_str</th>\n",
       "      <th>in_reply_to_screen_name</th>\n",
       "      <th>user</th>\n",
       "      <th>geo</th>\n",
       "      <th>coordinates</th>\n",
       "      <th>place</th>\n",
       "      <th>is_quote_status</th>\n",
       "      <th>retweet_count</th>\n",
       "      <th>favorite_count</th>\n",
       "      <th>favorited</th>\n",
       "      <th>retweeted</th>\n",
       "      <th>lang</th>\n",
       "      <th>label</th>\n",
       "    </tr>\n",
       "  </thead>\n",
       "  <tbody>\n",
       "    <tr>\n",
       "      <th>2787</th>\n",
       "      <td>2020-11-17 20:55:31+00:00</td>\n",
       "      <td>1.328800e+18</td>\n",
       "      <td>LMFAO 2600 uncounted votes found!!! 800 go to ...</td>\n",
       "      <td>False</td>\n",
       "      <td>[0, 228]</td>\n",
       "      <td>{'hashtags': [{'text': 'SnortLaugh', 'indices'...</td>\n",
       "      <td>{'iso_language_code': 'en', 'result_type': 're...</td>\n",
       "      <td>NaN</td>\n",
       "      <td>NaN</td>\n",
       "      <td>NaN</td>\n",
       "      <td>NaN</td>\n",
       "      <td>NaN</td>\n",
       "      <td>{'id': 1038464880888573952, 'id_str': '1038464...</td>\n",
       "      <td>NaN</td>\n",
       "      <td>NaN</td>\n",
       "      <td>NaN</td>\n",
       "      <td>False</td>\n",
       "      <td>0</td>\n",
       "      <td>1</td>\n",
       "      <td>False</td>\n",
       "      <td>False</td>\n",
       "      <td>en</td>\n",
       "      <td>1</td>\n",
       "    </tr>\n",
       "    <tr>\n",
       "      <th>2798</th>\n",
       "      <td>2020-11-17 20:15:56+00:00</td>\n",
       "      <td>1.328790e+18</td>\n",
       "      <td>The Upside of COVID......#silverlinings #sarca...</td>\n",
       "      <td>False</td>\n",
       "      <td>[0, 48]</td>\n",
       "      <td>{'hashtags': [{'text': 'silverlinings', 'indic...</td>\n",
       "      <td>{'iso_language_code': 'en', 'result_type': 're...</td>\n",
       "      <td>NaN</td>\n",
       "      <td>NaN</td>\n",
       "      <td>NaN</td>\n",
       "      <td>NaN</td>\n",
       "      <td>NaN</td>\n",
       "      <td>{'id': 130680831, 'id_str': '130680831', 'name...</td>\n",
       "      <td>NaN</td>\n",
       "      <td>NaN</td>\n",
       "      <td>NaN</td>\n",
       "      <td>True</td>\n",
       "      <td>1</td>\n",
       "      <td>1</td>\n",
       "      <td>False</td>\n",
       "      <td>False</td>\n",
       "      <td>en</td>\n",
       "      <td>1</td>\n",
       "    </tr>\n",
       "    <tr>\n",
       "      <th>2527</th>\n",
       "      <td>2020-11-18 14:58:42+00:00</td>\n",
       "      <td>1.329080e+18</td>\n",
       "      <td>🎧 4 yr likes, 4 yr likes, \\ni'd steal 10,000 b...</td>\n",
       "      <td>False</td>\n",
       "      <td>[0, 61]</td>\n",
       "      <td>{'hashtags': [{'text': 'Sarcasm', 'indices': [...</td>\n",
       "      <td>{'iso_language_code': 'en', 'result_type': 're...</td>\n",
       "      <td>NaN</td>\n",
       "      <td>NaN</td>\n",
       "      <td>NaN</td>\n",
       "      <td>NaN</td>\n",
       "      <td>NaN</td>\n",
       "      <td>{'id': 407759517, 'id_str': '407759517', 'name...</td>\n",
       "      <td>NaN</td>\n",
       "      <td>NaN</td>\n",
       "      <td>NaN</td>\n",
       "      <td>False</td>\n",
       "      <td>0</td>\n",
       "      <td>2</td>\n",
       "      <td>False</td>\n",
       "      <td>False</td>\n",
       "      <td>en</td>\n",
       "      <td>1</td>\n",
       "    </tr>\n",
       "    <tr>\n",
       "      <th>1499</th>\n",
       "      <td>2020-11-21 23:33:30+00:00</td>\n",
       "      <td>1.330290e+18</td>\n",
       "      <td>Michigan #gop leaders stay at Trump hotel, mee...</td>\n",
       "      <td>False</td>\n",
       "      <td>[0, 167]</td>\n",
       "      <td>{'hashtags': [{'text': 'gop', 'indices': [9, 1...</td>\n",
       "      <td>{'iso_language_code': 'en', 'result_type': 're...</td>\n",
       "      <td>NaN</td>\n",
       "      <td>NaN</td>\n",
       "      <td>NaN</td>\n",
       "      <td>NaN</td>\n",
       "      <td>NaN</td>\n",
       "      <td>{'id': 17217175, 'id_str': '17217175', 'name':...</td>\n",
       "      <td>NaN</td>\n",
       "      <td>NaN</td>\n",
       "      <td>NaN</td>\n",
       "      <td>False</td>\n",
       "      <td>0</td>\n",
       "      <td>0</td>\n",
       "      <td>False</td>\n",
       "      <td>False</td>\n",
       "      <td>en</td>\n",
       "      <td>1</td>\n",
       "    </tr>\n",
       "    <tr>\n",
       "      <th>1689</th>\n",
       "      <td>2020-11-21 11:03:45+00:00</td>\n",
       "      <td>1.330100e+18</td>\n",
       "      <td>Some of you are just accidents; not planned.\\n...</td>\n",
       "      <td>False</td>\n",
       "      <td>[0, 98]</td>\n",
       "      <td>{'hashtags': [{'text': 'life', 'indices': [84,...</td>\n",
       "      <td>{'iso_language_code': 'en', 'result_type': 're...</td>\n",
       "      <td>NaN</td>\n",
       "      <td>NaN</td>\n",
       "      <td>NaN</td>\n",
       "      <td>NaN</td>\n",
       "      <td>NaN</td>\n",
       "      <td>{'id': 1107988407781916672, 'id_str': '1107988...</td>\n",
       "      <td>NaN</td>\n",
       "      <td>NaN</td>\n",
       "      <td>NaN</td>\n",
       "      <td>False</td>\n",
       "      <td>0</td>\n",
       "      <td>4</td>\n",
       "      <td>False</td>\n",
       "      <td>False</td>\n",
       "      <td>en</td>\n",
       "      <td>1</td>\n",
       "    </tr>\n",
       "  </tbody>\n",
       "</table>\n",
       "</div>"
      ],
      "text/plain": [
       "                     created_at        id_str  ... lang  label\n",
       "2787  2020-11-17 20:55:31+00:00  1.328800e+18  ...   en      1\n",
       "2798  2020-11-17 20:15:56+00:00  1.328790e+18  ...   en      1\n",
       "2527  2020-11-18 14:58:42+00:00  1.329080e+18  ...   en      1\n",
       "1499  2020-11-21 23:33:30+00:00  1.330290e+18  ...   en      1\n",
       "1689  2020-11-21 11:03:45+00:00  1.330100e+18  ...   en      1\n",
       "\n",
       "[5 rows x 23 columns]"
      ]
     },
     "execution_count": 251,
     "metadata": {
      "tags": []
     },
     "output_type": "execute_result"
    }
   ],
   "source": [
    "# Load Sarcastic Tweets\n",
    "sarcastic_tweets = pd.read_csv(file_path + sarcastic_twitter_api_file).sample(1000, random_state=60)\n",
    "sarcastic_tweets['label'] = 1 \n",
    "sarcastic_tweets.head(5)"
   ]
  },
  {
   "cell_type": "code",
   "execution_count": 252,
   "metadata": {
    "colab": {
     "base_uri": "https://localhost:8080/",
     "height": 428
    },
    "id": "i50239pX0uta",
    "outputId": "6ed95453-78f5-4e81-9902-893ed04c4559"
   },
   "outputs": [
    {
     "data": {
      "text/html": [
       "<div>\n",
       "<style scoped>\n",
       "    .dataframe tbody tr th:only-of-type {\n",
       "        vertical-align: middle;\n",
       "    }\n",
       "\n",
       "    .dataframe tbody tr th {\n",
       "        vertical-align: top;\n",
       "    }\n",
       "\n",
       "    .dataframe thead th {\n",
       "        text-align: right;\n",
       "    }\n",
       "</style>\n",
       "<table border=\"1\" class=\"dataframe\">\n",
       "  <thead>\n",
       "    <tr style=\"text-align: right;\">\n",
       "      <th></th>\n",
       "      <th>created_at</th>\n",
       "      <th>id</th>\n",
       "      <th>id_str</th>\n",
       "      <th>full_text</th>\n",
       "      <th>truncated</th>\n",
       "      <th>display_text_range</th>\n",
       "      <th>entities</th>\n",
       "      <th>extended_entities</th>\n",
       "      <th>metadata</th>\n",
       "      <th>source</th>\n",
       "      <th>in_reply_to_status_id</th>\n",
       "      <th>in_reply_to_status_id_str</th>\n",
       "      <th>in_reply_to_user_id</th>\n",
       "      <th>in_reply_to_user_id_str</th>\n",
       "      <th>in_reply_to_screen_name</th>\n",
       "      <th>user</th>\n",
       "      <th>geo</th>\n",
       "      <th>coordinates</th>\n",
       "      <th>place</th>\n",
       "      <th>contributors</th>\n",
       "      <th>is_quote_status</th>\n",
       "      <th>retweet_count</th>\n",
       "      <th>label</th>\n",
       "    </tr>\n",
       "  </thead>\n",
       "  <tbody>\n",
       "    <tr>\n",
       "      <th>525</th>\n",
       "      <td>2020-12-09 14:14:37+00:00</td>\n",
       "      <td>1.336680e+18</td>\n",
       "      <td>1.336680e+18</td>\n",
       "      <td>Joe Biden Faces Blowback on DoD Pick: ‘Possibl...</td>\n",
       "      <td>False</td>\n",
       "      <td>[0, 159]</td>\n",
       "      <td>{'hashtags': [{'text': 'RicoTheDems', 'indices...</td>\n",
       "      <td>NaN</td>\n",
       "      <td>{'iso_language_code': 'en', 'result_type': 're...</td>\n",
       "      <td>&lt;a href=\"https://mobile.twitter.com\" rel=\"nofo...</td>\n",
       "      <td>NaN</td>\n",
       "      <td>NaN</td>\n",
       "      <td>NaN</td>\n",
       "      <td>NaN</td>\n",
       "      <td>NaN</td>\n",
       "      <td>{'id': 199374188, 'id_str': '199374188', 'name...</td>\n",
       "      <td>NaN</td>\n",
       "      <td>NaN</td>\n",
       "      <td>NaN</td>\n",
       "      <td>NaN</td>\n",
       "      <td>False</td>\n",
       "      <td>1</td>\n",
       "      <td>0</td>\n",
       "    </tr>\n",
       "    <tr>\n",
       "      <th>1214</th>\n",
       "      <td>2020-12-09 13:08:20+00:00</td>\n",
       "      <td>1.336660e+18</td>\n",
       "      <td>1.336660e+18</td>\n",
       "      <td>RT @AndrewRosSorkin: $CTRM ⛴⚓️🚢🌏🛳🐬 🌊🚢⛽️\\n\\nPAN...</td>\n",
       "      <td>False</td>\n",
       "      <td>[0, 140]</td>\n",
       "      <td>{'hashtags': [{'text': 'DryBulk', 'indices': [...</td>\n",
       "      <td>NaN</td>\n",
       "      <td>{'iso_language_code': 'en', 'result_type': 're...</td>\n",
       "      <td>&lt;a href=\"https://mobile.twitter.com\" rel=\"nofo...</td>\n",
       "      <td>NaN</td>\n",
       "      <td>NaN</td>\n",
       "      <td>NaN</td>\n",
       "      <td>NaN</td>\n",
       "      <td>NaN</td>\n",
       "      <td>{'id': 2848942445, 'id_str': '2848942445', 'na...</td>\n",
       "      <td>NaN</td>\n",
       "      <td>NaN</td>\n",
       "      <td>NaN</td>\n",
       "      <td>NaN</td>\n",
       "      <td>False</td>\n",
       "      <td>2</td>\n",
       "      <td>0</td>\n",
       "    </tr>\n",
       "    <tr>\n",
       "      <th>658</th>\n",
       "      <td>2020-12-09 14:04:06+00:00</td>\n",
       "      <td>1.336670e+18</td>\n",
       "      <td>1.336670e+18</td>\n",
       "      <td>On encryption and counter-terrorism, EU lawmak...</td>\n",
       "      <td>False</td>\n",
       "      <td>[0, 147]</td>\n",
       "      <td>{'hashtags': [{'text': 'news', 'indices': [133...</td>\n",
       "      <td>{'media': [{'id': 1336672975140098055, 'id_str...</td>\n",
       "      <td>{'iso_language_code': 'en', 'result_type': 're...</td>\n",
       "      <td>&lt;a href=\"http://twibble.io\" rel=\"nofollow\"&gt;Twi...</td>\n",
       "      <td>NaN</td>\n",
       "      <td>NaN</td>\n",
       "      <td>NaN</td>\n",
       "      <td>NaN</td>\n",
       "      <td>NaN</td>\n",
       "      <td>{'id': 2263797415, 'id_str': '2263797415', 'na...</td>\n",
       "      <td>NaN</td>\n",
       "      <td>NaN</td>\n",
       "      <td>NaN</td>\n",
       "      <td>NaN</td>\n",
       "      <td>False</td>\n",
       "      <td>0</td>\n",
       "      <td>0</td>\n",
       "    </tr>\n",
       "    <tr>\n",
       "      <th>304</th>\n",
       "      <td>2020-12-09 14:33:34+00:00</td>\n",
       "      <td>1.336680e+18</td>\n",
       "      <td>1.336680e+18</td>\n",
       "      <td>Edo State Governor, Godwin Obaseki, yesterday,...</td>\n",
       "      <td>False</td>\n",
       "      <td>[0, 150]</td>\n",
       "      <td>{'hashtags': [{'text': 'News', 'indices': [145...</td>\n",
       "      <td>NaN</td>\n",
       "      <td>{'iso_language_code': 'en', 'result_type': 're...</td>\n",
       "      <td>&lt;a href=\"https://dlvrit.com/\" rel=\"nofollow\"&gt;d...</td>\n",
       "      <td>NaN</td>\n",
       "      <td>NaN</td>\n",
       "      <td>NaN</td>\n",
       "      <td>NaN</td>\n",
       "      <td>NaN</td>\n",
       "      <td>{'id': 863764303991713792, 'id_str': '86376430...</td>\n",
       "      <td>NaN</td>\n",
       "      <td>NaN</td>\n",
       "      <td>NaN</td>\n",
       "      <td>NaN</td>\n",
       "      <td>False</td>\n",
       "      <td>0</td>\n",
       "      <td>0</td>\n",
       "    </tr>\n",
       "    <tr>\n",
       "      <th>1529</th>\n",
       "      <td>2020-12-09 12:30:03+00:00</td>\n",
       "      <td>1.336650e+18</td>\n",
       "      <td>1.336650e+18</td>\n",
       "      <td>Malaga Local Police release Christmas video ht...</td>\n",
       "      <td>False</td>\n",
       "      <td>[0, 122]</td>\n",
       "      <td>{'hashtags': [{'text': 'AxarquíaCostaTropical'...</td>\n",
       "      <td>NaN</td>\n",
       "      <td>{'iso_language_code': 'en', 'result_type': 're...</td>\n",
       "      <td>&lt;a href=\"https://dlvrit.com/\" rel=\"nofollow\"&gt;d...</td>\n",
       "      <td>NaN</td>\n",
       "      <td>NaN</td>\n",
       "      <td>NaN</td>\n",
       "      <td>NaN</td>\n",
       "      <td>NaN</td>\n",
       "      <td>{'id': 110434540, 'id_str': '110434540', 'name...</td>\n",
       "      <td>NaN</td>\n",
       "      <td>NaN</td>\n",
       "      <td>NaN</td>\n",
       "      <td>NaN</td>\n",
       "      <td>False</td>\n",
       "      <td>1</td>\n",
       "      <td>0</td>\n",
       "    </tr>\n",
       "  </tbody>\n",
       "</table>\n",
       "</div>"
      ],
      "text/plain": [
       "                     created_at            id  ...  retweet_count label\n",
       "525   2020-12-09 14:14:37+00:00  1.336680e+18  ...              1     0\n",
       "1214  2020-12-09 13:08:20+00:00  1.336660e+18  ...              2     0\n",
       "658   2020-12-09 14:04:06+00:00  1.336670e+18  ...              0     0\n",
       "304   2020-12-09 14:33:34+00:00  1.336680e+18  ...              0     0\n",
       "1529  2020-12-09 12:30:03+00:00  1.336650e+18  ...              1     0\n",
       "\n",
       "[5 rows x 23 columns]"
      ]
     },
     "execution_count": 252,
     "metadata": {
      "tags": []
     },
     "output_type": "execute_result"
    }
   ],
   "source": [
    "# # Load News Tweets\n",
    "news_tweets  = pd.read_csv(file_path + news_twitter_file).sample(1000, random_state=70)\n",
    "news_tweets['label'] = 0\n",
    "news_tweets.head(5)"
   ]
  },
  {
   "cell_type": "code",
   "execution_count": 253,
   "metadata": {
    "colab": {
     "base_uri": "https://localhost:8080/",
     "height": 204
    },
    "id": "m5l7k3Yc0xlv",
    "outputId": "77029308-d377-40e4-d361-be601da8aa1e"
   },
   "outputs": [
    {
     "data": {
      "text/html": [
       "<div>\n",
       "<style scoped>\n",
       "    .dataframe tbody tr th:only-of-type {\n",
       "        vertical-align: middle;\n",
       "    }\n",
       "\n",
       "    .dataframe tbody tr th {\n",
       "        vertical-align: top;\n",
       "    }\n",
       "\n",
       "    .dataframe thead th {\n",
       "        text-align: right;\n",
       "    }\n",
       "</style>\n",
       "<table border=\"1\" class=\"dataframe\">\n",
       "  <thead>\n",
       "    <tr style=\"text-align: right;\">\n",
       "      <th></th>\n",
       "      <th>Tweet</th>\n",
       "      <th>Reverse</th>\n",
       "      <th>label</th>\n",
       "    </tr>\n",
       "  </thead>\n",
       "  <tbody>\n",
       "    <tr>\n",
       "      <th>1402</th>\n",
       "      <td>oh i just love getting hit on by creeps at terms</td>\n",
       "      <td>terms at creeps by on hit getting love just i oh</td>\n",
       "      <td>1</td>\n",
       "    </tr>\n",
       "    <tr>\n",
       "      <th>1098</th>\n",
       "      <td>i love being lied to on a daily basis</td>\n",
       "      <td>basis daily a on to lied being love i</td>\n",
       "      <td>1</td>\n",
       "    </tr>\n",
       "    <tr>\n",
       "      <th>1068</th>\n",
       "      <td>gotta love getting lied to #thebest</td>\n",
       "      <td>#thebest to lied getting love gotta</td>\n",
       "      <td>1</td>\n",
       "    </tr>\n",
       "    <tr>\n",
       "      <th>1063</th>\n",
       "      <td>holy crap ya'll i love being ignored :d</td>\n",
       "      <td>:d ignored being love i ya'll crap holy</td>\n",
       "      <td>1</td>\n",
       "    </tr>\n",
       "    <tr>\n",
       "      <th>286</th>\n",
       "      <td>cant wait to go driving tonight with USER -_- ...</td>\n",
       "      <td>#scared -_- USER with tonight driving go to wa...</td>\n",
       "      <td>0</td>\n",
       "    </tr>\n",
       "  </tbody>\n",
       "</table>\n",
       "</div>"
      ],
      "text/plain": [
       "                                                  Tweet  ... label\n",
       "1402   oh i just love getting hit on by creeps at terms  ...     1\n",
       "1098              i love being lied to on a daily basis  ...     1\n",
       "1068                gotta love getting lied to #thebest  ...     1\n",
       "1063            holy crap ya'll i love being ignored :d  ...     1\n",
       "286   cant wait to go driving tonight with USER -_- ...  ...     0\n",
       "\n",
       "[5 rows x 3 columns]"
      ]
     },
     "execution_count": 253,
     "metadata": {
      "tags": []
     },
     "output_type": "execute_result"
    }
   ],
   "source": [
    "# Load Narcis Tweets\n",
    "narcis_tweets  = pd.read_csv(file_path + sarcastic_twitter_narcis_file).sample(1000, random_state=80)\n",
    "narcis_tweets.head(5)"
   ]
  },
  {
   "cell_type": "markdown",
   "metadata": {
    "id": "AhPTFyi00-Zd"
   },
   "source": [
    "# Merge and Clean Files"
   ]
  },
  {
   "cell_type": "code",
   "execution_count": 254,
   "metadata": {
    "colab": {
     "base_uri": "https://localhost:8080/",
     "height": 479
    },
    "id": "8ReYd67400hV",
    "outputId": "b406274a-a055-4ed1-eec0-7fd699532e8c"
   },
   "outputs": [
    {
     "data": {
      "text/html": [
       "<div>\n",
       "<style scoped>\n",
       "    .dataframe tbody tr th:only-of-type {\n",
       "        vertical-align: middle;\n",
       "    }\n",
       "\n",
       "    .dataframe tbody tr th {\n",
       "        vertical-align: top;\n",
       "    }\n",
       "\n",
       "    .dataframe thead th {\n",
       "        text-align: right;\n",
       "    }\n",
       "</style>\n",
       "<table border=\"1\" class=\"dataframe\">\n",
       "  <thead>\n",
       "    <tr style=\"text-align: right;\">\n",
       "      <th></th>\n",
       "      <th>created_at</th>\n",
       "      <th>id_str</th>\n",
       "      <th>full_text</th>\n",
       "      <th>truncated</th>\n",
       "      <th>display_text_range</th>\n",
       "      <th>entities</th>\n",
       "      <th>metadata</th>\n",
       "      <th>in_reply_to_status_id</th>\n",
       "      <th>in_reply_to_status_id_str</th>\n",
       "      <th>in_reply_to_user_id</th>\n",
       "      <th>in_reply_to_user_id_str</th>\n",
       "      <th>in_reply_to_screen_name</th>\n",
       "      <th>user</th>\n",
       "      <th>geo</th>\n",
       "      <th>coordinates</th>\n",
       "      <th>place</th>\n",
       "      <th>is_quote_status</th>\n",
       "      <th>retweet_count</th>\n",
       "      <th>favorite_count</th>\n",
       "      <th>favorited</th>\n",
       "      <th>retweeted</th>\n",
       "      <th>lang</th>\n",
       "      <th>label</th>\n",
       "      <th>id</th>\n",
       "      <th>extended_entities</th>\n",
       "      <th>source</th>\n",
       "      <th>contributors</th>\n",
       "    </tr>\n",
       "  </thead>\n",
       "  <tbody>\n",
       "    <tr>\n",
       "      <th>2787</th>\n",
       "      <td>2020-11-17 20:55:31+00:00</td>\n",
       "      <td>1.328800e+18</td>\n",
       "      <td>LMFAO 2600 uncounted votes found!!! 800 go to ...</td>\n",
       "      <td>False</td>\n",
       "      <td>[0, 228]</td>\n",
       "      <td>{'hashtags': [{'text': 'SnortLaugh', 'indices'...</td>\n",
       "      <td>{'iso_language_code': 'en', 'result_type': 're...</td>\n",
       "      <td>NaN</td>\n",
       "      <td>NaN</td>\n",
       "      <td>NaN</td>\n",
       "      <td>NaN</td>\n",
       "      <td>NaN</td>\n",
       "      <td>{'id': 1038464880888573952, 'id_str': '1038464...</td>\n",
       "      <td>NaN</td>\n",
       "      <td>NaN</td>\n",
       "      <td>NaN</td>\n",
       "      <td>False</td>\n",
       "      <td>0</td>\n",
       "      <td>1.0</td>\n",
       "      <td>False</td>\n",
       "      <td>False</td>\n",
       "      <td>en</td>\n",
       "      <td>1</td>\n",
       "      <td>NaN</td>\n",
       "      <td>NaN</td>\n",
       "      <td>NaN</td>\n",
       "      <td>NaN</td>\n",
       "    </tr>\n",
       "    <tr>\n",
       "      <th>2798</th>\n",
       "      <td>2020-11-17 20:15:56+00:00</td>\n",
       "      <td>1.328790e+18</td>\n",
       "      <td>The Upside of COVID......#silverlinings #sarca...</td>\n",
       "      <td>False</td>\n",
       "      <td>[0, 48]</td>\n",
       "      <td>{'hashtags': [{'text': 'silverlinings', 'indic...</td>\n",
       "      <td>{'iso_language_code': 'en', 'result_type': 're...</td>\n",
       "      <td>NaN</td>\n",
       "      <td>NaN</td>\n",
       "      <td>NaN</td>\n",
       "      <td>NaN</td>\n",
       "      <td>NaN</td>\n",
       "      <td>{'id': 130680831, 'id_str': '130680831', 'name...</td>\n",
       "      <td>NaN</td>\n",
       "      <td>NaN</td>\n",
       "      <td>NaN</td>\n",
       "      <td>True</td>\n",
       "      <td>1</td>\n",
       "      <td>1.0</td>\n",
       "      <td>False</td>\n",
       "      <td>False</td>\n",
       "      <td>en</td>\n",
       "      <td>1</td>\n",
       "      <td>NaN</td>\n",
       "      <td>NaN</td>\n",
       "      <td>NaN</td>\n",
       "      <td>NaN</td>\n",
       "    </tr>\n",
       "    <tr>\n",
       "      <th>2527</th>\n",
       "      <td>2020-11-18 14:58:42+00:00</td>\n",
       "      <td>1.329080e+18</td>\n",
       "      <td>🎧 4 yr likes, 4 yr likes, \\ni'd steal 10,000 b...</td>\n",
       "      <td>False</td>\n",
       "      <td>[0, 61]</td>\n",
       "      <td>{'hashtags': [{'text': 'Sarcasm', 'indices': [...</td>\n",
       "      <td>{'iso_language_code': 'en', 'result_type': 're...</td>\n",
       "      <td>NaN</td>\n",
       "      <td>NaN</td>\n",
       "      <td>NaN</td>\n",
       "      <td>NaN</td>\n",
       "      <td>NaN</td>\n",
       "      <td>{'id': 407759517, 'id_str': '407759517', 'name...</td>\n",
       "      <td>NaN</td>\n",
       "      <td>NaN</td>\n",
       "      <td>NaN</td>\n",
       "      <td>False</td>\n",
       "      <td>0</td>\n",
       "      <td>2.0</td>\n",
       "      <td>False</td>\n",
       "      <td>False</td>\n",
       "      <td>en</td>\n",
       "      <td>1</td>\n",
       "      <td>NaN</td>\n",
       "      <td>NaN</td>\n",
       "      <td>NaN</td>\n",
       "      <td>NaN</td>\n",
       "    </tr>\n",
       "    <tr>\n",
       "      <th>1499</th>\n",
       "      <td>2020-11-21 23:33:30+00:00</td>\n",
       "      <td>1.330290e+18</td>\n",
       "      <td>Michigan #gop leaders stay at Trump hotel, mee...</td>\n",
       "      <td>False</td>\n",
       "      <td>[0, 167]</td>\n",
       "      <td>{'hashtags': [{'text': 'gop', 'indices': [9, 1...</td>\n",
       "      <td>{'iso_language_code': 'en', 'result_type': 're...</td>\n",
       "      <td>NaN</td>\n",
       "      <td>NaN</td>\n",
       "      <td>NaN</td>\n",
       "      <td>NaN</td>\n",
       "      <td>NaN</td>\n",
       "      <td>{'id': 17217175, 'id_str': '17217175', 'name':...</td>\n",
       "      <td>NaN</td>\n",
       "      <td>NaN</td>\n",
       "      <td>NaN</td>\n",
       "      <td>False</td>\n",
       "      <td>0</td>\n",
       "      <td>0.0</td>\n",
       "      <td>False</td>\n",
       "      <td>False</td>\n",
       "      <td>en</td>\n",
       "      <td>1</td>\n",
       "      <td>NaN</td>\n",
       "      <td>NaN</td>\n",
       "      <td>NaN</td>\n",
       "      <td>NaN</td>\n",
       "    </tr>\n",
       "    <tr>\n",
       "      <th>1689</th>\n",
       "      <td>2020-11-21 11:03:45+00:00</td>\n",
       "      <td>1.330100e+18</td>\n",
       "      <td>Some of you are just accidents; not planned.\\n...</td>\n",
       "      <td>False</td>\n",
       "      <td>[0, 98]</td>\n",
       "      <td>{'hashtags': [{'text': 'life', 'indices': [84,...</td>\n",
       "      <td>{'iso_language_code': 'en', 'result_type': 're...</td>\n",
       "      <td>NaN</td>\n",
       "      <td>NaN</td>\n",
       "      <td>NaN</td>\n",
       "      <td>NaN</td>\n",
       "      <td>NaN</td>\n",
       "      <td>{'id': 1107988407781916672, 'id_str': '1107988...</td>\n",
       "      <td>NaN</td>\n",
       "      <td>NaN</td>\n",
       "      <td>NaN</td>\n",
       "      <td>False</td>\n",
       "      <td>0</td>\n",
       "      <td>4.0</td>\n",
       "      <td>False</td>\n",
       "      <td>False</td>\n",
       "      <td>en</td>\n",
       "      <td>1</td>\n",
       "      <td>NaN</td>\n",
       "      <td>NaN</td>\n",
       "      <td>NaN</td>\n",
       "      <td>NaN</td>\n",
       "    </tr>\n",
       "  </tbody>\n",
       "</table>\n",
       "</div>"
      ],
      "text/plain": [
       "                     created_at        id_str  ... source  contributors\n",
       "2787  2020-11-17 20:55:31+00:00  1.328800e+18  ...    NaN           NaN\n",
       "2798  2020-11-17 20:15:56+00:00  1.328790e+18  ...    NaN           NaN\n",
       "2527  2020-11-18 14:58:42+00:00  1.329080e+18  ...    NaN           NaN\n",
       "1499  2020-11-21 23:33:30+00:00  1.330290e+18  ...    NaN           NaN\n",
       "1689  2020-11-21 11:03:45+00:00  1.330100e+18  ...    NaN           NaN\n",
       "\n",
       "[5 rows x 27 columns]"
      ]
     },
     "execution_count": 254,
     "metadata": {
      "tags": []
     },
     "output_type": "execute_result"
    }
   ],
   "source": [
    "# Merge sarcastic and non-sarcastic twitter files\n",
    "twitter_df = pd.concat([sarcastic_tweets, news_tweets])\n",
    "twitter_df.head(5)"
   ]
  },
  {
   "cell_type": "code",
   "execution_count": null,
   "metadata": {
    "id": "lsAD7d7pra3g"
   },
   "outputs": [],
   "source": [
    "nonews_df = "
   ]
  },
  {
   "cell_type": "code",
   "execution_count": 255,
   "metadata": {
    "id": "QSXz48TQ03VT"
   },
   "outputs": [],
   "source": [
    "def clean_text(txt):\n",
    "    '''\n",
    "    Function to clean text\n",
    "    '''\n",
    "    txt = re.sub(r'[,.;@#?!&$\\-\\']+', '', txt, flags=re.IGNORECASE)    # Replace punctuation with space\n",
    "    txt = re.sub(r'\\ +', ' ', txt, flags=re.IGNORECASE)                # Accept one or more copies of punctuation\n",
    "    txt = re.sub(r'\\\"', ' ', txt, flags=re.IGNORECASE)                 # Replace quote mark with space\n",
    "    txt = re.sub(r'\\\\n', ' ', txt, flags=re.IGNORECASE)                # Replace end line with space\n",
    "    txt = re.sub(r'[^a-zA-Z]', ' ', txt, flags=re.VERBOSE)             # Replace any character that isn't a letter\n",
    "    txt = re.sub(r'\\b\\w{1,1}\\b', '', txt, flags=re.VERBOSE)            # Removes all words less than 1 letters\n",
    "    txt = re.sub(r'#sarcasm', '', txt, flags=re.VERBOSE)               # Removes all sarcasm hashtags\n",
    "    txt = re.sub(r'sarcasm', '', txt, flags=re.IGNORECASE)             # Removes all sarcasm words\n",
    "    txt = re.sub(r'#news', '', txt, flags=re.VERBOSE)                  # Removes all news hashtags\n",
    "    txt = re.sub(r'news', '', txt, flags=re.IGNORECASE)                # Removes all news words\n",
    "    txt = re.sub(r'https', '', txt, flags=re.IGNORECASE)               # Removes httlps words\n",
    "                   \n",
    "    return txt"
   ]
  },
  {
   "cell_type": "code",
   "execution_count": 286,
   "metadata": {
    "id": "thJjAB141Q5g"
   },
   "outputs": [],
   "source": [
    "def convert_to_list(df, col, l):\n",
    "    '''\n",
    "    Function to convert column to list\n",
    "    '''\n",
    "    # Iterate through data frame\n",
    "    for row in df[col]:\n",
    "        if col != 'label':\n",
    "            # Convert row to string\n",
    "            row = str(row)\n",
    "            row = clean_text(row) \n",
    "        \n",
    "        # Append row to list\n",
    "        l.append(row)\n",
    "        \n",
    "    return l"
   ]
  },
  {
   "cell_type": "code",
   "execution_count": 290,
   "metadata": {
    "colab": {
     "base_uri": "https://localhost:8080/"
    },
    "id": "VX4hwTKf1UIQ",
    "outputId": "a3e75a31-90ce-4eb4-d686-cae13c33274a"
   },
   "outputs": [
    {
     "name": "stdout",
     "output_type": "stream",
     "text": [
      "6000\n",
      "6000\n"
     ]
    },
    {
     "data": {
      "text/plain": [
       "['LMFAO      uncounted votes found     go to Trump That  it Trump won JoeBiden amp KamalaHarris need to quit their jobs now SnortLaugh  Resistance                                                         ',\n",
       " 'The Upside of COVIDsilverlinings     tco gWkfhcQ MI',\n",
       " '    yr likes   yr likes  id steal       bikes    ',\n",
       " 'Michigan gop leaders stay at Trump hotel meet with realDonaldTrump and then mysteriously want to void all votes by democrats No corruption suspected  mia',\n",
       " 'Some of you are just accidents not planned Dont take your life so seriously     life ',\n",
       " 'RT pinoyanghang  WORD OF THE DAY   Campa anita    portmanteau of the words  campa   and  ma anita       tco hg czZK  ',\n",
       " 'Keith Starmer  decision not to restore the whip to jeremycorbyn is  petty move  look forward to seeing action from the socialistcam in support of JC  Time will tell Either way Starmer  idea of Unity is  joke Solidarity  What Solidarity   ',\n",
       " 'IGNORE  dank twitterpost tweet anime relatable indianmemes funnyvideos instamemes tiktokmemes comedy likeforlikes funnytweets dankmemesdaily animememes followforfollowback  desimemes receh redditmemes like bestmemes memer tumblr dagelan funnyshit    tco Az  zU ZKU',\n",
       " 'RT ejmalrai  The driver of this Israeli tank was told that Hezbollah could see him from an elevated position He skilfully turned his tank ',\n",
       " 'Long two days at work  Looking forward to dinner with my best friend from HS and his wife at the Office in Pleasanton Tejas  Hope FowlerSports   dont mind me hanging out on his stomping grounds tonight  ']"
      ]
     },
     "execution_count": 290,
     "metadata": {
      "tags": []
     },
     "output_type": "execute_result"
    }
   ],
   "source": [
    "text = []\n",
    "labels = []\n",
    "\n",
    "# Get twitter api lists\n",
    "text = convert_to_list(twitter_df, 'full_text', text) \n",
    "labels = convert_to_list(twitter_df, 'label', labels) \n",
    "\n",
    "# Get lists without news\n",
    "text_nonews = convert_to_list(sarcastic_tweets, 'full_text', text) \n",
    "labels_nonews = convert_to_list(sarcastic_tweets, 'label', labels) \n",
    "\n",
    "# Get arcis twitter lists\n",
    "text = convert_to_list(narcis_tweets, 'Tweet', text) \n",
    "labels = convert_to_list(narcis_tweets, 'label', labels) \n",
    "\n",
    "# Get Reddit comments lists\n",
    "text = convert_to_list(reddit_comments, 'comment', text) \n",
    "labels = convert_to_list(reddit_comments, 'label', labels) \n",
    "\n",
    "# Print length of lists\n",
    "print(len(text))\n",
    "print(len(labels))\n",
    "\n",
    "# Show text\n",
    "text[:10]"
   ]
  },
  {
   "cell_type": "code",
   "execution_count": 295,
   "metadata": {
    "colab": {
     "base_uri": "https://localhost:8080/"
    },
    "id": "wMJ7Oa1gFWqp",
    "outputId": "8eb6a859-8803-46af-9a16-62de8d7fed84"
   },
   "outputs": [
    {
     "name": "stdout",
     "output_type": "stream",
     "text": [
      "                                                   text  labels\n",
      "0     LMFAO      uncounted votes found     go to Tru...       1\n",
      "1     The Upside of COVIDsilverlinings     tco gWkfh...       1\n",
      "2         yr likes   yr likes  id steal       bikes           1\n",
      "3     Michigan gop leaders stay at Trump hotel meet ...       1\n",
      "4     Some of you are just accidents not planned Don...       1\n",
      "...                                                 ...     ...\n",
      "5995                                                          0\n",
      "5996  Obviously his high IQ burden does not allow hi...       1\n",
      "5997  Too much navel gazing by the theoretical physi...       0\n",
      "5998   couple of leaves on my plant are doing that a...       0\n",
      "5999    know this isnt from experience completely false       0\n",
      "\n",
      "[6000 rows x 2 columns]\n"
     ]
    }
   ],
   "source": [
    "# Create a dataframe with text and labels column for some quick EDA \n",
    "combined = {'text':text,'labels':labels}\n",
    "combined_nonews = {'text': text_nonews, 'labels':labels_nonews}\n",
    "\n",
    "combined_df = pd.DataFrame(combined)\n",
    "combined_df_nonews = pd.DataFrame(combined_nonews)\n",
    "print(combined_df)"
   ]
  },
  {
   "cell_type": "code",
   "execution_count": 259,
   "metadata": {
    "colab": {
     "base_uri": "https://localhost:8080/",
     "height": 279
    },
    "id": "vQfVvcDZFWqp",
    "outputId": "a80971c7-24c9-42a7-e885-0f4511d27bc7"
   },
   "outputs": [
    {
     "data": {
      "image/png": "[encoded data removed]",
      "text/plain": [
       "<Figure size 432x288 with 1 Axes>"
      ]
     },
     "metadata": {
      "needs_background": "light",
      "tags": []
     },
     "output_type": "display_data"
    }
   ],
   "source": [
    "ax = sns.countplot(x=\"labels\", data=combined_df)"
   ]
  },
  {
   "cell_type": "markdown",
   "metadata": {
    "id": "44waC7kHxHS4"
   },
   "source": [
    "# Instantiate Vectorizer"
   ]
  },
  {
   "cell_type": "code",
   "execution_count": 260,
   "metadata": {
    "id": "csbh7LyA1fQC"
   },
   "outputs": [],
   "source": [
    "# Class to Lemmatize words\n",
    "lemmmatizer = WordNetLemmatizer()\n",
    "\n",
    "class LemmaTokenizer:\n",
    "    def __init__(self):\n",
    "        self.wnl = WordNetLemmatizer()\n",
    "    def __call__(self, doc):\n",
    "        return [self.wnl.lemmatize(t) for t in word_tokenize(doc)]"
   ]
  },
  {
   "cell_type": "code",
   "execution_count": 261,
   "metadata": {
    "id": "B3n-bhfD1hzv"
   },
   "outputs": [],
   "source": [
    "# Instantiate Count Vectorizer\n",
    "def vectorize(max_ngram, lower):\n",
    "  cv = CountVectorizer(\n",
    "          input ='content',                 # Input content\n",
    "          analyzer = 'word',                # Break up text by words\n",
    "          stop_words = 'english',           # Remove English stop words\n",
    "          tokenizer = LemmaTokenizer(),     # Lemmatize words to their base\n",
    "          strip_accents = 'unicode',        # Remove unicode characters\n",
    "          ngram_range=(1, max_ngram),       # Divide text into 1-3 word tokens\n",
    "          max_features=1000,                # Return top words\n",
    "          lowercase=lower                   # All tokens are lowercase\n",
    "  )\n",
    "  return cv"
   ]
  },
  {
   "cell_type": "code",
   "execution_count": 262,
   "metadata": {
    "id": "PFRcEZYMKFMR"
   },
   "outputs": [],
   "source": [
    "max_ngram = 3\n",
    "lower = True\n",
    "\n",
    "# Vectorize text (lowercase, ngram max = 3, news data included)\n",
    "cv_lower_3_news = vectorize(max_ngram, boolean)\n",
    "\n",
    "# Vectorize text (No lowercase, ngram max = 3, news data included)\n",
    "lower = False\n",
    "cv_all_3_news = vectorize(max_ngram, boolean)\n",
    "\n",
    "# Vectorize text (No lowercase, ngram max = 1, news data included)\n",
    "max_ngram = 1\n",
    "cv_all_1_news = vectorize(max_ngram, boolean)\n",
    "\n",
    "# Vectorize text (No lowercase, ngram max = 5, news data included)\n",
    "max_ngram = 5\n",
    "cv_all_5_news = vectorize(max_ngram, boolean)\n",
    "\n",
    "# Vectorize text (No lowercase, ngram max = 3, news data not included)\n",
    "cv_all_3_nonews = vectorize(max_ngram, boolean)\n"
   ]
  },
  {
   "cell_type": "code",
   "execution_count": 224,
   "metadata": {
    "id": "cjSvNL30FWqq"
   },
   "outputs": [],
   "source": [
    "# We will also use TFID to vectorize our data\n",
    "TFIDF = TfidfVectorizer(input='content',\n",
    "                        analyzer = 'word',\n",
    "                        stop_words='english',\n",
    "                        tokenizer= LemmaTokenizer(),\n",
    "                        strip_accents = 'unicode', \n",
    "                        lowercase = True,\n",
    "                        max_features=1000\n",
    "                        )"
   ]
  },
  {
   "cell_type": "markdown",
   "metadata": {
    "id": "v8mfweZ51mZy"
   },
   "source": [
    "# Get Word Frequency Data Frame"
   ]
  },
  {
   "cell_type": "code",
   "execution_count": 263,
   "metadata": {
    "id": "UDEh1Xg-1nRc"
   },
   "outputs": [],
   "source": [
    "def create_df(text, vect):\n",
    "    '''\n",
    "    Create document term matrix data frame\n",
    "    '''\n",
    "    matrix = vect.fit_transform(text)                       # Apply CountVectorizer to get sparse matrix\n",
    "    words = vect.get_feature_names()                        # Get vocab or column names\n",
    "    df = pd.DataFrame(matrix.toarray(), columns = words)    # Convert matrix to a dataframe\n",
    "    return df "
   ]
  },
  {
   "cell_type": "code",
   "execution_count": 296,
   "metadata": {
    "colab": {
     "base_uri": "https://localhost:8080/",
     "height": 321
    },
    "id": "WvN8q4sy1sNf",
    "outputId": "88a9db02-63c2-4735-cb75-477fea4741b8"
   },
   "outputs": [
    {
     "name": "stderr",
     "output_type": "stream",
     "text": [
      "/usr/local/lib/python3.6/dist-packages/sklearn/feature_extraction/text.py:385: UserWarning: Your stop_words may be inconsistent with your preprocessing. Tokenizing the stop words generated tokens ['ha', 'le', 'u', 'wa'] not in stop_words.\n",
      "  'stop_words.' % sorted(inconsistent))\n"
     ]
    },
    {
     "data": {
      "text/html": [
       "<div>\n",
       "<style scoped>\n",
       "    .dataframe tbody tr th:only-of-type {\n",
       "        vertical-align: middle;\n",
       "    }\n",
       "\n",
       "    .dataframe tbody tr th {\n",
       "        vertical-align: top;\n",
       "    }\n",
       "\n",
       "    .dataframe thead th {\n",
       "        text-align: right;\n",
       "    }\n",
       "</style>\n",
       "<table border=\"1\" class=\"dataframe\">\n",
       "  <thead>\n",
       "    <tr style=\"text-align: right;\">\n",
       "      <th></th>\n",
       "      <th>able</th>\n",
       "      <th>absolutely</th>\n",
       "      <th>absolutely love</th>\n",
       "      <th>according</th>\n",
       "      <th>account</th>\n",
       "      <th>action</th>\n",
       "      <th>actually</th>\n",
       "      <th>actually added</th>\n",
       "      <th>actually added net</th>\n",
       "      <th>add</th>\n",
       "      <th>added</th>\n",
       "      <th>added net</th>\n",
       "      <th>added net new</th>\n",
       "      <th>advice</th>\n",
       "      <th>age</th>\n",
       "      <th>ago</th>\n",
       "      <th>ai</th>\n",
       "      <th>ai researcher</th>\n",
       "      <th>ai researcher detection</th>\n",
       "      <th>allow</th>\n",
       "      <th>amazing</th>\n",
       "      <th>amazon</th>\n",
       "      <th>america</th>\n",
       "      <th>american</th>\n",
       "      <th>amp</th>\n",
       "      <th>amp teacher</th>\n",
       "      <th>amp teacher home</th>\n",
       "      <th>anita</th>\n",
       "      <th>anita portmanteau</th>\n",
       "      <th>anita portmanteau word</th>\n",
       "      <th>app</th>\n",
       "      <th>apparently</th>\n",
       "      <th>apple</th>\n",
       "      <th>arent</th>\n",
       "      <th>art</th>\n",
       "      <th>article</th>\n",
       "      <th>artificialintelligence</th>\n",
       "      <th>ask</th>\n",
       "      <th>asked</th>\n",
       "      <th>asshole</th>\n",
       "      <th>...</th>\n",
       "      <th>woman</th>\n",
       "      <th>won</th>\n",
       "      <th>wonder</th>\n",
       "      <th>wont</th>\n",
       "      <th>word</th>\n",
       "      <th>word campa</th>\n",
       "      <th>word campa ma</th>\n",
       "      <th>word day</th>\n",
       "      <th>word day campa</th>\n",
       "      <th>work</th>\n",
       "      <th>working</th>\n",
       "      <th>world</th>\n",
       "      <th>worry</th>\n",
       "      <th>worth</th>\n",
       "      <th>wouldn</th>\n",
       "      <th>wouldn support</th>\n",
       "      <th>wow</th>\n",
       "      <th>write</th>\n",
       "      <th>write dreaded</th>\n",
       "      <th>write dreaded getting</th>\n",
       "      <th>write escape</th>\n",
       "      <th>write escape british</th>\n",
       "      <th>write humorous</th>\n",
       "      <th>write humorous novella</th>\n",
       "      <th>wrong</th>\n",
       "      <th>ya</th>\n",
       "      <th>yall</th>\n",
       "      <th>yeah</th>\n",
       "      <th>year</th>\n",
       "      <th>yes</th>\n",
       "      <th>yh</th>\n",
       "      <th>yh gofr</th>\n",
       "      <th>youre</th>\n",
       "      <th>youtube</th>\n",
       "      <th>zy</th>\n",
       "      <th>zy hbxwj</th>\n",
       "      <th>zy hbxwj premium</th>\n",
       "      <th>zzfauvimfk</th>\n",
       "      <th>zzfauvimfk stayhome</th>\n",
       "      <th>zzfauvimfk stayhome read</th>\n",
       "    </tr>\n",
       "  </thead>\n",
       "  <tbody>\n",
       "    <tr>\n",
       "      <th>0</th>\n",
       "      <td>0</td>\n",
       "      <td>0</td>\n",
       "      <td>0</td>\n",
       "      <td>0</td>\n",
       "      <td>0</td>\n",
       "      <td>0</td>\n",
       "      <td>0</td>\n",
       "      <td>0</td>\n",
       "      <td>0</td>\n",
       "      <td>0</td>\n",
       "      <td>0</td>\n",
       "      <td>0</td>\n",
       "      <td>0</td>\n",
       "      <td>0</td>\n",
       "      <td>0</td>\n",
       "      <td>0</td>\n",
       "      <td>0</td>\n",
       "      <td>0</td>\n",
       "      <td>0</td>\n",
       "      <td>0</td>\n",
       "      <td>0</td>\n",
       "      <td>0</td>\n",
       "      <td>0</td>\n",
       "      <td>0</td>\n",
       "      <td>1</td>\n",
       "      <td>0</td>\n",
       "      <td>0</td>\n",
       "      <td>0</td>\n",
       "      <td>0</td>\n",
       "      <td>0</td>\n",
       "      <td>0</td>\n",
       "      <td>0</td>\n",
       "      <td>0</td>\n",
       "      <td>0</td>\n",
       "      <td>0</td>\n",
       "      <td>0</td>\n",
       "      <td>0</td>\n",
       "      <td>0</td>\n",
       "      <td>0</td>\n",
       "      <td>0</td>\n",
       "      <td>...</td>\n",
       "      <td>0</td>\n",
       "      <td>1</td>\n",
       "      <td>0</td>\n",
       "      <td>0</td>\n",
       "      <td>0</td>\n",
       "      <td>0</td>\n",
       "      <td>0</td>\n",
       "      <td>0</td>\n",
       "      <td>0</td>\n",
       "      <td>0</td>\n",
       "      <td>0</td>\n",
       "      <td>0</td>\n",
       "      <td>0</td>\n",
       "      <td>0</td>\n",
       "      <td>0</td>\n",
       "      <td>0</td>\n",
       "      <td>0</td>\n",
       "      <td>0</td>\n",
       "      <td>0</td>\n",
       "      <td>0</td>\n",
       "      <td>0</td>\n",
       "      <td>0</td>\n",
       "      <td>0</td>\n",
       "      <td>0</td>\n",
       "      <td>0</td>\n",
       "      <td>0</td>\n",
       "      <td>0</td>\n",
       "      <td>0</td>\n",
       "      <td>0</td>\n",
       "      <td>0</td>\n",
       "      <td>0</td>\n",
       "      <td>0</td>\n",
       "      <td>0</td>\n",
       "      <td>0</td>\n",
       "      <td>0</td>\n",
       "      <td>0</td>\n",
       "      <td>0</td>\n",
       "      <td>0</td>\n",
       "      <td>0</td>\n",
       "      <td>0</td>\n",
       "    </tr>\n",
       "    <tr>\n",
       "      <th>1</th>\n",
       "      <td>0</td>\n",
       "      <td>0</td>\n",
       "      <td>0</td>\n",
       "      <td>0</td>\n",
       "      <td>0</td>\n",
       "      <td>0</td>\n",
       "      <td>0</td>\n",
       "      <td>0</td>\n",
       "      <td>0</td>\n",
       "      <td>0</td>\n",
       "      <td>0</td>\n",
       "      <td>0</td>\n",
       "      <td>0</td>\n",
       "      <td>0</td>\n",
       "      <td>0</td>\n",
       "      <td>0</td>\n",
       "      <td>0</td>\n",
       "      <td>0</td>\n",
       "      <td>0</td>\n",
       "      <td>0</td>\n",
       "      <td>0</td>\n",
       "      <td>0</td>\n",
       "      <td>0</td>\n",
       "      <td>0</td>\n",
       "      <td>0</td>\n",
       "      <td>0</td>\n",
       "      <td>0</td>\n",
       "      <td>0</td>\n",
       "      <td>0</td>\n",
       "      <td>0</td>\n",
       "      <td>0</td>\n",
       "      <td>0</td>\n",
       "      <td>0</td>\n",
       "      <td>0</td>\n",
       "      <td>0</td>\n",
       "      <td>0</td>\n",
       "      <td>0</td>\n",
       "      <td>0</td>\n",
       "      <td>0</td>\n",
       "      <td>0</td>\n",
       "      <td>...</td>\n",
       "      <td>0</td>\n",
       "      <td>0</td>\n",
       "      <td>0</td>\n",
       "      <td>0</td>\n",
       "      <td>0</td>\n",
       "      <td>0</td>\n",
       "      <td>0</td>\n",
       "      <td>0</td>\n",
       "      <td>0</td>\n",
       "      <td>0</td>\n",
       "      <td>0</td>\n",
       "      <td>0</td>\n",
       "      <td>0</td>\n",
       "      <td>0</td>\n",
       "      <td>0</td>\n",
       "      <td>0</td>\n",
       "      <td>0</td>\n",
       "      <td>0</td>\n",
       "      <td>0</td>\n",
       "      <td>0</td>\n",
       "      <td>0</td>\n",
       "      <td>0</td>\n",
       "      <td>0</td>\n",
       "      <td>0</td>\n",
       "      <td>0</td>\n",
       "      <td>0</td>\n",
       "      <td>0</td>\n",
       "      <td>0</td>\n",
       "      <td>0</td>\n",
       "      <td>0</td>\n",
       "      <td>0</td>\n",
       "      <td>0</td>\n",
       "      <td>0</td>\n",
       "      <td>0</td>\n",
       "      <td>0</td>\n",
       "      <td>0</td>\n",
       "      <td>0</td>\n",
       "      <td>0</td>\n",
       "      <td>0</td>\n",
       "      <td>0</td>\n",
       "    </tr>\n",
       "    <tr>\n",
       "      <th>2</th>\n",
       "      <td>0</td>\n",
       "      <td>0</td>\n",
       "      <td>0</td>\n",
       "      <td>0</td>\n",
       "      <td>0</td>\n",
       "      <td>0</td>\n",
       "      <td>0</td>\n",
       "      <td>0</td>\n",
       "      <td>0</td>\n",
       "      <td>0</td>\n",
       "      <td>0</td>\n",
       "      <td>0</td>\n",
       "      <td>0</td>\n",
       "      <td>0</td>\n",
       "      <td>0</td>\n",
       "      <td>0</td>\n",
       "      <td>0</td>\n",
       "      <td>0</td>\n",
       "      <td>0</td>\n",
       "      <td>0</td>\n",
       "      <td>0</td>\n",
       "      <td>0</td>\n",
       "      <td>0</td>\n",
       "      <td>0</td>\n",
       "      <td>0</td>\n",
       "      <td>0</td>\n",
       "      <td>0</td>\n",
       "      <td>0</td>\n",
       "      <td>0</td>\n",
       "      <td>0</td>\n",
       "      <td>0</td>\n",
       "      <td>0</td>\n",
       "      <td>0</td>\n",
       "      <td>0</td>\n",
       "      <td>0</td>\n",
       "      <td>0</td>\n",
       "      <td>0</td>\n",
       "      <td>0</td>\n",
       "      <td>0</td>\n",
       "      <td>0</td>\n",
       "      <td>...</td>\n",
       "      <td>0</td>\n",
       "      <td>0</td>\n",
       "      <td>0</td>\n",
       "      <td>0</td>\n",
       "      <td>0</td>\n",
       "      <td>0</td>\n",
       "      <td>0</td>\n",
       "      <td>0</td>\n",
       "      <td>0</td>\n",
       "      <td>0</td>\n",
       "      <td>0</td>\n",
       "      <td>0</td>\n",
       "      <td>0</td>\n",
       "      <td>0</td>\n",
       "      <td>0</td>\n",
       "      <td>0</td>\n",
       "      <td>0</td>\n",
       "      <td>0</td>\n",
       "      <td>0</td>\n",
       "      <td>0</td>\n",
       "      <td>0</td>\n",
       "      <td>0</td>\n",
       "      <td>0</td>\n",
       "      <td>0</td>\n",
       "      <td>0</td>\n",
       "      <td>0</td>\n",
       "      <td>0</td>\n",
       "      <td>0</td>\n",
       "      <td>0</td>\n",
       "      <td>0</td>\n",
       "      <td>0</td>\n",
       "      <td>0</td>\n",
       "      <td>0</td>\n",
       "      <td>0</td>\n",
       "      <td>0</td>\n",
       "      <td>0</td>\n",
       "      <td>0</td>\n",
       "      <td>0</td>\n",
       "      <td>0</td>\n",
       "      <td>0</td>\n",
       "    </tr>\n",
       "    <tr>\n",
       "      <th>3</th>\n",
       "      <td>0</td>\n",
       "      <td>0</td>\n",
       "      <td>0</td>\n",
       "      <td>0</td>\n",
       "      <td>0</td>\n",
       "      <td>0</td>\n",
       "      <td>0</td>\n",
       "      <td>0</td>\n",
       "      <td>0</td>\n",
       "      <td>0</td>\n",
       "      <td>0</td>\n",
       "      <td>0</td>\n",
       "      <td>0</td>\n",
       "      <td>0</td>\n",
       "      <td>0</td>\n",
       "      <td>0</td>\n",
       "      <td>0</td>\n",
       "      <td>0</td>\n",
       "      <td>0</td>\n",
       "      <td>0</td>\n",
       "      <td>0</td>\n",
       "      <td>0</td>\n",
       "      <td>0</td>\n",
       "      <td>0</td>\n",
       "      <td>0</td>\n",
       "      <td>0</td>\n",
       "      <td>0</td>\n",
       "      <td>0</td>\n",
       "      <td>0</td>\n",
       "      <td>0</td>\n",
       "      <td>0</td>\n",
       "      <td>0</td>\n",
       "      <td>0</td>\n",
       "      <td>0</td>\n",
       "      <td>0</td>\n",
       "      <td>0</td>\n",
       "      <td>0</td>\n",
       "      <td>0</td>\n",
       "      <td>0</td>\n",
       "      <td>0</td>\n",
       "      <td>...</td>\n",
       "      <td>0</td>\n",
       "      <td>0</td>\n",
       "      <td>0</td>\n",
       "      <td>0</td>\n",
       "      <td>0</td>\n",
       "      <td>0</td>\n",
       "      <td>0</td>\n",
       "      <td>0</td>\n",
       "      <td>0</td>\n",
       "      <td>0</td>\n",
       "      <td>0</td>\n",
       "      <td>0</td>\n",
       "      <td>0</td>\n",
       "      <td>0</td>\n",
       "      <td>0</td>\n",
       "      <td>0</td>\n",
       "      <td>0</td>\n",
       "      <td>0</td>\n",
       "      <td>0</td>\n",
       "      <td>0</td>\n",
       "      <td>0</td>\n",
       "      <td>0</td>\n",
       "      <td>0</td>\n",
       "      <td>0</td>\n",
       "      <td>0</td>\n",
       "      <td>0</td>\n",
       "      <td>0</td>\n",
       "      <td>0</td>\n",
       "      <td>0</td>\n",
       "      <td>0</td>\n",
       "      <td>0</td>\n",
       "      <td>0</td>\n",
       "      <td>0</td>\n",
       "      <td>0</td>\n",
       "      <td>0</td>\n",
       "      <td>0</td>\n",
       "      <td>0</td>\n",
       "      <td>0</td>\n",
       "      <td>0</td>\n",
       "      <td>0</td>\n",
       "    </tr>\n",
       "    <tr>\n",
       "      <th>4</th>\n",
       "      <td>0</td>\n",
       "      <td>0</td>\n",
       "      <td>0</td>\n",
       "      <td>0</td>\n",
       "      <td>0</td>\n",
       "      <td>0</td>\n",
       "      <td>0</td>\n",
       "      <td>0</td>\n",
       "      <td>0</td>\n",
       "      <td>0</td>\n",
       "      <td>0</td>\n",
       "      <td>0</td>\n",
       "      <td>0</td>\n",
       "      <td>0</td>\n",
       "      <td>0</td>\n",
       "      <td>0</td>\n",
       "      <td>0</td>\n",
       "      <td>0</td>\n",
       "      <td>0</td>\n",
       "      <td>0</td>\n",
       "      <td>0</td>\n",
       "      <td>0</td>\n",
       "      <td>0</td>\n",
       "      <td>0</td>\n",
       "      <td>0</td>\n",
       "      <td>0</td>\n",
       "      <td>0</td>\n",
       "      <td>0</td>\n",
       "      <td>0</td>\n",
       "      <td>0</td>\n",
       "      <td>0</td>\n",
       "      <td>0</td>\n",
       "      <td>0</td>\n",
       "      <td>0</td>\n",
       "      <td>0</td>\n",
       "      <td>0</td>\n",
       "      <td>0</td>\n",
       "      <td>0</td>\n",
       "      <td>0</td>\n",
       "      <td>0</td>\n",
       "      <td>...</td>\n",
       "      <td>0</td>\n",
       "      <td>0</td>\n",
       "      <td>0</td>\n",
       "      <td>0</td>\n",
       "      <td>0</td>\n",
       "      <td>0</td>\n",
       "      <td>0</td>\n",
       "      <td>0</td>\n",
       "      <td>0</td>\n",
       "      <td>0</td>\n",
       "      <td>0</td>\n",
       "      <td>0</td>\n",
       "      <td>0</td>\n",
       "      <td>0</td>\n",
       "      <td>0</td>\n",
       "      <td>0</td>\n",
       "      <td>0</td>\n",
       "      <td>0</td>\n",
       "      <td>0</td>\n",
       "      <td>0</td>\n",
       "      <td>0</td>\n",
       "      <td>0</td>\n",
       "      <td>0</td>\n",
       "      <td>0</td>\n",
       "      <td>0</td>\n",
       "      <td>0</td>\n",
       "      <td>0</td>\n",
       "      <td>0</td>\n",
       "      <td>0</td>\n",
       "      <td>0</td>\n",
       "      <td>0</td>\n",
       "      <td>0</td>\n",
       "      <td>0</td>\n",
       "      <td>0</td>\n",
       "      <td>0</td>\n",
       "      <td>0</td>\n",
       "      <td>0</td>\n",
       "      <td>0</td>\n",
       "      <td>0</td>\n",
       "      <td>0</td>\n",
       "    </tr>\n",
       "  </tbody>\n",
       "</table>\n",
       "<p>5 rows × 1000 columns</p>\n",
       "</div>"
      ],
      "text/plain": [
       "   able  absolutely  ...  zzfauvimfk stayhome  zzfauvimfk stayhome read\n",
       "0     0           0  ...                    0                         0\n",
       "1     0           0  ...                    0                         0\n",
       "2     0           0  ...                    0                         0\n",
       "3     0           0  ...                    0                         0\n",
       "4     0           0  ...                    0                         0\n",
       "\n",
       "[5 rows x 1000 columns]"
      ]
     },
     "execution_count": 296,
     "metadata": {
      "tags": []
     },
     "output_type": "execute_result"
    }
   ],
   "source": [
    "# Return dataframes for Count Vectorizer\n",
    "df_lower_3_news = create_df(text, cv_lower_3_news)\n",
    "df_all_3_news = create_df(text, cv_all_3_news)\n",
    "df_all_1_news = create_df(text, cv_all_1_news)\n",
    "df_all_5_news = create_df(text, cv_all_5_news)\n",
    "df_all_3_nonews = create_df(text_nonews, cv_all_3_nonews)\n",
    "\n",
    "# Print cleaned df\n",
    "df_lower_3_news.head(5)"
   ]
  },
  {
   "cell_type": "code",
   "execution_count": 297,
   "metadata": {
    "colab": {
     "base_uri": "https://localhost:8080/",
     "height": 253
    },
    "id": "K-zV3dqZFWqr",
    "outputId": "414d5dcc-bf1f-49cb-f4d2-42118e580dcd"
   },
   "outputs": [
    {
     "data": {
      "text/html": [
       "<div>\n",
       "<style scoped>\n",
       "    .dataframe tbody tr th:only-of-type {\n",
       "        vertical-align: middle;\n",
       "    }\n",
       "\n",
       "    .dataframe tbody tr th {\n",
       "        vertical-align: top;\n",
       "    }\n",
       "\n",
       "    .dataframe thead th {\n",
       "        text-align: right;\n",
       "    }\n",
       "</style>\n",
       "<table border=\"1\" class=\"dataframe\">\n",
       "  <thead>\n",
       "    <tr style=\"text-align: right;\">\n",
       "      <th></th>\n",
       "      <th>abc</th>\n",
       "      <th>able</th>\n",
       "      <th>absolutely</th>\n",
       "      <th>access</th>\n",
       "      <th>according</th>\n",
       "      <th>account</th>\n",
       "      <th>action</th>\n",
       "      <th>actual</th>\n",
       "      <th>actually</th>\n",
       "      <th>add</th>\n",
       "      <th>added</th>\n",
       "      <th>advice</th>\n",
       "      <th>aeat</th>\n",
       "      <th>age</th>\n",
       "      <th>ago</th>\n",
       "      <th>ai</th>\n",
       "      <th>air</th>\n",
       "      <th>allow</th>\n",
       "      <th>amazing</th>\n",
       "      <th>amazon</th>\n",
       "      <th>america</th>\n",
       "      <th>american</th>\n",
       "      <th>amp</th>\n",
       "      <th>anime</th>\n",
       "      <th>anita</th>\n",
       "      <th>app</th>\n",
       "      <th>apparently</th>\n",
       "      <th>apple</th>\n",
       "      <th>apps</th>\n",
       "      <th>arent</th>\n",
       "      <th>argument</th>\n",
       "      <th>art</th>\n",
       "      <th>article</th>\n",
       "      <th>artificialintelligence</th>\n",
       "      <th>ask</th>\n",
       "      <th>asked</th>\n",
       "      <th>asking</th>\n",
       "      <th>asshole</th>\n",
       "      <th>attack</th>\n",
       "      <th>available</th>\n",
       "      <th>...</th>\n",
       "      <th>wo</th>\n",
       "      <th>woken</th>\n",
       "      <th>woman</th>\n",
       "      <th>won</th>\n",
       "      <th>wonder</th>\n",
       "      <th>wont</th>\n",
       "      <th>word</th>\n",
       "      <th>work</th>\n",
       "      <th>worker</th>\n",
       "      <th>working</th>\n",
       "      <th>world</th>\n",
       "      <th>worry</th>\n",
       "      <th>worship</th>\n",
       "      <th>worth</th>\n",
       "      <th>wouldn</th>\n",
       "      <th>wouldnt</th>\n",
       "      <th>wow</th>\n",
       "      <th>write</th>\n",
       "      <th>wrong</th>\n",
       "      <th>wtf</th>\n",
       "      <th>xbox</th>\n",
       "      <th>xmas</th>\n",
       "      <th>ya</th>\n",
       "      <th>yall</th>\n",
       "      <th>yay</th>\n",
       "      <th>yeah</th>\n",
       "      <th>year</th>\n",
       "      <th>yep</th>\n",
       "      <th>yes</th>\n",
       "      <th>yh</th>\n",
       "      <th>young</th>\n",
       "      <th>youre</th>\n",
       "      <th>youth</th>\n",
       "      <th>youtube</th>\n",
       "      <th>yugioh</th>\n",
       "      <th>yup</th>\n",
       "      <th>zero</th>\n",
       "      <th>zu</th>\n",
       "      <th>zy</th>\n",
       "      <th>zzfauvimfk</th>\n",
       "    </tr>\n",
       "  </thead>\n",
       "  <tbody>\n",
       "    <tr>\n",
       "      <th>0</th>\n",
       "      <td>0.0</td>\n",
       "      <td>0.0</td>\n",
       "      <td>0.0</td>\n",
       "      <td>0.0</td>\n",
       "      <td>0.0</td>\n",
       "      <td>0.0</td>\n",
       "      <td>0.0</td>\n",
       "      <td>0.0</td>\n",
       "      <td>0.0</td>\n",
       "      <td>0.0</td>\n",
       "      <td>0.0</td>\n",
       "      <td>0.0</td>\n",
       "      <td>0.0</td>\n",
       "      <td>0.0</td>\n",
       "      <td>0.0</td>\n",
       "      <td>0.0</td>\n",
       "      <td>0.0</td>\n",
       "      <td>0.0</td>\n",
       "      <td>0.0</td>\n",
       "      <td>0.0</td>\n",
       "      <td>0.0</td>\n",
       "      <td>0.0</td>\n",
       "      <td>0.28374</td>\n",
       "      <td>0.0</td>\n",
       "      <td>0.0</td>\n",
       "      <td>0.0</td>\n",
       "      <td>0.0</td>\n",
       "      <td>0.0</td>\n",
       "      <td>0.0</td>\n",
       "      <td>0.0</td>\n",
       "      <td>0.0</td>\n",
       "      <td>0.0</td>\n",
       "      <td>0.0</td>\n",
       "      <td>0.0</td>\n",
       "      <td>0.0</td>\n",
       "      <td>0.0</td>\n",
       "      <td>0.0</td>\n",
       "      <td>0.0</td>\n",
       "      <td>0.0</td>\n",
       "      <td>0.0</td>\n",
       "      <td>...</td>\n",
       "      <td>0.0</td>\n",
       "      <td>0.0</td>\n",
       "      <td>0.0</td>\n",
       "      <td>0.368237</td>\n",
       "      <td>0.0</td>\n",
       "      <td>0.0</td>\n",
       "      <td>0.0</td>\n",
       "      <td>0.0</td>\n",
       "      <td>0.0</td>\n",
       "      <td>0.0</td>\n",
       "      <td>0.0</td>\n",
       "      <td>0.0</td>\n",
       "      <td>0.0</td>\n",
       "      <td>0.0</td>\n",
       "      <td>0.0</td>\n",
       "      <td>0.0</td>\n",
       "      <td>0.0</td>\n",
       "      <td>0.0</td>\n",
       "      <td>0.0</td>\n",
       "      <td>0.0</td>\n",
       "      <td>0.0</td>\n",
       "      <td>0.0</td>\n",
       "      <td>0.0</td>\n",
       "      <td>0.0</td>\n",
       "      <td>0.0</td>\n",
       "      <td>0.0</td>\n",
       "      <td>0.0</td>\n",
       "      <td>0.0</td>\n",
       "      <td>0.0</td>\n",
       "      <td>0.0</td>\n",
       "      <td>0.0</td>\n",
       "      <td>0.0</td>\n",
       "      <td>0.0</td>\n",
       "      <td>0.0</td>\n",
       "      <td>0.0</td>\n",
       "      <td>0.0</td>\n",
       "      <td>0.0</td>\n",
       "      <td>0.0</td>\n",
       "      <td>0.0</td>\n",
       "      <td>0.0</td>\n",
       "    </tr>\n",
       "    <tr>\n",
       "      <th>1</th>\n",
       "      <td>0.0</td>\n",
       "      <td>0.0</td>\n",
       "      <td>0.0</td>\n",
       "      <td>0.0</td>\n",
       "      <td>0.0</td>\n",
       "      <td>0.0</td>\n",
       "      <td>0.0</td>\n",
       "      <td>0.0</td>\n",
       "      <td>0.0</td>\n",
       "      <td>0.0</td>\n",
       "      <td>0.0</td>\n",
       "      <td>0.0</td>\n",
       "      <td>0.0</td>\n",
       "      <td>0.0</td>\n",
       "      <td>0.0</td>\n",
       "      <td>0.0</td>\n",
       "      <td>0.0</td>\n",
       "      <td>0.0</td>\n",
       "      <td>0.0</td>\n",
       "      <td>0.0</td>\n",
       "      <td>0.0</td>\n",
       "      <td>0.0</td>\n",
       "      <td>0.00000</td>\n",
       "      <td>0.0</td>\n",
       "      <td>0.0</td>\n",
       "      <td>0.0</td>\n",
       "      <td>0.0</td>\n",
       "      <td>0.0</td>\n",
       "      <td>0.0</td>\n",
       "      <td>0.0</td>\n",
       "      <td>0.0</td>\n",
       "      <td>0.0</td>\n",
       "      <td>0.0</td>\n",
       "      <td>0.0</td>\n",
       "      <td>0.0</td>\n",
       "      <td>0.0</td>\n",
       "      <td>0.0</td>\n",
       "      <td>0.0</td>\n",
       "      <td>0.0</td>\n",
       "      <td>0.0</td>\n",
       "      <td>...</td>\n",
       "      <td>0.0</td>\n",
       "      <td>0.0</td>\n",
       "      <td>0.0</td>\n",
       "      <td>0.000000</td>\n",
       "      <td>0.0</td>\n",
       "      <td>0.0</td>\n",
       "      <td>0.0</td>\n",
       "      <td>0.0</td>\n",
       "      <td>0.0</td>\n",
       "      <td>0.0</td>\n",
       "      <td>0.0</td>\n",
       "      <td>0.0</td>\n",
       "      <td>0.0</td>\n",
       "      <td>0.0</td>\n",
       "      <td>0.0</td>\n",
       "      <td>0.0</td>\n",
       "      <td>0.0</td>\n",
       "      <td>0.0</td>\n",
       "      <td>0.0</td>\n",
       "      <td>0.0</td>\n",
       "      <td>0.0</td>\n",
       "      <td>0.0</td>\n",
       "      <td>0.0</td>\n",
       "      <td>0.0</td>\n",
       "      <td>0.0</td>\n",
       "      <td>0.0</td>\n",
       "      <td>0.0</td>\n",
       "      <td>0.0</td>\n",
       "      <td>0.0</td>\n",
       "      <td>0.0</td>\n",
       "      <td>0.0</td>\n",
       "      <td>0.0</td>\n",
       "      <td>0.0</td>\n",
       "      <td>0.0</td>\n",
       "      <td>0.0</td>\n",
       "      <td>0.0</td>\n",
       "      <td>0.0</td>\n",
       "      <td>0.0</td>\n",
       "      <td>0.0</td>\n",
       "      <td>0.0</td>\n",
       "    </tr>\n",
       "    <tr>\n",
       "      <th>2</th>\n",
       "      <td>0.0</td>\n",
       "      <td>0.0</td>\n",
       "      <td>0.0</td>\n",
       "      <td>0.0</td>\n",
       "      <td>0.0</td>\n",
       "      <td>0.0</td>\n",
       "      <td>0.0</td>\n",
       "      <td>0.0</td>\n",
       "      <td>0.0</td>\n",
       "      <td>0.0</td>\n",
       "      <td>0.0</td>\n",
       "      <td>0.0</td>\n",
       "      <td>0.0</td>\n",
       "      <td>0.0</td>\n",
       "      <td>0.0</td>\n",
       "      <td>0.0</td>\n",
       "      <td>0.0</td>\n",
       "      <td>0.0</td>\n",
       "      <td>0.0</td>\n",
       "      <td>0.0</td>\n",
       "      <td>0.0</td>\n",
       "      <td>0.0</td>\n",
       "      <td>0.00000</td>\n",
       "      <td>0.0</td>\n",
       "      <td>0.0</td>\n",
       "      <td>0.0</td>\n",
       "      <td>0.0</td>\n",
       "      <td>0.0</td>\n",
       "      <td>0.0</td>\n",
       "      <td>0.0</td>\n",
       "      <td>0.0</td>\n",
       "      <td>0.0</td>\n",
       "      <td>0.0</td>\n",
       "      <td>0.0</td>\n",
       "      <td>0.0</td>\n",
       "      <td>0.0</td>\n",
       "      <td>0.0</td>\n",
       "      <td>0.0</td>\n",
       "      <td>0.0</td>\n",
       "      <td>0.0</td>\n",
       "      <td>...</td>\n",
       "      <td>0.0</td>\n",
       "      <td>0.0</td>\n",
       "      <td>0.0</td>\n",
       "      <td>0.000000</td>\n",
       "      <td>0.0</td>\n",
       "      <td>0.0</td>\n",
       "      <td>0.0</td>\n",
       "      <td>0.0</td>\n",
       "      <td>0.0</td>\n",
       "      <td>0.0</td>\n",
       "      <td>0.0</td>\n",
       "      <td>0.0</td>\n",
       "      <td>0.0</td>\n",
       "      <td>0.0</td>\n",
       "      <td>0.0</td>\n",
       "      <td>0.0</td>\n",
       "      <td>0.0</td>\n",
       "      <td>0.0</td>\n",
       "      <td>0.0</td>\n",
       "      <td>0.0</td>\n",
       "      <td>0.0</td>\n",
       "      <td>0.0</td>\n",
       "      <td>0.0</td>\n",
       "      <td>0.0</td>\n",
       "      <td>0.0</td>\n",
       "      <td>0.0</td>\n",
       "      <td>0.0</td>\n",
       "      <td>0.0</td>\n",
       "      <td>0.0</td>\n",
       "      <td>0.0</td>\n",
       "      <td>0.0</td>\n",
       "      <td>0.0</td>\n",
       "      <td>0.0</td>\n",
       "      <td>0.0</td>\n",
       "      <td>0.0</td>\n",
       "      <td>0.0</td>\n",
       "      <td>0.0</td>\n",
       "      <td>0.0</td>\n",
       "      <td>0.0</td>\n",
       "      <td>0.0</td>\n",
       "    </tr>\n",
       "    <tr>\n",
       "      <th>3</th>\n",
       "      <td>0.0</td>\n",
       "      <td>0.0</td>\n",
       "      <td>0.0</td>\n",
       "      <td>0.0</td>\n",
       "      <td>0.0</td>\n",
       "      <td>0.0</td>\n",
       "      <td>0.0</td>\n",
       "      <td>0.0</td>\n",
       "      <td>0.0</td>\n",
       "      <td>0.0</td>\n",
       "      <td>0.0</td>\n",
       "      <td>0.0</td>\n",
       "      <td>0.0</td>\n",
       "      <td>0.0</td>\n",
       "      <td>0.0</td>\n",
       "      <td>0.0</td>\n",
       "      <td>0.0</td>\n",
       "      <td>0.0</td>\n",
       "      <td>0.0</td>\n",
       "      <td>0.0</td>\n",
       "      <td>0.0</td>\n",
       "      <td>0.0</td>\n",
       "      <td>0.00000</td>\n",
       "      <td>0.0</td>\n",
       "      <td>0.0</td>\n",
       "      <td>0.0</td>\n",
       "      <td>0.0</td>\n",
       "      <td>0.0</td>\n",
       "      <td>0.0</td>\n",
       "      <td>0.0</td>\n",
       "      <td>0.0</td>\n",
       "      <td>0.0</td>\n",
       "      <td>0.0</td>\n",
       "      <td>0.0</td>\n",
       "      <td>0.0</td>\n",
       "      <td>0.0</td>\n",
       "      <td>0.0</td>\n",
       "      <td>0.0</td>\n",
       "      <td>0.0</td>\n",
       "      <td>0.0</td>\n",
       "      <td>...</td>\n",
       "      <td>0.0</td>\n",
       "      <td>0.0</td>\n",
       "      <td>0.0</td>\n",
       "      <td>0.000000</td>\n",
       "      <td>0.0</td>\n",
       "      <td>0.0</td>\n",
       "      <td>0.0</td>\n",
       "      <td>0.0</td>\n",
       "      <td>0.0</td>\n",
       "      <td>0.0</td>\n",
       "      <td>0.0</td>\n",
       "      <td>0.0</td>\n",
       "      <td>0.0</td>\n",
       "      <td>0.0</td>\n",
       "      <td>0.0</td>\n",
       "      <td>0.0</td>\n",
       "      <td>0.0</td>\n",
       "      <td>0.0</td>\n",
       "      <td>0.0</td>\n",
       "      <td>0.0</td>\n",
       "      <td>0.0</td>\n",
       "      <td>0.0</td>\n",
       "      <td>0.0</td>\n",
       "      <td>0.0</td>\n",
       "      <td>0.0</td>\n",
       "      <td>0.0</td>\n",
       "      <td>0.0</td>\n",
       "      <td>0.0</td>\n",
       "      <td>0.0</td>\n",
       "      <td>0.0</td>\n",
       "      <td>0.0</td>\n",
       "      <td>0.0</td>\n",
       "      <td>0.0</td>\n",
       "      <td>0.0</td>\n",
       "      <td>0.0</td>\n",
       "      <td>0.0</td>\n",
       "      <td>0.0</td>\n",
       "      <td>0.0</td>\n",
       "      <td>0.0</td>\n",
       "      <td>0.0</td>\n",
       "    </tr>\n",
       "    <tr>\n",
       "      <th>4</th>\n",
       "      <td>0.0</td>\n",
       "      <td>0.0</td>\n",
       "      <td>0.0</td>\n",
       "      <td>0.0</td>\n",
       "      <td>0.0</td>\n",
       "      <td>0.0</td>\n",
       "      <td>0.0</td>\n",
       "      <td>0.0</td>\n",
       "      <td>0.0</td>\n",
       "      <td>0.0</td>\n",
       "      <td>0.0</td>\n",
       "      <td>0.0</td>\n",
       "      <td>0.0</td>\n",
       "      <td>0.0</td>\n",
       "      <td>0.0</td>\n",
       "      <td>0.0</td>\n",
       "      <td>0.0</td>\n",
       "      <td>0.0</td>\n",
       "      <td>0.0</td>\n",
       "      <td>0.0</td>\n",
       "      <td>0.0</td>\n",
       "      <td>0.0</td>\n",
       "      <td>0.00000</td>\n",
       "      <td>0.0</td>\n",
       "      <td>0.0</td>\n",
       "      <td>0.0</td>\n",
       "      <td>0.0</td>\n",
       "      <td>0.0</td>\n",
       "      <td>0.0</td>\n",
       "      <td>0.0</td>\n",
       "      <td>0.0</td>\n",
       "      <td>0.0</td>\n",
       "      <td>0.0</td>\n",
       "      <td>0.0</td>\n",
       "      <td>0.0</td>\n",
       "      <td>0.0</td>\n",
       "      <td>0.0</td>\n",
       "      <td>0.0</td>\n",
       "      <td>0.0</td>\n",
       "      <td>0.0</td>\n",
       "      <td>...</td>\n",
       "      <td>0.0</td>\n",
       "      <td>0.0</td>\n",
       "      <td>0.0</td>\n",
       "      <td>0.000000</td>\n",
       "      <td>0.0</td>\n",
       "      <td>0.0</td>\n",
       "      <td>0.0</td>\n",
       "      <td>0.0</td>\n",
       "      <td>0.0</td>\n",
       "      <td>0.0</td>\n",
       "      <td>0.0</td>\n",
       "      <td>0.0</td>\n",
       "      <td>0.0</td>\n",
       "      <td>0.0</td>\n",
       "      <td>0.0</td>\n",
       "      <td>0.0</td>\n",
       "      <td>0.0</td>\n",
       "      <td>0.0</td>\n",
       "      <td>0.0</td>\n",
       "      <td>0.0</td>\n",
       "      <td>0.0</td>\n",
       "      <td>0.0</td>\n",
       "      <td>0.0</td>\n",
       "      <td>0.0</td>\n",
       "      <td>0.0</td>\n",
       "      <td>0.0</td>\n",
       "      <td>0.0</td>\n",
       "      <td>0.0</td>\n",
       "      <td>0.0</td>\n",
       "      <td>0.0</td>\n",
       "      <td>0.0</td>\n",
       "      <td>0.0</td>\n",
       "      <td>0.0</td>\n",
       "      <td>0.0</td>\n",
       "      <td>0.0</td>\n",
       "      <td>0.0</td>\n",
       "      <td>0.0</td>\n",
       "      <td>0.0</td>\n",
       "      <td>0.0</td>\n",
       "      <td>0.0</td>\n",
       "    </tr>\n",
       "  </tbody>\n",
       "</table>\n",
       "<p>5 rows × 1000 columns</p>\n",
       "</div>"
      ],
      "text/plain": [
       "   abc  able  absolutely  access  according  ...  yup  zero   zu   zy  zzfauvimfk\n",
       "0  0.0   0.0         0.0     0.0        0.0  ...  0.0   0.0  0.0  0.0         0.0\n",
       "1  0.0   0.0         0.0     0.0        0.0  ...  0.0   0.0  0.0  0.0         0.0\n",
       "2  0.0   0.0         0.0     0.0        0.0  ...  0.0   0.0  0.0  0.0         0.0\n",
       "3  0.0   0.0         0.0     0.0        0.0  ...  0.0   0.0  0.0  0.0         0.0\n",
       "4  0.0   0.0         0.0     0.0        0.0  ...  0.0   0.0  0.0  0.0         0.0\n",
       "\n",
       "[5 rows x 1000 columns]"
      ]
     },
     "execution_count": 297,
     "metadata": {
      "tags": []
     },
     "output_type": "execute_result"
    }
   ],
   "source": [
    "# TFIDF data\n",
    "df2 = create_df(text, TFIDF)\n",
    "\n",
    "# Print cleaned df\n",
    "df2.head(5)"
   ]
  },
  {
   "cell_type": "markdown",
   "metadata": {
    "id": "vP9GW_C32oB2"
   },
   "source": [
    "# Training and Testing"
   ]
  },
  {
   "cell_type": "code",
   "execution_count": 298,
   "metadata": {
    "id": "wsuovEdY2hR1"
   },
   "outputs": [],
   "source": [
    "# Insert labels into data frame and get X, y values\n",
    "X_lower_3_news = df_lower_3_news.copy() \n",
    "df_lower_3_news['label'] = labels\n",
    "y_lower_3_news = df_lower_3_news['label']\n",
    "\n",
    "X_all_3_news = df_all_3_news.copy() \n",
    "df_all_3_news['label'] = labels\n",
    "y_all_3_news = df_all_3_news['label']\n",
    "\n",
    "X_all_1_news = df_all_1_news.copy() \n",
    "df_all_1_news['label'] = labels\n",
    "y_all_1_news = df_all_1_news['label']\n",
    "\n",
    "X_all_5_news = df_all_5_news.copy() \n",
    "df_all_5_news['label'] = labels\n",
    "y_all_5_news = df_all_5_news['label']\n",
    "\n",
    "X_all_3_nonews = df_all_3_nonews.copy() \n",
    "df_all_3_nonews['label'] = labels\n",
    "y_all_3_nonews = df_all_3_nonews['label']"
   ]
  },
  {
   "cell_type": "code",
   "execution_count": 299,
   "metadata": {
    "colab": {
     "base_uri": "https://localhost:8080/"
    },
    "id": "sQDRtK332keD",
    "outputId": "6cdee301-8385-4546-af9e-3586a76908bb"
   },
   "outputs": [
    {
     "name": "stdout",
     "output_type": "stream",
     "text": [
      "(4200, 1000) (1800, 1000) (4200,) (1800,)\n"
     ]
    }
   ],
   "source": [
    "# Divide into training and testing\n",
    "X_train_lower_3_news, X_test_lower_3_news, y_train_lower_3_news, y_test_lower_3_news = train_test_split(X_lower_3_news, y_lower_3_news, test_size=0.3)\n",
    "X_train_all_3_news, X_test_all_3_news, y_train_all_3_news, y_test_all_3_news = train_test_split(X_all_3_news, y_all_3_news, test_size=0.3)\n",
    "X_train_all_1_news, X_test_all_1_news, y_train_all_1_news, y_test_all_1_news = train_test_split(X_all_1_news, y_all_1_news, test_size=0.3)\n",
    "X_train_all_5_news, X_test_all_5_news, y_train_all_5_news, y_test_all_5_news = train_test_split(X_all_5_news, y_all_5_news, test_size=0.3)\n",
    "X_train_all_3_nonews, X_test_all_3_nonews, y_train_all_3_nonews, y_test_all_3_nonews = train_test_split(X_all_3_nonews, y_all_3_nonews, test_size=0.3)\n",
    "\n",
    "# Print shape\n",
    "print(X_train_all_3_news.shape, X_test_all_3_news.shape, y_train_all_3_news.shape, y_test_all_3_news.shape)"
   ]
  },
  {
   "cell_type": "code",
   "execution_count": 300,
   "metadata": {
    "id": "_OCkET5ZFWqs"
   },
   "outputs": [],
   "source": [
    "# Insert labels into data frame and get X, y values for TFID data\n",
    "X2 = df2.copy() \n",
    "df2['label'] = labels\n",
    "y2 = df2['label']"
   ]
  },
  {
   "cell_type": "code",
   "execution_count": 301,
   "metadata": {
    "colab": {
     "base_uri": "https://localhost:8080/"
    },
    "id": "Tb4XKGhlFWqs",
    "outputId": "534df9fb-6394-4f86-e06d-7c927e633c53"
   },
   "outputs": [
    {
     "name": "stdout",
     "output_type": "stream",
     "text": [
      "(4200, 1000) (1800, 1000) (4200,) (1800,)\n"
     ]
    }
   ],
   "source": [
    "# Divide into training and testing\n",
    "X2_train, X2_test, y2_train, y2_test = train_test_split(X2, y2, test_size=0.3)\n",
    "print(X2_train.shape, X2_test.shape, y2_train.shape, y2_test.shape)"
   ]
  },
  {
   "cell_type": "markdown",
   "metadata": {
    "id": "ovg5QAA0xFDt"
   },
   "source": [
    "# Get Accuracy"
   ]
  },
  {
   "cell_type": "code",
   "execution_count": 302,
   "metadata": {
    "id": "hf5fOsz52vYC"
   },
   "outputs": [],
   "source": [
    "def get_accuracy(model, pred, test, X, y):\n",
    "    '''\n",
    "    Returns Confusion matrix and accuracy score for validity\n",
    "    '''\n",
    "    # Get accuracy score\n",
    "    score = accuracy_score(test, pred) \n",
    "    \n",
    "    # Get f1 statistic: F1 = 2 * (precision * recall) / (precision + recall)\n",
    "    f_score = f1_score(test, pred, average='weighted') \n",
    "    \n",
    "    # Create confusion matrix\n",
    "    cm = confusion_matrix(pred, test) \n",
    "\n",
    "    # Create heatmap using Seaborn\n",
    "    names = np.unique(pred)\n",
    "    sns.heatmap(cm, \n",
    "                square=True,\n",
    "                xticklabels=names, \n",
    "                yticklabels=names)\n",
    "    plt.xlabel('Actual')\n",
    "    plt.ylabel('Predicted')\n",
    "    \n",
    "    # Print Scores\n",
    "    print(\"Accuracy Score: \\n{}\\n\".format(score))\n",
    "    print(\"F1 Score: \\n{}\\n\".format(f_score))\n",
    "    print(\"Confusion Matrix: \\n{}\\n\".format(cm))"
   ]
  },
  {
   "cell_type": "markdown",
   "metadata": {
    "id": "DWyfdSwb24pg"
   },
   "source": [
    "# Naive Bayes"
   ]
  },
  {
   "cell_type": "code",
   "execution_count": 303,
   "metadata": {
    "id": "BUDo5UL320EF"
   },
   "outputs": [],
   "source": [
    "# Initiate naive Bayes models\n",
    "nb_lower_3_news = MultinomialNB()\n",
    "nb_all_3_news = MultinomialNB()\n",
    "nb_all_1_news = MultinomialNB()\n",
    "nb_all_5_news = MultinomialNB()\n",
    "nb_all_3_nonews = MultinomialNB()\n",
    "\n",
    "# Train naive Bayes models\n",
    "nb_lower_3_news.fit(X_train_lower_3_news, y_train_lower_3_news)\n",
    "nb_all_3_news.fit(X_train_all_3_news, y_train_all_3_news)\n",
    "nb_all_1_news.fit(X_train_all_1_news, y_train_all_1_news)\n",
    "nb_all_5_news.fit(X_train_all_5_news, y_train_all_5_news)\n",
    "nb_all_3_nonews.fit(X_train_all_3_nonews, y_train_all_3_nonews)\n",
    "\n",
    "# Create prediction from\n",
    "pred_lower_3_news = nb_lower_3_news.predict(X_test_lower_3_news)\n",
    "pred_all_3_news = nb_all_3_news.predict(X_test_all_3_news)\n",
    "pred_all_1_news = nb_all_1_news.predict(X_test_all_1_news)\n",
    "pred_all_5_news = nb_all_5_news.predict(X_test_all_5_news)\n",
    "pred_all_3_nonews = nb_all_3_nonews.predict(X_test_all_3_nonews)\n"
   ]
  },
  {
   "cell_type": "code",
   "execution_count": 304,
   "metadata": {
    "colab": {
     "base_uri": "https://localhost:8080/",
     "height": 517
    },
    "id": "8_UQIsyc28qZ",
    "outputId": "309850bb-c531-4b76-8c3c-4a521f3ffc47"
   },
   "outputs": [
    {
     "name": "stdout",
     "output_type": "stream",
     "text": [
      "Naive Bayes Model\n",
      "(Lowercase | max ngrams = 3 | news dataset included)\n",
      "----------------------------------------------------\n",
      "\n",
      "Accuracy Score: \n",
      "0.6977777777777778\n",
      "\n",
      "F1 Score: \n",
      "0.6984926937638849\n",
      "\n",
      "Confusion Matrix: \n",
      "[[523 290]\n",
      " [254 733]]\n",
      "\n"
     ]
    },
    {
     "data": {
      "image/png": "[encoded data removed]",
      "text/plain": [
       "<Figure size 432x288 with 2 Axes>"
      ]
     },
     "metadata": {
      "needs_background": "light",
      "tags": []
     },
     "output_type": "display_data"
    }
   ],
   "source": [
    "# Return Accuracy scores\n",
    "print(\"Naive Bayes Model\")\n",
    "print(\"(Lowercase | max ngrams = 3 | news dataset included)\")\n",
    "print(\"----------------------------------------------------\\n\")\n",
    "get_accuracy(nb_lower_3_news, \n",
    "             pred_lower_3_news, \n",
    "             y_test_lower_3_news, \n",
    "             X_lower_3_news, \n",
    "             y_lower_3_news)"
   ]
  },
  {
   "cell_type": "code",
   "execution_count": 305,
   "metadata": {
    "colab": {
     "base_uri": "https://localhost:8080/",
     "height": 517
    },
    "id": "MvwLEhmDTqsR",
    "outputId": "6421b655-936f-4445-d440-c7ad70c74088"
   },
   "outputs": [
    {
     "name": "stdout",
     "output_type": "stream",
     "text": [
      "Naive Bayes Model\n",
      "(Max ngrams = 3 | news dataset included)\n",
      "---------------------------------------\n",
      "\n",
      "Accuracy Score: \n",
      "0.6844444444444444\n",
      "\n",
      "F1 Score: \n",
      "0.6848055300433458\n",
      "\n",
      "Confusion Matrix: \n",
      "[[502 292]\n",
      " [276 730]]\n",
      "\n"
     ]
    },
    {
     "data": {
      "image/png": "[encoded data removed]",
      "text/plain": [
       "<Figure size 432x288 with 2 Axes>"
      ]
     },
     "metadata": {
      "needs_background": "light",
      "tags": []
     },
     "output_type": "display_data"
    }
   ],
   "source": [
    "# Return Accuracy scores\n",
    "print(\"Naive Bayes Model\")\n",
    "print(\"(Max ngrams = 3 | news dataset included)\")\n",
    "print(\"---------------------------------------\\n\")\n",
    "get_accuracy(nb_all_3_news, \n",
    "             pred_all_3_news, \n",
    "             y_test_all_3_news, \n",
    "             X_all_3_news, \n",
    "             y_all_3_news)"
   ]
  },
  {
   "cell_type": "code",
   "execution_count": 306,
   "metadata": {
    "colab": {
     "base_uri": "https://localhost:8080/",
     "height": 518
    },
    "id": "-3R1O-35U9Pn",
    "outputId": "506396cd-0ffe-4923-81c0-df5b14a923f6"
   },
   "outputs": [
    {
     "name": "stdout",
     "output_type": "stream",
     "text": [
      "Naive Bayes Model\n",
      "(Max ngrams = 1 | news dataset included)\n",
      "---------------------------------------\n",
      "\n",
      "Accuracy Score: \n",
      "0.7327777777777778\n",
      "\n",
      "F1 Score: \n",
      "0.7249928830273231\n",
      "\n",
      "Confusion Matrix: \n",
      "[[408 154]\n",
      " [327 911]]\n",
      "\n"
     ]
    },
    {
     "data": {
      "image/png": "[encoded data removed]",
      "text/plain": [
       "<Figure size 432x288 with 2 Axes>"
      ]
     },
     "metadata": {
      "needs_background": "light",
      "tags": []
     },
     "output_type": "display_data"
    }
   ],
   "source": [
    "# Return Accuracy scores\n",
    "print(\"Naive Bayes Model\")\n",
    "print(\"(Max ngrams = 1 | news dataset included)\")\n",
    "print(\"---------------------------------------\\n\")\n",
    "get_accuracy(nb_all_1_news, \n",
    "             pred_all_1_news, \n",
    "             y_test_all_1_news, \n",
    "             X_all_1_news, \n",
    "             y_all_1_news)"
   ]
  },
  {
   "cell_type": "code",
   "execution_count": 307,
   "metadata": {
    "colab": {
     "base_uri": "https://localhost:8080/",
     "height": 521
    },
    "id": "lMt9G5e6cxSp",
    "outputId": "c4253e68-8eac-4ef0-c212-498986b348a5"
   },
   "outputs": [
    {
     "name": "stdout",
     "output_type": "stream",
     "text": [
      "Naive Bayes Model\n",
      "(Max ngrams = 5 | news dataset included)\n",
      "---------------------------------------\n",
      "\n",
      "Accuracy Score: \n",
      "0.6755555555555556\n",
      "\n",
      "F1 Score: \n",
      "0.6772122910767775\n",
      "\n",
      "Confusion Matrix: \n",
      "[[515 336]\n",
      " [248 701]]\n",
      "\n"
     ]
    },
    {
     "data": {
      "image/png": "[encoded data removed]",
      "text/plain": [
       "<Figure size 432x288 with 2 Axes>"
      ]
     },
     "metadata": {
      "needs_background": "light",
      "tags": []
     },
     "output_type": "display_data"
    }
   ],
   "source": [
    "# Return Accuracy scores\n",
    "print(\"Naive Bayes Model\")\n",
    "print(\"(Max ngrams = 5 | news dataset included)\")\n",
    "print(\"---------------------------------------\\n\")\n",
    "get_accuracy(nb_all_5_news, \n",
    "             pred_all_5_news, \n",
    "             y_test_all_5_news, \n",
    "             X_all_5_news, \n",
    "             y_all_5_news)"
   ]
  },
  {
   "cell_type": "code",
   "execution_count": 308,
   "metadata": {
    "colab": {
     "base_uri": "https://localhost:8080/",
     "height": 517
    },
    "id": "N-vT1iiWtpxy",
    "outputId": "ad1fafde-92b1-420a-d27e-7fc7574580f6"
   },
   "outputs": [
    {
     "name": "stdout",
     "output_type": "stream",
     "text": [
      "Naive Bayes Model\n",
      "(Max ngrams = 3 | news dataset not included)\n",
      "-------------------------------------------\n",
      "\n",
      "Accuracy Score: \n",
      "0.6844444444444444\n",
      "\n",
      "F1 Score: \n",
      "0.6848055300433458\n",
      "\n",
      "Confusion Matrix: \n",
      "[[502 292]\n",
      " [276 730]]\n",
      "\n"
     ]
    },
    {
     "data": {
      "image/png": "[encoded data removed]",
      "text/plain": [
       "<Figure size 432x288 with 2 Axes>"
      ]
     },
     "metadata": {
      "needs_background": "light",
      "tags": []
     },
     "output_type": "display_data"
    }
   ],
   "source": [
    "# Return Accuracy scores\n",
    "print(\"Naive Bayes Model\")\n",
    "print(\"(Max ngrams = 3 | news dataset not included)\")\n",
    "print(\"-------------------------------------------\\n\")\n",
    "get_accuracy(nb_all_3_news, \n",
    "             pred_all_3_news, \n",
    "             y_test_all_3_news, \n",
    "             X_all_3_news, \n",
    "             y_all_3_news)"
   ]
  },
  {
   "cell_type": "markdown",
   "metadata": {
    "id": "CSl3o0wM3A_p"
   },
   "source": [
    "# Support Vector Machines (Linear)"
   ]
  },
  {
   "cell_type": "code",
   "execution_count": null,
   "metadata": {
    "id": "9Z4PtL4T3GEM"
   },
   "outputs": [],
   "source": [
    "# Create SVM model \n",
    "svm = SVC(kernel = 'linear', C=1)\n",
    "\n",
    "# Train SVM model for CV\n",
    "svm.fit(X_train, y_train)\n",
    "\n",
    "# Create prediction from SVM model\n",
    "svm_pred = svm.predict(X_test)"
   ]
  },
  {
   "cell_type": "code",
   "execution_count": 281,
   "metadata": {
    "id": "I7Q2M9ArnJtN"
   },
   "outputs": [],
   "source": [
    "# Initiate naive Support Vector Machines\n",
    "svm_lower_3_news = SVC(kernel = 'linear', C=1)\n",
    "svm_all_3_news = SVC(kernel = 'linear', C=1)\n",
    "svm_all_1_news = SVC(kernel = 'linear', C=1)\n",
    "svm_all_5_news = SVC(kernel = 'linear', C=1)\n",
    "svm_all_3_nonews = SVC(kernel = 'linear', C=1)\n",
    "\n",
    "# Train naive Bayes models\n",
    "svm_lower_3_news.fit(X_train_lower_3_news, y_train_lower_3_news)\n",
    "svm_all_3_news.fit(X_train_all_3_news, y_train_all_3_news)\n",
    "svm_all_1_news.fit(X_train_all_1_news, y_train_all_1_news)\n",
    "svm_all_5_news.fit(X_train_all_5_news, y_train_all_5_news)\n",
    "svm_all_3_nonews.fit(X_train_all_3_nonews, y_train_all_3_nonews)\n",
    "\n",
    "# Create prediction from\n",
    "pred_lower_3_news = svm_lower_3_news.predict(X_test_lower_3_news)\n",
    "pred_all_3_news = svm_all_3_news.predict(X_test_all_3_news)\n",
    "pred_all_1_news = svm_all_1_news.predict(X_test_all_1_news)\n",
    "pred_all_5_news = svm_all_5_news.predict(X_test_all_5_news)\n",
    "pred_all_3_nonews = svm_all_3_nonews.predict(X_test_all_3_nonews)"
   ]
  },
  {
   "cell_type": "code",
   "execution_count": 282,
   "metadata": {
    "colab": {
     "base_uri": "https://localhost:8080/",
     "height": 503
    },
    "id": "6Oyz_-JI3Jpc",
    "outputId": "64326b9b-29d5-4ef1-f03b-2e7cc7fb42b0"
   },
   "outputs": [
    {
     "name": "stdout",
     "output_type": "stream",
     "text": [
      "SVM Model\n",
      "---------\n",
      "\n",
      "Accuracy Score: \n",
      "0.7013333333333334\n",
      "\n",
      "F1 Score: \n",
      "0.698275444684739\n",
      "\n",
      "Confusion Matrix: \n",
      "[[602 299]\n",
      " [149 450]]\n",
      "\n"
     ]
    },
    {
     "data": {
      "image/png": "[encoded data removed]",
      "text/plain": [
       "<Figure size 432x288 with 2 Axes>"
      ]
     },
     "metadata": {
      "needs_background": "light",
      "tags": []
     },
     "output_type": "display_data"
    }
   ],
   "source": [
    "# Return Accuracy scores \n",
    "print(\"SVM Model\")\n",
    "print(\"---------\\n\")\n",
    "get_accuracy(svm_lower_3_news, pred_lower_3_news, y_test_lower_3_news, X_lower_3_news, y_lower_3_news)"
   ]
  },
  {
   "cell_type": "code",
   "execution_count": 283,
   "metadata": {
    "colab": {
     "base_uri": "https://localhost:8080/",
     "height": 500
    },
    "id": "Ce1UDKUhn8Ay",
    "outputId": "98f41630-a7e1-4683-8140-e78afe0812f3"
   },
   "outputs": [
    {
     "name": "stdout",
     "output_type": "stream",
     "text": [
      "SVM Model\n",
      "---------\n",
      "\n",
      "Accuracy Score: \n",
      "0.6933333333333334\n",
      "\n",
      "F1 Score: \n",
      "0.6918000000000001\n",
      "\n",
      "Confusion Matrix: \n",
      "[[570 286]\n",
      " [174 470]]\n",
      "\n"
     ]
    },
    {
     "data": {
      "image/png": "[encoded data removed]",
      "text/plain": [
       "<Figure size 432x288 with 2 Axes>"
      ]
     },
     "metadata": {
      "needs_background": "light",
      "tags": []
     },
     "output_type": "display_data"
    }
   ],
   "source": [
    "# Return Accuracy scores \n",
    "print(\"SVM Model\")\n",
    "print(\"---------\\n\")\n",
    "get_accuracy(svm_all_3_news, pred_all_3_news, y_test_all_3_news, X_all_3_news, y_all_3_news)"
   ]
  },
  {
   "cell_type": "code",
   "execution_count": 284,
   "metadata": {
    "colab": {
     "base_uri": "https://localhost:8080/",
     "height": 500
    },
    "id": "4bm7JJMVoM87",
    "outputId": "29701bc9-60b5-43e1-ffb0-2b7b88de171a"
   },
   "outputs": [
    {
     "name": "stdout",
     "output_type": "stream",
     "text": [
      "SVM Model\n",
      "---------\n",
      "\n",
      "Accuracy Score: \n",
      "0.7073333333333334\n",
      "\n",
      "F1 Score: \n",
      "0.7062997327794726\n",
      "\n",
      "Confusion Matrix: \n",
      "[[576 263]\n",
      " [176 485]]\n",
      "\n"
     ]
    },
    {
     "data": {
      "image/png": "[encoded data removed]",
      "text/plain": [
       "<Figure size 432x288 with 2 Axes>"
      ]
     },
     "metadata": {
      "needs_background": "light",
      "tags": []
     },
     "output_type": "display_data"
    }
   ],
   "source": [
    "# Return Accuracy scores \n",
    "print(\"SVM Model\")\n",
    "print(\"---------\\n\")\n",
    "get_accuracy(svm_all_1_news, pred_all_1_news, y_test_all_1_news, X_all_1_news, y_all_1_news)"
   ]
  },
  {
   "cell_type": "code",
   "execution_count": 285,
   "metadata": {
    "colab": {
     "base_uri": "https://localhost:8080/",
     "height": 500
    },
    "id": "f9z9PpCjoOL7",
    "outputId": "c0c20efa-7352-40c7-b556-5799ad1443b4"
   },
   "outputs": [
    {
     "name": "stdout",
     "output_type": "stream",
     "text": [
      "SVM Model\n",
      "---------\n",
      "\n",
      "Accuracy Score: \n",
      "0.7006666666666667\n",
      "\n",
      "F1 Score: \n",
      "0.6999362021272191\n",
      "\n",
      "Confusion Matrix: \n",
      "[[557 268]\n",
      " [181 494]]\n",
      "\n"
     ]
    },
    {
     "data": {
      "image/png": "[encoded data removed]",
      "text/plain": [
       "<Figure size 432x288 with 2 Axes>"
      ]
     },
     "metadata": {
      "needs_background": "light",
      "tags": []
     },
     "output_type": "display_data"
    }
   ],
   "source": [
    "# Return Accuracy scores \n",
    "print(\"SVM Model\")\n",
    "print(\"---------\\n\")\n",
    "get_accuracy(svm_all_5_news, pred_all_5_news, y_test_all_5_news, X_all_5_news, y_all_5_news)"
   ]
  },
  {
   "cell_type": "code",
   "execution_count": 309,
   "metadata": {
    "colab": {
     "base_uri": "https://localhost:8080/",
     "height": 500
    },
    "id": "Eu4T9VomoPGG",
    "outputId": "14b5756e-02bf-4190-a7ea-71c8516fdfdf"
   },
   "outputs": [
    {
     "name": "stdout",
     "output_type": "stream",
     "text": [
      "SVM Model\n",
      "---------\n",
      "\n",
      "Accuracy Score: \n",
      "0.6694444444444444\n",
      "\n",
      "F1 Score: \n",
      "0.6723698048358226\n",
      "\n",
      "Confusion Matrix: \n",
      "[[486 358]\n",
      " [237 719]]\n",
      "\n"
     ]
    },
    {
     "data": {
      "image/png": "[encoded data removed]",
      "text/plain": [
       "<Figure size 432x288 with 2 Axes>"
      ]
     },
     "metadata": {
      "needs_background": "light",
      "tags": []
     },
     "output_type": "display_data"
    }
   ],
   "source": [
    "# Return Accuracy scores \n",
    "print(\"SVM Model\")\n",
    "print(\"---------\\n\")\n",
    "get_accuracy(svm_all_3_nonews, pred_all_3_nonews, y_test_all_3_nonews, X_all_3_nonews, y_all_3_nonews)"
   ]
  },
  {
   "cell_type": "markdown",
   "metadata": {
    "id": "cSmv7katFWqw"
   },
   "source": [
    "## cross validation scores for models including RandomForest, SVM, and NB (cv data)"
   ]
  },
  {
   "cell_type": "code",
   "execution_count": null,
   "metadata": {
    "id": "Pk8xDkmCFWqw",
    "outputId": "ba3a4986-1320-4aea-adaf-73cf0dde5fe9"
   },
   "outputs": [
    {
     "data": {
      "text/plain": [
       "0.6774"
      ]
     },
     "execution_count": 95,
     "metadata": {
      "tags": []
     },
     "output_type": "execute_result"
    }
   ],
   "source": [
    "score1 =cross_val_score(LogisticRegression(solver='liblinear',multi_class='ovr'),X, y,cv=5)\n",
    "np.average(score1)"
   ]
  },
  {
   "cell_type": "code",
   "execution_count": null,
   "metadata": {
    "id": "LCjaBheZFWqw",
    "outputId": "86b470e1-2779-4077-b637-519a6656ec0e"
   },
   "outputs": [
    {
     "data": {
      "text/plain": [
       "0.6066"
      ]
     },
     "execution_count": 69,
     "metadata": {
      "tags": []
     },
     "output_type": "execute_result"
    }
   ],
   "source": [
    "# Support Vector Classification cross validation\n",
    "score2=cross_val_score(SVC(gamma='auto'), X, y,cv=5)\n",
    "np.average(score2)"
   ]
  },
  {
   "cell_type": "code",
   "execution_count": null,
   "metadata": {
    "id": "KVOGkKizFWqx",
    "outputId": "d35affb9-10c1-494e-b024-9efaa49d8439"
   },
   "outputs": [
    {
     "data": {
      "text/plain": [
       "0.6245999999999999"
      ]
     },
     "execution_count": 73,
     "metadata": {
      "tags": []
     },
     "output_type": "execute_result"
    }
   ],
   "source": [
    "# Random Forest Classifier cross validation\n",
    "score3=cross_val_score(RandomForestClassifier(n_estimators=40),X, y,cv=5)\n",
    "np.average(score3)"
   ]
  },
  {
   "cell_type": "code",
   "execution_count": null,
   "metadata": {
    "id": "-G9TwQQIFWqx",
    "outputId": "52f85685-9374-4910-910a-67165209fd42"
   },
   "outputs": [
    {
     "data": {
      "text/plain": [
       "0.6534000000000001"
      ]
     },
     "execution_count": 74,
     "metadata": {
      "tags": []
     },
     "output_type": "execute_result"
    }
   ],
   "source": [
    "# Naive Bayes - Multinomial cross validation\n",
    "score8=cross_val_score(MultinomialNB(),X, y,cv=5)\n",
    "np.average(score8)"
   ]
  },
  {
   "cell_type": "markdown",
   "metadata": {
    "id": "ELisMuB7FWqx"
   },
   "source": [
    "## Cross validation scores including RandomForest, SVM, and NB (TFIDF)"
   ]
  },
  {
   "cell_type": "code",
   "execution_count": null,
   "metadata": {
    "id": "PAjTvSXJFWqx",
    "outputId": "c6e7de71-a0f2-4d0c-f8af-8ac5b0f910d0"
   },
   "outputs": [
    {
     "data": {
      "text/plain": [
       "0.648"
      ]
     },
     "execution_count": 91,
     "metadata": {
      "tags": []
     },
     "output_type": "execute_result"
    }
   ],
   "source": [
    "#Tfid regression model\n",
    "score4 =cross_val_score(LogisticRegression(solver='liblinear',multi_class='ovr'),X2, y2,cv=5)\n",
    "np.average(score4)"
   ]
  },
  {
   "cell_type": "code",
   "execution_count": null,
   "metadata": {
    "id": "NHR9GcBPFWqy",
    "outputId": "590cffdc-ed87-4fa3-c60c-e6148996edc7"
   },
   "outputs": [
    {
     "data": {
      "text/plain": [
       "0.5012000000000001"
      ]
     },
     "execution_count": 92,
     "metadata": {
      "tags": []
     },
     "output_type": "execute_result"
    }
   ],
   "source": [
    "#Tfid SVM\n",
    "score5=cross_val_score(SVC(gamma='auto'), X2, y2,cv=5)\n",
    "np.average(score5)"
   ]
  },
  {
   "cell_type": "code",
   "execution_count": null,
   "metadata": {
    "id": "5B6jD7EhFWqy",
    "outputId": "3d9ab85e-2581-404f-b224-d1021b7a47dc"
   },
   "outputs": [
    {
     "data": {
      "text/plain": [
       "0.6228"
      ]
     },
     "execution_count": 93,
     "metadata": {
      "tags": []
     },
     "output_type": "execute_result"
    }
   ],
   "source": [
    "# Tfid RandomForest\n",
    "score6=cross_val_score(RandomForestClassifier(n_estimators=40),X2, y2,cv=5)\n",
    "np.average(score6)"
   ]
  },
  {
   "cell_type": "code",
   "execution_count": null,
   "metadata": {
    "id": "42237gMsFWqy",
    "outputId": "dc04486e-cdd9-4bb3-8393-2b8db72a7b63"
   },
   "outputs": [
    {
     "data": {
      "text/plain": [
       "0.6674"
      ]
     },
     "execution_count": 90,
     "metadata": {
      "tags": []
     },
     "output_type": "execute_result"
    }
   ],
   "source": [
    "# Tfid Naive Bayes\n",
    "score7=cross_val_score(MultinomialNB(),X2, y2,cv=5)\n",
    "np.average(score7)"
   ]
  },
  {
   "cell_type": "code",
   "execution_count": null,
   "metadata": {
    "id": "XtRlHFc4FWqy"
   },
   "outputs": [],
   "source": [
    "# Save model and accuracy information for plotting model scores\n",
    "model =['LogisticRegression_CV','SVM_CV', 'RandomForest_CV','NaiveBayes_CV','LogisticRegression_TF','SVM_TF', 'RandomForest_TF','NaiveBayes_TF']\n",
    "accuracy =[np.average(score1),np.average(score2),np.average(score3),np.average(score8),np.average(score4),np.average(score5),np.average(score6),np.average(score7)]"
   ]
  },
  {
   "cell_type": "code",
   "execution_count": null,
   "metadata": {
    "id": "d7vo2K8ZFWqy",
    "outputId": "aba4d6a6-4cba-45a7-989e-d548800ecb3d"
   },
   "outputs": [
    {
     "name": "stderr",
     "output_type": "stream",
     "text": [
      "C:\\Users\\Susan Rico\\Anaconda3\\lib\\site-packages\\ipykernel_launcher.py:4: MatplotlibDeprecationWarning: Using a string of single character colors as a color sequence is deprecated since 3.2 and will be removed two minor releases later. Use an explicit list instead.\n",
      "  after removing the cwd from sys.path.\n"
     ]
    },
    {
     "data": {
      "text/plain": [
       "Text(0.5, 0, 'Models')"
      ]
     },
     "execution_count": 101,
     "metadata": {
      "tags": []
     },
     "output_type": "execute_result"
    },
    {
     "data": {
      "image/png": "[encoded data removed]",
      "text/plain": [
       "<Figure size 1080x360 with 1 Axes>"
      ]
     },
     "metadata": {
      "needs_background": "light",
      "tags": []
     },
     "output_type": "display_data"
    }
   ],
   "source": [
    "# Plot scores\n",
    "my_colors = 'rgbkymc' \n",
    "plt.figure(figsize=(15,5))\n",
    "plt.bar(model, accuracy,color=my_colors)\n",
    "plt.xticks(rotation=40)\n",
    "plt.title(\"Model Accuracy Comparison\")\n",
    "plt.ylabel('Percent Accuracy')\n",
    "plt.xlabel('Models')\n",
    "\n"
   ]
  },
  {
   "cell_type": "markdown",
   "metadata": {
    "id": "8d2E5sVV7Cya"
   },
   "source": [
    "# Top Feature"
   ]
  },
  {
   "cell_type": "markdown",
   "metadata": {
    "id": "uNGQG15cFWqz"
   },
   "source": [
    "## Look at top features for Naive Bayes Model"
   ]
  },
  {
   "cell_type": "code",
   "execution_count": null,
   "metadata": {
    "id": "C1Umzo8ZFWqz"
   },
   "outputs": [],
   "source": [
    "# Save our features\n",
    "features = np.array(cv.get_feature_names())"
   ]
  },
  {
   "cell_type": "code",
   "execution_count": null,
   "metadata": {
    "id": "9XL6RRG7FWqz"
   },
   "outputs": [],
   "source": [
    "#Look at top features for the NAIVE BAYES model\n",
    "non_sarcasm_coeffs = pd.DataFrame({'feature': features, 'coeff': nb.feature_log_prob_[0]})\n",
    "sarcasm_coeffs = pd.DataFrame({'feature': features, 'coeff': nb.feature_log_prob_[1]})"
   ]
  },
  {
   "cell_type": "code",
   "execution_count": null,
   "metadata": {
    "id": "fGpWeCCwFWqz"
   },
   "outputs": [],
   "source": [
    "# Look at top 50 features for both candidates\n",
    "# (Log probability, so very high probability corresponds to negative values closer to zero)\n",
    "non_sarcasm_top = non_sarcasm_coeffs.sort_values('coeff').tail(50)\n",
    "sarcasm_top = sarcasm_coeffs.sort_values('coeff').tail(50)\n",
    "\n"
   ]
  },
  {
   "cell_type": "code",
   "execution_count": null,
   "metadata": {
    "id": "eB0DXyicFWq0"
   },
   "outputs": [],
   "source": [
    "# Get top unique features by taking the symmetric difference of the top 50 for the two candidates\n",
    "top_unique = list(set(non_sarcasm_top['feature']).symmetric_difference(set(sarcasm_top['feature'])))\n",
    "\n"
   ]
  },
  {
   "cell_type": "code",
   "execution_count": null,
   "metadata": {
    "id": "dIRgflV6FWq0"
   },
   "outputs": [],
   "source": [
    "# Get the key features for each candidate by finding the top ones in the unique list\n",
    "non_sarcasm_key_features = non_sarcasm_top[non_sarcasm_top.apply(lambda x: x['feature'] in top_unique, axis=1)].head(30)\n",
    "non_sarcasm_key_features.reset_index(drop=True, inplace=True)\n",
    "\n",
    "sarcasm_key_features = sarcasm_top[sarcasm_top.apply(lambda x: x['feature'] in top_unique, axis=1)].head(30)\n",
    "sarcasm_key_features.reset_index(drop=True, inplace=True)\n",
    "\n",
    "\n"
   ]
  },
  {
   "cell_type": "code",
   "execution_count": null,
   "metadata": {
    "id": "Ooc9ir8TFWq0",
    "outputId": "fa9016cb-cd3d-4fa6-a75a-3ccff377f71c"
   },
   "outputs": [
    {
     "data": {
      "image/png": "[encoded data removed]",
      "text/plain": [
       "<Figure size 1440x720 with 2 Axes>"
      ]
     },
     "metadata": {
      "needs_background": "light",
      "tags": []
     },
     "output_type": "display_data"
    }
   ],
   "source": [
    "# Show these top features for each category along with their log probabilities\n",
    "fig, axs = plt.subplots(nrows=1, ncols=2, figsize=[20,10])\n",
    "axs[0].barh(sarcasm_key_features['feature'], width=sarcasm_key_features['coeff'], height=1, color='red')\n",
    "axs[0].set_title('Key Features for Sarcasm')\n",
    "axs[0].set_xlabel('Feature Log Probability')\n",
    "axs[1].barh(non_sarcasm_key_features['feature'], width=non_sarcasm_key_features['coeff'], height=1, color='blue')\n",
    "axs[1].set_title('Key Features for Non-Sarcasm')\n",
    "axs[1].set_xlabel('Feature Log Probability')\n",
    "plt.show()\n"
   ]
  },
  {
   "cell_type": "markdown",
   "metadata": {
    "id": "6Ge1VAkoFWq0"
   },
   "source": [
    "## Top Feature for SVM Model"
   ]
  },
  {
   "cell_type": "code",
   "execution_count": null,
   "metadata": {
    "id": "V9C3AxbBFWq0",
    "outputId": "4f9744cb-df9b-47af-c538-9f925f04591c"
   },
   "outputs": [
    {
     "name": "stdout",
     "output_type": "stream",
     "text": [
      "[286 381 281 545 479 566 256 206 129 368]\n",
      "[919 445 649 915  92 753 513 631 231 299]\n"
     ]
    },
    {
     "data": {
      "image/png": "[encoded data removed]",
      "text/plain": [
       "<Figure size 1080x360 with 1 Axes>"
      ]
     },
     "metadata": {
      "needs_background": "light",
      "tags": []
     },
     "output_type": "display_data"
    }
   ],
   "source": [
    "def plot_coefficients(MODEL=svm, COLNAMES=X_train.columns, top_features=10):\n",
    "    ## Model if SVM MUST be SVC, RE: SVM_Model=LinearSVC(C=10)\n",
    "    coef = svm.coef_.ravel()\n",
    "    top_positive_coefficients = np.argsort(coef,axis=0)[-top_features:]\n",
    "    print(top_positive_coefficients)\n",
    "    top_negative_coefficients = np.argsort(coef,axis=0)[:top_features]\n",
    "    print(top_negative_coefficients)\n",
    "    top_coefficients = np.hstack([top_negative_coefficients, top_positive_coefficients])\n",
    "    # create plot\n",
    "    plt.figure(figsize=(15, 5))\n",
    "    colors = [\"red\" if c < 0 else \"blue\" for c in coef[top_coefficients]]\n",
    "    plt.bar(  x=  np.arange(2 * top_features)  , height=coef[top_coefficients], width=.5,  color=colors)\n",
    "    feature_names = np.array(COLNAMES)\n",
    "    plt.xticks(np.arange(0, (2*top_features)), feature_names[top_coefficients], rotation=60, ha=\"right\")\n",
    "    plt.show()\n",
    "    \n",
    "\n",
    "plot_coefficients()"
   ]
  },
  {
   "cell_type": "code",
   "execution_count": null,
   "metadata": {
    "id": "rnDeA5kAFWq1"
   },
   "outputs": [],
   "source": []
  }
 ],
 "metadata": {
  "colab": {
   "collapsed_sections": [],
   "name": "sarcasm_final_code_dp.ipynb",
   "provenance": []
  },
  "kernelspec": {
   "display_name": "Python 3",
   "language": "python",
   "name": "python3"
  },
  "language_info": {
   "codemirror_mode": {
    "name": "ipython",
    "version": 3
   },
   "file_extension": ".py",
   "mimetype": "text/x-python",
   "name": "python",
   "nbconvert_exporter": "python",
   "pygments_lexer": "ipython3",
   "version": "3.7.6"
  }
 },
 "nbformat": 4,
 "nbformat_minor": 1
}
